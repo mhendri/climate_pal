{
 "cells": [
  {
   "cell_type": "code",
   "execution_count": 1,
   "metadata": {},
   "outputs": [
    {
     "data": {
      "text/html": [
       "<div>\n",
       "<style scoped>\n",
       "    .dataframe tbody tr th:only-of-type {\n",
       "        vertical-align: middle;\n",
       "    }\n",
       "\n",
       "    .dataframe tbody tr th {\n",
       "        vertical-align: top;\n",
       "    }\n",
       "\n",
       "    .dataframe thead th {\n",
       "        text-align: right;\n",
       "    }\n",
       "</style>\n",
       "<table border=\"1\" class=\"dataframe\">\n",
       "  <thead>\n",
       "    <tr style=\"text-align: right;\">\n",
       "      <th></th>\n",
       "      <th>query</th>\n",
       "      <th>variable</th>\n",
       "      <th>temporal resolution</th>\n",
       "      <th>start year</th>\n",
       "      <th>end year</th>\n",
       "      <th>MIP</th>\n",
       "      <th>experiment</th>\n",
       "    </tr>\n",
       "  </thead>\n",
       "  <tbody>\n",
       "    <tr>\n",
       "      <th>0</th>\n",
       "      <td>What is a relevant variable for surface air te...</td>\n",
       "      <td>tas</td>\n",
       "      <td>NaN</td>\n",
       "      <td>NaN</td>\n",
       "      <td>NaN</td>\n",
       "      <td>NaN</td>\n",
       "      <td>NaN</td>\n",
       "    </tr>\n",
       "    <tr>\n",
       "      <th>1</th>\n",
       "      <td>What variable can help me understand summer Ar...</td>\n",
       "      <td>siconca</td>\n",
       "      <td>NaN</td>\n",
       "      <td>NaN</td>\n",
       "      <td>NaN</td>\n",
       "      <td>NaN</td>\n",
       "      <td>NaN</td>\n",
       "    </tr>\n",
       "    <tr>\n",
       "      <th>2</th>\n",
       "      <td>What are some datasets relevant to extreme wea...</td>\n",
       "      <td>pr, ua, etc</td>\n",
       "      <td>NaN</td>\n",
       "      <td>NaN</td>\n",
       "      <td>NaN</td>\n",
       "      <td>NaN</td>\n",
       "      <td>NaN</td>\n",
       "    </tr>\n",
       "    <tr>\n",
       "      <th>3</th>\n",
       "      <td>Plot the 10, 20, 50, and 100 yr return period ...</td>\n",
       "      <td>pr</td>\n",
       "      <td>day</td>\n",
       "      <td>NaN</td>\n",
       "      <td>NaN</td>\n",
       "      <td>historical</td>\n",
       "      <td>NaN</td>\n",
       "    </tr>\n",
       "    <tr>\n",
       "      <th>4</th>\n",
       "      <td>Show me all the times where Ames Iowa has more...</td>\n",
       "      <td>tas</td>\n",
       "      <td>day</td>\n",
       "      <td>1980.0</td>\n",
       "      <td>2014.0</td>\n",
       "      <td>CMIP</td>\n",
       "      <td>historical</td>\n",
       "    </tr>\n",
       "  </tbody>\n",
       "</table>\n",
       "</div>"
      ],
      "text/plain": [
       "                                               query     variable  \\\n",
       "0  What is a relevant variable for surface air te...          tas   \n",
       "1  What variable can help me understand summer Ar...      siconca   \n",
       "2  What are some datasets relevant to extreme wea...  pr, ua, etc   \n",
       "3  Plot the 10, 20, 50, and 100 yr return period ...           pr   \n",
       "4  Show me all the times where Ames Iowa has more...          tas   \n",
       "\n",
       "  temporal resolution  start year  end year         MIP  experiment  \n",
       "0                 NaN         NaN       NaN         NaN         NaN  \n",
       "1                 NaN         NaN       NaN         NaN         NaN  \n",
       "2                 NaN         NaN       NaN         NaN         NaN  \n",
       "3                 day         NaN       NaN  historical         NaN  \n",
       "4                 day      1980.0    2014.0        CMIP  historical  "
      ]
     },
     "execution_count": 1,
     "metadata": {},
     "output_type": "execute_result"
    }
   ],
   "source": [
    "import pandas as pd\n",
    "import numpy as np\n",
    "import os\n",
    "from langchain_openai import ChatOpenAI\n",
    "from langchain_core.prompts import ChatPromptTemplate\n",
    "from copy import deepcopy as dc\n",
    "import transformers\n",
    "from tqdm.notebook import tqdm\n",
    "from torch.utils.data import DataLoader\n",
    "from torch import cat\n",
    "from langchain_openai import OpenAIEmbeddings\n",
    "from sklearn.metrics.pairwise import cosine_similarity\n",
    "\n",
    "if not os.environ.get(\"OPENAI_API_KEY\"):\n",
    "    import key\n",
    "    key.init()\n",
    "assert os.environ.get('OPENAI_API_KEY')\n",
    "\n",
    "path_human = './eval_data/human_aug21.xlsx'\n",
    "n = 5 # number of rewordings to do\n",
    "temp = 0\n",
    "model = 'gpt-4o'\n",
    "\n",
    "human = pd.read_excel(path_human).drop(['annotator', 'src'], axis=1)\n",
    "human.head()"
   ]
  },
  {
   "cell_type": "code",
   "execution_count": 2,
   "metadata": {},
   "outputs": [
    {
     "data": {
      "text/plain": [
       "0            NaN\n",
       "1            NaN\n",
       "2            NaN\n",
       "3            NaN\n",
       "4     historical\n",
       "5            NaN\n",
       "6            NaN\n",
       "7            NaN\n",
       "8           amip\n",
       "9            NaN\n",
       "10           NaN\n",
       "11        ssp585\n",
       "12           NaN\n",
       "13           NaN\n",
       "14           NaN\n",
       "15           NaN\n",
       "16        ssp245\n",
       "17    historical\n",
       "18        ssp245\n",
       "19           NaN\n",
       "20    historical\n",
       "21    historical\n",
       "22        ssp245\n",
       "23        ssp370\n",
       "24    historical\n",
       "25        ssp370\n",
       "26    historical\n",
       "27        ssp585\n",
       "28        ssp370\n",
       "29    historical\n",
       "30        ssp126\n",
       "31    historical\n",
       "32        ssp370\n",
       "33    historical\n",
       "34        ssp370\n",
       "Name: experiment, dtype: object"
      ]
     },
     "execution_count": 2,
     "metadata": {},
     "output_type": "execute_result"
    }
   ],
   "source": [
    "human['experiment']"
   ]
  },
  {
   "cell_type": "code",
   "execution_count": 3,
   "metadata": {},
   "outputs": [
    {
     "data": {
      "text/html": [
       "<div>\n",
       "<style scoped>\n",
       "    .dataframe tbody tr th:only-of-type {\n",
       "        vertical-align: middle;\n",
       "    }\n",
       "\n",
       "    .dataframe tbody tr th {\n",
       "        vertical-align: top;\n",
       "    }\n",
       "\n",
       "    .dataframe thead th {\n",
       "        text-align: right;\n",
       "    }\n",
       "</style>\n",
       "<table border=\"1\" class=\"dataframe\">\n",
       "  <thead>\n",
       "    <tr style=\"text-align: right;\">\n",
       "      <th></th>\n",
       "      <th>start year</th>\n",
       "      <th>end year</th>\n",
       "    </tr>\n",
       "  </thead>\n",
       "  <tbody>\n",
       "    <tr>\n",
       "      <th>count</th>\n",
       "      <td>29.000000</td>\n",
       "      <td>27.000000</td>\n",
       "    </tr>\n",
       "    <tr>\n",
       "      <th>mean</th>\n",
       "      <td>2011.482759</td>\n",
       "      <td>1978.185185</td>\n",
       "    </tr>\n",
       "    <tr>\n",
       "      <th>std</th>\n",
       "      <td>70.623054</td>\n",
       "      <td>357.505787</td>\n",
       "    </tr>\n",
       "    <tr>\n",
       "      <th>min</th>\n",
       "      <td>1850.000000</td>\n",
       "      <td>205.000000</td>\n",
       "    </tr>\n",
       "    <tr>\n",
       "      <th>25%</th>\n",
       "      <td>1974.000000</td>\n",
       "      <td>2012.000000</td>\n",
       "    </tr>\n",
       "    <tr>\n",
       "      <th>50%</th>\n",
       "      <td>2020.000000</td>\n",
       "      <td>2050.000000</td>\n",
       "    </tr>\n",
       "    <tr>\n",
       "      <th>75%</th>\n",
       "      <td>2070.000000</td>\n",
       "      <td>2079.500000</td>\n",
       "    </tr>\n",
       "    <tr>\n",
       "      <th>max</th>\n",
       "      <td>2100.000000</td>\n",
       "      <td>2100.000000</td>\n",
       "    </tr>\n",
       "  </tbody>\n",
       "</table>\n",
       "</div>"
      ],
      "text/plain": [
       "        start year     end year\n",
       "count    29.000000    27.000000\n",
       "mean   2011.482759  1978.185185\n",
       "std      70.623054   357.505787\n",
       "min    1850.000000   205.000000\n",
       "25%    1974.000000  2012.000000\n",
       "50%    2020.000000  2050.000000\n",
       "75%    2070.000000  2079.500000\n",
       "max    2100.000000  2100.000000"
      ]
     },
     "execution_count": 3,
     "metadata": {},
     "output_type": "execute_result"
    }
   ],
   "source": [
    "human.describe()"
   ]
  },
  {
   "cell_type": "code",
   "execution_count": 4,
   "metadata": {},
   "outputs": [
    {
     "data": {
      "text/html": [
       "<div>\n",
       "<style scoped>\n",
       "    .dataframe tbody tr th:only-of-type {\n",
       "        vertical-align: middle;\n",
       "    }\n",
       "\n",
       "    .dataframe tbody tr th {\n",
       "        vertical-align: top;\n",
       "    }\n",
       "\n",
       "    .dataframe thead th {\n",
       "        text-align: right;\n",
       "    }\n",
       "</style>\n",
       "<table border=\"1\" class=\"dataframe\">\n",
       "  <thead>\n",
       "    <tr style=\"text-align: right;\">\n",
       "      <th></th>\n",
       "      <th>query</th>\n",
       "      <th>variable</th>\n",
       "      <th>temporal resolution</th>\n",
       "      <th>start year</th>\n",
       "      <th>end year</th>\n",
       "      <th>MIP</th>\n",
       "      <th>experiment</th>\n",
       "    </tr>\n",
       "  </thead>\n",
       "  <tbody>\n",
       "    <tr>\n",
       "      <th>count</th>\n",
       "      <td>35</td>\n",
       "      <td>35</td>\n",
       "      <td>35</td>\n",
       "      <td>35</td>\n",
       "      <td>35</td>\n",
       "      <td>35</td>\n",
       "      <td>35</td>\n",
       "    </tr>\n",
       "    <tr>\n",
       "      <th>unique</th>\n",
       "      <td>1</td>\n",
       "      <td>1</td>\n",
       "      <td>2</td>\n",
       "      <td>2</td>\n",
       "      <td>2</td>\n",
       "      <td>2</td>\n",
       "      <td>2</td>\n",
       "    </tr>\n",
       "    <tr>\n",
       "      <th>top</th>\n",
       "      <td>False</td>\n",
       "      <td>False</td>\n",
       "      <td>False</td>\n",
       "      <td>False</td>\n",
       "      <td>False</td>\n",
       "      <td>False</td>\n",
       "      <td>False</td>\n",
       "    </tr>\n",
       "    <tr>\n",
       "      <th>freq</th>\n",
       "      <td>35</td>\n",
       "      <td>35</td>\n",
       "      <td>29</td>\n",
       "      <td>29</td>\n",
       "      <td>27</td>\n",
       "      <td>30</td>\n",
       "      <td>21</td>\n",
       "    </tr>\n",
       "  </tbody>\n",
       "</table>\n",
       "</div>"
      ],
      "text/plain": [
       "        query variable temporal resolution start year end year    MIP  \\\n",
       "count      35       35                  35         35       35     35   \n",
       "unique      1        1                   2          2        2      2   \n",
       "top     False    False               False      False    False  False   \n",
       "freq       35       35                  29         29       27     30   \n",
       "\n",
       "       experiment  \n",
       "count          35  \n",
       "unique          2  \n",
       "top         False  \n",
       "freq           21  "
      ]
     },
     "execution_count": 4,
     "metadata": {},
     "output_type": "execute_result"
    }
   ],
   "source": [
    "human.isna().describe()"
   ]
  },
  {
   "cell_type": "markdown",
   "metadata": {},
   "source": [
    "# Augmentation"
   ]
  },
  {
   "cell_type": "code",
   "execution_count": 5,
   "metadata": {},
   "outputs": [],
   "source": [
    "# temporal frequency agent\n",
    "temporalmsg = f\"\"\"Reword the following sentence {n} different ways \n",
    "without changing meaning. Return each rewording on a new line \n",
    "with no additional markings (bullet points, dashes, etc.)\n",
    "\"\"\"\n",
    "temporalprompt = ChatPromptTemplate.from_messages([('system', temporalmsg), ('human', '{question}')])\n",
    "llm=ChatOpenAI(temperature=temp, model=model, )\n",
    "temporalagent = temporalprompt | llm \n",
    "# print(temporalagent.invoke('plot average yearly rainfall 2010-2014').content)"
   ]
  },
  {
   "cell_type": "code",
   "execution_count": 6,
   "metadata": {},
   "outputs": [
    {
     "name": "stdout",
     "output_type": "stream",
     "text": [
      "0\n",
      "1\n",
      "2\n",
      "3\n",
      "4\n",
      "5\n",
      "6\n",
      "7\n",
      "8\n",
      "9\n",
      "10\n",
      "11\n",
      "12\n",
      "13\n",
      "14\n",
      "15\n",
      "16\n",
      "17\n",
      "18\n",
      "19\n",
      "20\n",
      "21\n",
      "22\n",
      "23\n",
      "24\n",
      "25\n",
      "26\n",
      "27\n",
      "28\n",
      "29\n",
      "30\n",
      "31\n",
      "32\n",
      "33\n",
      "34\n"
     ]
    }
   ],
   "source": [
    "dfs = [] # will have 1 df per human query, containing its rephrases\n",
    "for i, row in human.iterrows():\n",
    "    print(i)\n",
    "    qrows = []\n",
    "    query = row['query']\n",
    "    rewords = temporalagent.invoke(query).content.split('\\n')\n",
    "    if len(rewords) != n:\n",
    "        print(f'query has {len(rewords)}:', query)\n",
    "\n",
    "    newrows = pd.DataFrame([dc(row) for j in range(n+1)]).reset_index(drop=True)\n",
    "    newrows['id'] = newrows.apply(lambda x: str(i)+'.'+str(x.name), axis=1)\n",
    "    newrows.loc[1:, 'query'] = rewords\n",
    "    dfs.append(newrows)"
   ]
  },
  {
   "cell_type": "code",
   "execution_count": 7,
   "metadata": {},
   "outputs": [
    {
     "data": {
      "text/html": [
       "<div>\n",
       "<style scoped>\n",
       "    .dataframe tbody tr th:only-of-type {\n",
       "        vertical-align: middle;\n",
       "    }\n",
       "\n",
       "    .dataframe tbody tr th {\n",
       "        vertical-align: top;\n",
       "    }\n",
       "\n",
       "    .dataframe thead th {\n",
       "        text-align: right;\n",
       "    }\n",
       "</style>\n",
       "<table border=\"1\" class=\"dataframe\">\n",
       "  <thead>\n",
       "    <tr style=\"text-align: right;\">\n",
       "      <th></th>\n",
       "      <th>query</th>\n",
       "      <th>variable</th>\n",
       "      <th>temporal resolution</th>\n",
       "      <th>start year</th>\n",
       "      <th>end year</th>\n",
       "      <th>MIP</th>\n",
       "      <th>experiment</th>\n",
       "      <th>id</th>\n",
       "    </tr>\n",
       "  </thead>\n",
       "  <tbody>\n",
       "    <tr>\n",
       "      <th>0</th>\n",
       "      <td>What is a relevant variable for surface air te...</td>\n",
       "      <td>tas</td>\n",
       "      <td>NaN</td>\n",
       "      <td>NaN</td>\n",
       "      <td>NaN</td>\n",
       "      <td>NaN</td>\n",
       "      <td>NaN</td>\n",
       "      <td>0.0</td>\n",
       "    </tr>\n",
       "    <tr>\n",
       "      <th>1</th>\n",
       "      <td>Which variable is pertinent to surface air tem...</td>\n",
       "      <td>tas</td>\n",
       "      <td>NaN</td>\n",
       "      <td>NaN</td>\n",
       "      <td>NaN</td>\n",
       "      <td>NaN</td>\n",
       "      <td>NaN</td>\n",
       "      <td>0.1</td>\n",
       "    </tr>\n",
       "    <tr>\n",
       "      <th>2</th>\n",
       "      <td>What factor is significant for surface air tem...</td>\n",
       "      <td>tas</td>\n",
       "      <td>NaN</td>\n",
       "      <td>NaN</td>\n",
       "      <td>NaN</td>\n",
       "      <td>NaN</td>\n",
       "      <td>NaN</td>\n",
       "      <td>0.2</td>\n",
       "    </tr>\n",
       "    <tr>\n",
       "      <th>3</th>\n",
       "      <td>What is an important variable for surface air ...</td>\n",
       "      <td>tas</td>\n",
       "      <td>NaN</td>\n",
       "      <td>NaN</td>\n",
       "      <td>NaN</td>\n",
       "      <td>NaN</td>\n",
       "      <td>NaN</td>\n",
       "      <td>0.3</td>\n",
       "    </tr>\n",
       "    <tr>\n",
       "      <th>4</th>\n",
       "      <td>Which variable is relevant to surface air temp...</td>\n",
       "      <td>tas</td>\n",
       "      <td>NaN</td>\n",
       "      <td>NaN</td>\n",
       "      <td>NaN</td>\n",
       "      <td>NaN</td>\n",
       "      <td>NaN</td>\n",
       "      <td>0.4</td>\n",
       "    </tr>\n",
       "    <tr>\n",
       "      <th>5</th>\n",
       "      <td>What is a key variable for surface air tempera...</td>\n",
       "      <td>tas</td>\n",
       "      <td>NaN</td>\n",
       "      <td>NaN</td>\n",
       "      <td>NaN</td>\n",
       "      <td>NaN</td>\n",
       "      <td>NaN</td>\n",
       "      <td>0.5</td>\n",
       "    </tr>\n",
       "    <tr>\n",
       "      <th>6</th>\n",
       "      <td>What variable can help me understand summer Ar...</td>\n",
       "      <td>siconca</td>\n",
       "      <td>NaN</td>\n",
       "      <td>NaN</td>\n",
       "      <td>NaN</td>\n",
       "      <td>NaN</td>\n",
       "      <td>NaN</td>\n",
       "      <td>1.0</td>\n",
       "    </tr>\n",
       "  </tbody>\n",
       "</table>\n",
       "</div>"
      ],
      "text/plain": [
       "                                               query variable  \\\n",
       "0  What is a relevant variable for surface air te...      tas   \n",
       "1  Which variable is pertinent to surface air tem...      tas   \n",
       "2  What factor is significant for surface air tem...      tas   \n",
       "3  What is an important variable for surface air ...      tas   \n",
       "4  Which variable is relevant to surface air temp...      tas   \n",
       "5  What is a key variable for surface air tempera...      tas   \n",
       "6  What variable can help me understand summer Ar...  siconca   \n",
       "\n",
       "  temporal resolution  start year  end year  MIP experiment   id  \n",
       "0                 NaN         NaN       NaN  NaN        NaN  0.0  \n",
       "1                 NaN         NaN       NaN  NaN        NaN  0.1  \n",
       "2                 NaN         NaN       NaN  NaN        NaN  0.2  \n",
       "3                 NaN         NaN       NaN  NaN        NaN  0.3  \n",
       "4                 NaN         NaN       NaN  NaN        NaN  0.4  \n",
       "5                 NaN         NaN       NaN  NaN        NaN  0.5  \n",
       "6                 NaN         NaN       NaN  NaN        NaN  1.0  "
      ]
     },
     "execution_count": 7,
     "metadata": {},
     "output_type": "execute_result"
    }
   ],
   "source": [
    "data = pd.concat(dfs).reset_index(drop=True)\n",
    "data.head(n=n+2)"
   ]
  },
  {
   "cell_type": "code",
   "execution_count": 8,
   "metadata": {},
   "outputs": [
    {
     "data": {
      "text/plain": [
       "(210, 8)"
      ]
     },
     "execution_count": 8,
     "metadata": {},
     "output_type": "execute_result"
    }
   ],
   "source": [
    "data.shape"
   ]
  },
  {
   "cell_type": "code",
   "execution_count": 9,
   "metadata": {},
   "outputs": [],
   "source": [
    "# data.to_excel('./eval_data/augment_aug21.xlsx')"
   ]
  },
  {
   "cell_type": "markdown",
   "metadata": {},
   "source": [
    "# Cosine distances"
   ]
  },
  {
   "cell_type": "code",
   "execution_count": 10,
   "metadata": {},
   "outputs": [],
   "source": [
    "scibert = transformers.AutoModel.from_pretrained('allenai/scibert_scivocab_uncased')\n",
    "tokenizer = transformers.BertTokenizer.from_pretrained('allenai/scibert_scivocab_uncased')\n",
    "openai_emb_model = OpenAIEmbeddings(model=\"text-embedding-3-large\")"
   ]
  },
  {
   "cell_type": "code",
   "execution_count": 11,
   "metadata": {},
   "outputs": [
    {
     "data": {
      "application/vnd.jupyter.widget-view+json": {
       "model_id": "d0b427a9c37543f192d202779f263379",
       "version_major": 2,
       "version_minor": 0
      },
      "text/plain": [
       "  0%|          | 0/53 [00:00<?, ?it/s]"
      ]
     },
     "metadata": {},
     "output_type": "display_data"
    }
   ],
   "source": [
    "dl = DataLoader(data['query'], batch_size=4)\n",
    "embs_scibert = []\n",
    "for i, batch in enumerate(tqdm(dl)):\n",
    "    embbatch = scibert(**tokenizer(batch, padding='longest', return_tensors='pt'))['pooler_output']\n",
    "    embs_scibert.append(embbatch)\n",
    "embs_scibert = cat(embs_scibert).detach().numpy()\n",
    "sims_scibert = cosine_similarity(embs_scibert)"
   ]
  },
  {
   "cell_type": "code",
   "execution_count": 12,
   "metadata": {},
   "outputs": [],
   "source": [
    "embs_openai = np.asarray(openai_emb_model.embed_documents(data['query']))\n",
    "sims_openai = cosine_similarity(embs_openai)"
   ]
  },
  {
   "cell_type": "markdown",
   "metadata": {},
   "source": [
    "products\n",
    "- plot of distance each child query has to parent\n",
    "- heatmap for one human query: distance of its children versus of others' children to it https://seaborn.pydata.org/examples/heat_scatter.html"
   ]
  },
  {
   "cell_type": "code",
   "execution_count": 13,
   "metadata": {},
   "outputs": [],
   "source": [
    "# sims[::n+1] # get every n+1th row (every row corresponding to a human query)\n",
    "simlist_scibert = [] # i-th element is list of i-th query's childrens' similarities to itself\n",
    "simlist_openai = [] #ditto\n",
    "for i in range(len(human)):\n",
    "    human_i = i*(n+1)\n",
    "    child_s = i*(n+1) + 1\n",
    "    child_e = i*(n+1) + 1+n\n",
    "    simlist_scibert.append(sims_scibert[human_i, child_s:child_e])\n",
    "    simlist_openai.append(sims_openai[human_i, child_s:child_e])"
   ]
  },
  {
   "cell_type": "code",
   "execution_count": 14,
   "metadata": {},
   "outputs": [],
   "source": [
    "from matplotlib import pyplot as plt \n",
    "\n"
   ]
  },
  {
   "cell_type": "code",
   "execution_count": 15,
   "metadata": {},
   "outputs": [
    {
     "data": {
      "image/png": "[encoded data removed]",
      "text/plain": [
       "<Figure size 640x480 with 1 Axes>"
      ]
     },
     "metadata": {},
     "output_type": "display_data"
    }
   ],
   "source": [
    "axes = plt.gca()\n",
    "axes.set_xlim([0,1])\n",
    "axes.set_ylim([0,1])\n",
    "axes.set_xlabel('SciBERT Embeddings')\n",
    "axes.set_ylabel('OpenAI Embeddings')\n",
    "\n",
    "for i in range(len(human)):\n",
    "    plt.scatter(simlist_scibert[i], simlist_openai[i], marker='o', )\n",
    "plt.title('Distance of Child to Parent Embeddings \\n Using OpenAI `text-3-embedding-large` versus SciBERT')\n",
    "plt.savefig('/Users/snc/r/nasa/augscatter.png')"
   ]
  },
  {
   "cell_type": "code",
   "execution_count": 16,
   "metadata": {},
   "outputs": [
    {
     "data": {
      "image/png": "[encoded data removed]",
      "text/plain": [
       "<Figure size 640x480 with 1 Axes>"
      ]
     },
     "metadata": {},
     "output_type": "display_data"
    }
   ],
   "source": [
    "import seaborn as sns \n",
    "\n",
    "axes = plt.gca()\n",
    "axes.set_xlim([0,1])\n",
    "axes.set_ylim([0,1])\n",
    "# axes.set_xlabel('SciBERT')\n",
    "axes.set_ylabel('Similarity to Parent Query')\n",
    "\n",
    "# https://seaborn.pydata.org/generated/seaborn.violinplot.html\n",
    "flat_scibert = [item for sublist in simlist_scibert for item in sublist]\n",
    "flat_openai = [item for sublist in simlist_openai for item in sublist]\n",
    "violinin = pd.DataFrame.from_records([flat_scibert, flat_openai], index=['SciBERT', 'OpenAI']).T\n",
    "sns.violinplot(violinin, ax=axes)\n",
    "plt.title('Distribution of Child to Parent Embedding Distances \\n Using OpenAI `text-3-embedding-large` versus SciBERT')\n",
    "plt.savefig('/Users/snc/r/nasa/augviolin.png')"
   ]
  },
  {
   "cell_type": "code",
   "execution_count": null,
   "metadata": {},
   "outputs": [],
   "source": []
  },
  {
   "cell_type": "code",
   "execution_count": null,
   "metadata": {},
   "outputs": [],
   "source": []
  }
 ],
 "metadata": {
  "kernelspec": {
   "display_name": "giss",
   "language": "python",
   "name": "python3"
  },
  "language_info": {
   "codemirror_mode": {
    "name": "ipython",
    "version": 3
   },
   "file_extension": ".py",
   "mimetype": "text/x-python",
   "name": "python",
   "nbconvert_exporter": "python",
   "pygments_lexer": "ipython3",
   "version": "3.11.4"
  }
 },
 "nbformat": 4,
 "nbformat_minor": 2
}
