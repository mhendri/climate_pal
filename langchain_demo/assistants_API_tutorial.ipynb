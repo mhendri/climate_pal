{
 "cells": [
  {
   "cell_type": "code",
   "execution_count": 2,
   "metadata": {},
   "outputs": [],
   "source": [
    "import os\n",
    "from openai import OpenAI\n",
    "import matplotlib.pyplot as plt\n",
    "import matplotlib.image as mpimg\n",
    "from pprint import pprint\n",
    "import time\n",
    "import requests\n",
    "import os"
   ]
  },
  {
   "cell_type": "code",
   "execution_count": 3,
   "metadata": {},
   "outputs": [],
   "source": [
    "possible_links = [\"https://portal.nccs.nasa.gov/datashare/giss_cmip6/CMIP/NASA-GISS/GISS-E2-1-G/historical/r1i1p1f2/Amon/hus/gn/v20190903/\",\n",
    "                  \"https://portal.nccs.nasa.gov/datashare/giss_cmip6/CMIP/NASA-GISS/GISS-E2-1-G/historical/r1i1p1f2/Amon/pr/gn/v20190903/\",\n",
    "                  \"https://portal.nccs.nasa.gov/datashare/giss_cmip6/CMIP/NASA-GISS/GISS-E2-1-G/historical/r1i1p1f2/Amon/tas/gn/v20190903/\",\n",
    "                  \"https://portal.nccs.nasa.gov/datashare/giss_cmip6/CMIP/NASA-GISS/GISS-E2-1-G/historical/r1i1p1f2/CFday/cct/gn/v20190903/\"\n",
    "                  ]"
   ]
  },
  {
   "cell_type": "code",
   "execution_count": 4,
   "metadata": {},
   "outputs": [],
   "source": [
    "if not os.environ.get(\"OPENAI_API_KEY\"):\n",
    "    import key\n",
    "    key.init()\n",
    "    assert os.environ.get('OPENAI_API_KEY')\n",
    "    \n",
    "client = OpenAI(api_key=os.environ.get(\"OPENAI_API_KEY\"))"
   ]
  },
  {
   "cell_type": "code",
   "execution_count": 5,
   "metadata": {},
   "outputs": [],
   "source": [
    "def create_file(path=\"pr_Amon_GISS-E2-1-G_ssp245_r10i1p1f2_gn_201501-205012.nc\"):\n",
    "    file = client.files.create(\n",
    "        file=open(path, \"rb\"),\n",
    "        purpose='assistants'\n",
    "    )\n",
    "    return file\n",
    "\n",
    "\n",
    "def create_assistant(file):\n",
    "    assistant = client.beta.assistants.create(\n",
    "        name=\"Climate PAL Assistant\",\n",
    "        instructions=\"You are a climate scientist that is an expert in analyzing and plotting data. When asked a climate science question, write and run code to answer the question. Use the xarray library to read .nc files. Download and use the cftime library to decode time variables\",\n",
    "        tools=[{\"type\": \"code_interpreter\"}],\n",
    "        model=\"gpt-4o\",\n",
    "        # I need to figure out what this does\n",
    "        tool_resources={\n",
    "        \"code_interpreter\": {\n",
    "        \"file_ids\": [file.id]\n",
    "        }\n",
    "        }\n",
    "    )\n",
    "    return assistant\n",
    "  \n",
    "def create_thread(text_body=''):\n",
    "  thread = client.beta.threads.create()\n",
    "  message = client.beta.threads.messages.create(\n",
    "    thread_id=thread.id,\n",
    "    role=\"user\",\n",
    "    content = text_body\n",
    "  )\n",
    "  print(\"Here is the message we just created: \", message)\n",
    "  return thread\n",
    "  \n",
    "def create_message(thread, text_body=''):\n",
    "  message = client.beta.threads.messages.create(\n",
    "    thread_id=thread.id,\n",
    "    role=\"user\",\n",
    "    content = text_body\n",
    "  )\n",
    "  print(\"Here is the message we just created: \", message)\n",
    "  return message\n",
    "\n",
    "\n",
    "\n",
    "def download_file(url):\n",
    "    # Send a HTTP request to the URL\n",
    "    response = requests.get(url, stream=True)\n",
    "    \n",
    "    # Check if the request was successful\n",
    "    if response.status_code == 200:\n",
    "        # Extract the filename from the URL\n",
    "        local_filename = os.path.basename(url)\n",
    "        \n",
    "        # Open a local file with write-binary mode\n",
    "        with open(\"data/\"+local_filename, \"wb\") as file:\n",
    "            # Write the contents of the response to the file\n",
    "            for chunk in response.iter_content(chunk_size=8192):\n",
    "                file.write(chunk)\n",
    "        print(f\"Download completed successfully. File saved as {local_filename}\")\n",
    "    else:\n",
    "        print(\"Failed to download the file. Status code:\", response.status_code)\n",
    "        \n",
    "    return local_filename    "
   ]
  },
  {
   "cell_type": "code",
   "execution_count": 6,
   "metadata": {},
   "outputs": [
    {
     "name": "stdout",
     "output_type": "stream",
     "text": [
      "Here is the message we just created:  Message(id='msg_vUPeoFPTnbYZ4uqGrtm0etir', assistant_id=None, attachments=[], completed_at=None, content=[TextContentBlock(text=Text(annotations=[], value='Create a plot of total rainfall'), type='text')], created_at=1721724890, incomplete_at=None, incomplete_details=None, metadata={}, object='thread.message', role='user', run_id=None, status=None, thread_id='thread_MarBxpendgHjJH7Sc0yHbgUR')\n",
      "Here is the message we just created:  Message(id='msg_kF1DrG0pRlCA57yu41YHA3ZZ', assistant_id=None, attachments=[], completed_at=None, content=[TextContentBlock(text=Text(annotations=[], value='ignore this sentence, I just want to see how the history works'), type='text')], created_at=1721724891, incomplete_at=None, incomplete_details=None, metadata={}, object='thread.message', role='user', run_id=None, status=None, thread_id='thread_MarBxpendgHjJH7Sc0yHbgUR')\n"
     ]
    },
    {
     "data": {
      "text/plain": [
       "Message(id='msg_kF1DrG0pRlCA57yu41YHA3ZZ', assistant_id=None, attachments=[], completed_at=None, content=[TextContentBlock(text=Text(annotations=[], value='ignore this sentence, I just want to see how the history works'), type='text')], created_at=1721724891, incomplete_at=None, incomplete_details=None, metadata={}, object='thread.message', role='user', run_id=None, status=None, thread_id='thread_MarBxpendgHjJH7Sc0yHbgUR')"
      ]
     },
     "execution_count": 6,
     "metadata": {},
     "output_type": "execute_result"
    }
   ],
   "source": [
    "file = create_file()\n",
    "assistant = create_assistant(file)\n",
    "thread = create_thread(\"Create a plot of total rainfall\")\n",
    "create_message(thread, \"ignore this sentence, I just want to see how the history works\")\n",
    "\n"
   ]
  },
  {
   "cell_type": "code",
   "execution_count": 7,
   "metadata": {},
   "outputs": [],
   "source": [
    "run = client.beta.threads.runs.create(\n",
    "    thread_id=thread.id,\n",
    "    assistant_id=assistant.id\n",
    ")"
   ]
  },
  {
   "cell_type": "code",
   "execution_count": 8,
   "metadata": {},
   "outputs": [
    {
     "name": "stdout",
     "output_type": "stream",
     "text": [
      "in_progress\n"
     ]
    }
   ],
   "source": [
    "run = client.beta.threads.runs.retrieve(thread_id=thread.id, run_id=run.id)\n",
    "print(run.status)\n"
   ]
  },
  {
   "cell_type": "code",
   "execution_count": 9,
   "metadata": {},
   "outputs": [
    {
     "name": "stdout",
     "output_type": "stream",
     "text": [
      "in_progress\n",
      "in_progress\n",
      "in_progress\n",
      "in_progress\n",
      "in_progress\n",
      "in_progress\n",
      "in_progress\n",
      "in_progress\n",
      "in_progress\n",
      "in_progress\n",
      "in_progress\n",
      "in_progress\n",
      "completed\n"
     ]
    }
   ],
   "source": [
    "while run.status not in [\"completed\", \"failed\"]:\n",
    "  run = client.beta.threads.runs.retrieve(\n",
    "    thread_id = thread.id,\n",
    "    run_id = run.id\n",
    "  )\n",
    "\n",
    "  print(run.status)\n",
    "  time.sleep(5)"
   ]
  },
  {
   "cell_type": "code",
   "execution_count": 10,
   "metadata": {},
   "outputs": [
    {
     "name": "stdout",
     "output_type": "stream",
     "text": [
      "SyncCursorPage[Message](data=[Message(id='msg_sTGOkbncB8CliFlwrrrVVCiB', assistant_id='asst_iau288XZXLFUNy7Am11x6EPF', attachments=[], completed_at=None, content=[TextContentBlock(text=Text(annotations=[], value='I don\\'t have internet access to install additional packages in this environment. However, you can install the `cftime` package locally in your environment using the following command:\\n\\n```sh\\npip install cftime\\n```\\n\\nOnce `cftime` is installed, you can run the following code to decode the time variable and plot the total rainfall:\\n\\n```python\\nimport xarray as xr\\nimport cftime\\nimport numpy as np\\nimport matplotlib.pyplot as plt\\n\\n# Load the dataset\\nfile_path = \\'path_to_your_file.nc\\'\\ndataset = xr.open_dataset(file_path, decode_times=False)\\n\\n# Extract time variable\\ntime_raw = dataset[\\'time\\'].values\\n\\n# Decode the time using cftime\\nunits = \"days since 2015-1-1\"\\ncalendar = \"365_day\"\\ntime_decoded = cftime.num2date(time_raw, units=units, calendar=calendar)\\n\\n# Assign the decoded time back to the dataset\\ndataset = dataset.assign_coords(time=(\"time\", time_decoded))\\n\\n# Calculate the total rainfall by summing over the time dimension\\ntotal_rainfall = dataset[\\'pr\\'].sum(dim=\\'time\\')\\n\\n# Plot the total rainfall\\nplt.figure(figsize=(12, 6))\\ntotal_rainfall.plot()\\nplt.title(\\'Total Rainfall\\')\\nplt.xlabel(\\'Longitude\\')\\nplt.ylabel(\\'Latitude\\')\\nplt.show()\\n```\\n\\nReplace `path_to_your_file.nc` with the actual path to your file. This code will decode the time variable and plot the total rainfall. If you can run this in your local environment, it should provide the desired plot.'), type='text')], created_at=1721724975, incomplete_at=None, incomplete_details=None, metadata={}, object='thread.message', role='assistant', run_id='run_02bRBkso8hNNIuA0BEVf0VUn', status=None, thread_id='thread_MarBxpendgHjJH7Sc0yHbgUR'), Message(id='msg_ylsGQydC72gU3KHcwDmmP656', assistant_id='asst_iau288XZXLFUNy7Am11x6EPF', attachments=[], completed_at=None, content=[TextContentBlock(text=Text(annotations=[], value=\"It appears that the `cftime` library is not installed in the environment. I'll install the necessary library and then proceed with decoding the time variable and plotting the total rainfall.\"), type='text')], created_at=1721724912, incomplete_at=None, incomplete_details=None, metadata={}, object='thread.message', role='assistant', run_id='run_02bRBkso8hNNIuA0BEVf0VUn', status=None, thread_id='thread_MarBxpendgHjJH7Sc0yHbgUR'), Message(id='msg_BHhE0aEMMNmITunI9sI1GLoj', assistant_id='asst_iau288XZXLFUNy7Am11x6EPF', attachments=[], completed_at=None, content=[TextContentBlock(text=Text(annotations=[], value=\"The dataset contains variables including `pr` (which likely stands for precipitation), as well as coordinates for `time`, `lat`, and `lon`. The time variable needs manual decoding.\\n\\nI'll decode the time variable using cftime, and then proceed to calculate the total rainfall by summing the precipitation values over the entire time period. Finally, I'll create a plot of the total rainfall.\\n\\nLet's perform these steps.\"), type='text')], created_at=1721724905, incomplete_at=None, incomplete_details=None, metadata={}, object='thread.message', role='assistant', run_id='run_02bRBkso8hNNIuA0BEVf0VUn', status=None, thread_id='thread_MarBxpendgHjJH7Sc0yHbgUR'), Message(id='msg_RnST20B7hKtz5Zg7XJutNWSF', assistant_id='asst_iau288XZXLFUNy7Am11x6EPF', attachments=[], completed_at=None, content=[TextContentBlock(text=Text(annotations=[], value=\"It looks like the dataset uses a non-standard calendar ('365_day'), which cannot be decoded by pandas. I will try opening the dataset with the `decode_times=False` option and explore the variables. Then, I can manually decode the time variable using the `cftime` library if needed.\\n\\nLet's proceed with that.\"), type='text')], created_at=1721724900, incomplete_at=None, incomplete_details=None, metadata={}, object='thread.message', role='assistant', run_id='run_02bRBkso8hNNIuA0BEVf0VUn', status=None, thread_id='thread_MarBxpendgHjJH7Sc0yHbgUR'), Message(id='msg_sGUHEAqMWhle8D1icEVrzQqZ', assistant_id='asst_iau288XZXLFUNy7Am11x6EPF', attachments=[], completed_at=None, content=[TextContentBlock(text=Text(annotations=[], value=\"Let's start by investigating the contents of the uploaded file. I'll load it using the `xarray` library and inspect the dataset to identify the variables present.\"), type='text')], created_at=1721724893, incomplete_at=None, incomplete_details=None, metadata={}, object='thread.message', role='assistant', run_id='run_02bRBkso8hNNIuA0BEVf0VUn', status=None, thread_id='thread_MarBxpendgHjJH7Sc0yHbgUR'), Message(id='msg_kF1DrG0pRlCA57yu41YHA3ZZ', assistant_id=None, attachments=[], completed_at=None, content=[TextContentBlock(text=Text(annotations=[], value='ignore this sentence, I just want to see how the history works'), type='text')], created_at=1721724891, incomplete_at=None, incomplete_details=None, metadata={}, object='thread.message', role='user', run_id=None, status=None, thread_id='thread_MarBxpendgHjJH7Sc0yHbgUR'), Message(id='msg_vUPeoFPTnbYZ4uqGrtm0etir', assistant_id=None, attachments=[], completed_at=None, content=[TextContentBlock(text=Text(annotations=[], value='Create a plot of total rainfall'), type='text')], created_at=1721724890, incomplete_at=None, incomplete_details=None, metadata={}, object='thread.message', role='user', run_id=None, status=None, thread_id='thread_MarBxpendgHjJH7Sc0yHbgUR')], object='list', first_id='msg_sTGOkbncB8CliFlwrrrVVCiB', last_id='msg_vUPeoFPTnbYZ4uqGrtm0etir', has_more=False)\n"
     ]
    }
   ],
   "source": [
    "messages = client.beta.threads.messages.list(thread_id=thread.id)\n",
    "print(messages)"
   ]
  },
  {
   "cell_type": "code",
   "execution_count": 11,
   "metadata": {},
   "outputs": [
    {
     "name": "stdout",
     "output_type": "stream",
     "text": [
      "SyncCursorPage[Message](data=[Message(id='msg_sTGOkbncB8CliFlwrrrVVCiB', assistant_id='asst_iau288XZXLFUNy7Am11x6EPF', attachments=[], completed_at=None, content=[TextContentBlock(text=Text(annotations=[], value='I don\\'t have internet access to install additional packages in this environment. However, you can install the `cftime` package locally in your environment using the following command:\\n\\n```sh\\npip install cftime\\n```\\n\\nOnce `cftime` is installed, you can run the following code to decode the time variable and plot the total rainfall:\\n\\n```python\\nimport xarray as xr\\nimport cftime\\nimport numpy as np\\nimport matplotlib.pyplot as plt\\n\\n# Load the dataset\\nfile_path = \\'path_to_your_file.nc\\'\\ndataset = xr.open_dataset(file_path, decode_times=False)\\n\\n# Extract time variable\\ntime_raw = dataset[\\'time\\'].values\\n\\n# Decode the time using cftime\\nunits = \"days since 2015-1-1\"\\ncalendar = \"365_day\"\\ntime_decoded = cftime.num2date(time_raw, units=units, calendar=calendar)\\n\\n# Assign the decoded time back to the dataset\\ndataset = dataset.assign_coords(time=(\"time\", time_decoded))\\n\\n# Calculate the total rainfall by summing over the time dimension\\ntotal_rainfall = dataset[\\'pr\\'].sum(dim=\\'time\\')\\n\\n# Plot the total rainfall\\nplt.figure(figsize=(12, 6))\\ntotal_rainfall.plot()\\nplt.title(\\'Total Rainfall\\')\\nplt.xlabel(\\'Longitude\\')\\nplt.ylabel(\\'Latitude\\')\\nplt.show()\\n```\\n\\nReplace `path_to_your_file.nc` with the actual path to your file. This code will decode the time variable and plot the total rainfall. If you can run this in your local environment, it should provide the desired plot.'), type='text')], created_at=1721724975, incomplete_at=None, incomplete_details=None, metadata={}, object='thread.message', role='assistant', run_id='run_02bRBkso8hNNIuA0BEVf0VUn', status=None, thread_id='thread_MarBxpendgHjJH7Sc0yHbgUR'), Message(id='msg_ylsGQydC72gU3KHcwDmmP656', assistant_id='asst_iau288XZXLFUNy7Am11x6EPF', attachments=[], completed_at=None, content=[TextContentBlock(text=Text(annotations=[], value=\"It appears that the `cftime` library is not installed in the environment. I'll install the necessary library and then proceed with decoding the time variable and plotting the total rainfall.\"), type='text')], created_at=1721724912, incomplete_at=None, incomplete_details=None, metadata={}, object='thread.message', role='assistant', run_id='run_02bRBkso8hNNIuA0BEVf0VUn', status=None, thread_id='thread_MarBxpendgHjJH7Sc0yHbgUR'), Message(id='msg_BHhE0aEMMNmITunI9sI1GLoj', assistant_id='asst_iau288XZXLFUNy7Am11x6EPF', attachments=[], completed_at=None, content=[TextContentBlock(text=Text(annotations=[], value=\"The dataset contains variables including `pr` (which likely stands for precipitation), as well as coordinates for `time`, `lat`, and `lon`. The time variable needs manual decoding.\\n\\nI'll decode the time variable using cftime, and then proceed to calculate the total rainfall by summing the precipitation values over the entire time period. Finally, I'll create a plot of the total rainfall.\\n\\nLet's perform these steps.\"), type='text')], created_at=1721724905, incomplete_at=None, incomplete_details=None, metadata={}, object='thread.message', role='assistant', run_id='run_02bRBkso8hNNIuA0BEVf0VUn', status=None, thread_id='thread_MarBxpendgHjJH7Sc0yHbgUR'), Message(id='msg_RnST20B7hKtz5Zg7XJutNWSF', assistant_id='asst_iau288XZXLFUNy7Am11x6EPF', attachments=[], completed_at=None, content=[TextContentBlock(text=Text(annotations=[], value=\"It looks like the dataset uses a non-standard calendar ('365_day'), which cannot be decoded by pandas. I will try opening the dataset with the `decode_times=False` option and explore the variables. Then, I can manually decode the time variable using the `cftime` library if needed.\\n\\nLet's proceed with that.\"), type='text')], created_at=1721724900, incomplete_at=None, incomplete_details=None, metadata={}, object='thread.message', role='assistant', run_id='run_02bRBkso8hNNIuA0BEVf0VUn', status=None, thread_id='thread_MarBxpendgHjJH7Sc0yHbgUR'), Message(id='msg_sGUHEAqMWhle8D1icEVrzQqZ', assistant_id='asst_iau288XZXLFUNy7Am11x6EPF', attachments=[], completed_at=None, content=[TextContentBlock(text=Text(annotations=[], value=\"Let's start by investigating the contents of the uploaded file. I'll load it using the `xarray` library and inspect the dataset to identify the variables present.\"), type='text')], created_at=1721724893, incomplete_at=None, incomplete_details=None, metadata={}, object='thread.message', role='assistant', run_id='run_02bRBkso8hNNIuA0BEVf0VUn', status=None, thread_id='thread_MarBxpendgHjJH7Sc0yHbgUR'), Message(id='msg_kF1DrG0pRlCA57yu41YHA3ZZ', assistant_id=None, attachments=[], completed_at=None, content=[TextContentBlock(text=Text(annotations=[], value='ignore this sentence, I just want to see how the history works'), type='text')], created_at=1721724891, incomplete_at=None, incomplete_details=None, metadata={}, object='thread.message', role='user', run_id=None, status=None, thread_id='thread_MarBxpendgHjJH7Sc0yHbgUR'), Message(id='msg_vUPeoFPTnbYZ4uqGrtm0etir', assistant_id=None, attachments=[], completed_at=None, content=[TextContentBlock(text=Text(annotations=[], value='Create a plot of total rainfall'), type='text')], created_at=1721724890, incomplete_at=None, incomplete_details=None, metadata={}, object='thread.message', role='user', run_id=None, status=None, thread_id='thread_MarBxpendgHjJH7Sc0yHbgUR')], object='list', first_id='msg_sTGOkbncB8CliFlwrrrVVCiB', last_id='msg_vUPeoFPTnbYZ4uqGrtm0etir', has_more=False)\n"
     ]
    }
   ],
   "source": [
    "pprint(messages)"
   ]
  },
  {
   "cell_type": "code",
   "execution_count": 12,
   "metadata": {},
   "outputs": [
    {
     "name": "stdout",
     "output_type": "stream",
     "text": [
      "user: Create a plot of total rainfall\n",
      "user: ignore this sentence, I just want to see how the history works\n",
      "assistant: Let's start by investigating the contents of the uploaded file. I'll load it using the `xarray` library and inspect the dataset to identify the variables present.\n",
      "assistant: It looks like the dataset uses a non-standard calendar ('365_day'), which cannot be decoded by pandas. I will try opening the dataset with the `decode_times=False` option and explore the variables. Then, I can manually decode the time variable using the `cftime` library if needed.\n",
      "\n",
      "Let's proceed with that.\n",
      "assistant: The dataset contains variables including `pr` (which likely stands for precipitation), as well as coordinates for `time`, `lat`, and `lon`. The time variable needs manual decoding.\n",
      "\n",
      "I'll decode the time variable using cftime, and then proceed to calculate the total rainfall by summing the precipitation values over the entire time period. Finally, I'll create a plot of the total rainfall.\n",
      "\n",
      "Let's perform these steps.\n",
      "assistant: It appears that the `cftime` library is not installed in the environment. I'll install the necessary library and then proceed with decoding the time variable and plotting the total rainfall.\n",
      "assistant: I don't have internet access to install additional packages in this environment. However, you can install the `cftime` package locally in your environment using the following command:\n",
      "\n",
      "```sh\n",
      "pip install cftime\n",
      "```\n",
      "\n",
      "Once `cftime` is installed, you can run the following code to decode the time variable and plot the total rainfall:\n",
      "\n",
      "```python\n",
      "import xarray as xr\n",
      "import cftime\n",
      "import numpy as np\n",
      "import matplotlib.pyplot as plt\n",
      "\n",
      "# Load the dataset\n",
      "file_path = 'path_to_your_file.nc'\n",
      "dataset = xr.open_dataset(file_path, decode_times=False)\n",
      "\n",
      "# Extract time variable\n",
      "time_raw = dataset['time'].values\n",
      "\n",
      "# Decode the time using cftime\n",
      "units = \"days since 2015-1-1\"\n",
      "calendar = \"365_day\"\n",
      "time_decoded = cftime.num2date(time_raw, units=units, calendar=calendar)\n",
      "\n",
      "# Assign the decoded time back to the dataset\n",
      "dataset = dataset.assign_coords(time=(\"time\", time_decoded))\n",
      "\n",
      "# Calculate the total rainfall by summing over the time dimension\n",
      "total_rainfall = dataset['pr'].sum(dim='time')\n",
      "\n",
      "# Plot the total rainfall\n",
      "plt.figure(figsize=(12, 6))\n",
      "total_rainfall.plot()\n",
      "plt.title('Total Rainfall')\n",
      "plt.xlabel('Longitude')\n",
      "plt.ylabel('Latitude')\n",
      "plt.show()\n",
      "```\n",
      "\n",
      "Replace `path_to_your_file.nc` with the actual path to your file. This code will decode the time variable and plot the total rainfall. If you can run this in your local environment, it should provide the desired plot.\n"
     ]
    }
   ],
   "source": [
    "for message in reversed(messages.data):\n",
    "    content_block = message.content[0]\n",
    "    \n",
    "    if hasattr(content_block, 'text'):\n",
    "        print(message.role + \": \" + content_block.text.value)\n",
    "        \n",
    "    elif hasattr(content_block, 'image_file'):\n",
    "        # print(content_block.image_file)\n",
    "        print(message.role + \": [Non-text content]\")\n",
    "        # print(content_block)\n",
    "        # print(content_block.image_file.file_id)\n",
    "        \n",
    "        api_response = client.files.with_raw_response.retrieve_content(content_block.image_file.file_id)\n",
    "\n",
    "        content = api_response.content\n",
    "        with open(f\"assistant_images/{content_block.image_file.file_id}.png\", 'wb') as f:\n",
    "            f.write(content)\n",
    "        \n",
    "        image_path = f\"assistant_images/{content_block.image_file.file_id}.png\"\n",
    "\n",
    "        img = mpimg.imread(image_path)\n",
    "        plt.imshow(img)\n",
    "        print('File downloaded successfully.')\n",
    "\n"
   ]
  },
  {
   "cell_type": "code",
   "execution_count": null,
   "metadata": {},
   "outputs": [],
   "source": []
  },
  {
   "cell_type": "code",
   "execution_count": 12,
   "metadata": {},
   "outputs": [
    {
     "name": "stdout",
     "output_type": "stream",
     "text": [
      "AssistantDeleted(id='asst_WMtCqvsSAdRXoymTW8ODhk2g', deleted=True, object='assistant.deleted')\n"
     ]
    },
    {
     "ename": "NotFoundError",
     "evalue": "Error code: 404 - {'error': {'message': \"No such File object: FileObject(id='file-HRuRVNU56PuXGRztQDVw0i5m', bytes=22424788, created_at=1721297692, filename='pr_Amon_GISS-E2-1-G_ssp245_r10i1p1f2_gn_201501-205012.nc', object='file', purpose='assistants', status='processed', status_details=None)\", 'type': 'invalid_request_error', 'param': 'id', 'code': None}}",
     "output_type": "error",
     "traceback": [
      "\u001b[0;31m---------------------------------------------------------------------------\u001b[0m",
      "\u001b[0;31mNotFoundError\u001b[0m                             Traceback (most recent call last)",
      "Cell \u001b[0;32mIn[12], line 4\u001b[0m\n\u001b[1;32m      1\u001b[0m response \u001b[38;5;241m=\u001b[39m client\u001b[38;5;241m.\u001b[39mbeta\u001b[38;5;241m.\u001b[39massistants\u001b[38;5;241m.\u001b[39mdelete(assistant\u001b[38;5;241m.\u001b[39mid)\n\u001b[1;32m      2\u001b[0m \u001b[38;5;28mprint\u001b[39m(response)\n\u001b[0;32m----> 4\u001b[0m response \u001b[38;5;241m=\u001b[39m \u001b[43mclient\u001b[49m\u001b[38;5;241;43m.\u001b[39;49m\u001b[43mfiles\u001b[49m\u001b[38;5;241;43m.\u001b[39;49m\u001b[43mdelete\u001b[49m\u001b[43m(\u001b[49m\u001b[43mfile\u001b[49m\u001b[43m)\u001b[49m\n\u001b[1;32m      5\u001b[0m \u001b[38;5;28mprint\u001b[39m(response)\n",
      "File \u001b[0;32m~/miniconda3/envs/langchain_env/lib/python3.11/site-packages/openai/resources/files.py:225\u001b[0m, in \u001b[0;36mFiles.delete\u001b[0;34m(self, file_id, extra_headers, extra_query, extra_body, timeout)\u001b[0m\n\u001b[1;32m    223\u001b[0m \u001b[38;5;28;01mif\u001b[39;00m \u001b[38;5;129;01mnot\u001b[39;00m file_id:\n\u001b[1;32m    224\u001b[0m     \u001b[38;5;28;01mraise\u001b[39;00m \u001b[38;5;167;01mValueError\u001b[39;00m(\u001b[38;5;124mf\u001b[39m\u001b[38;5;124m\"\u001b[39m\u001b[38;5;124mExpected a non-empty value for `file_id` but received \u001b[39m\u001b[38;5;132;01m{\u001b[39;00mfile_id\u001b[38;5;132;01m!r}\u001b[39;00m\u001b[38;5;124m\"\u001b[39m)\n\u001b[0;32m--> 225\u001b[0m \u001b[38;5;28;01mreturn\u001b[39;00m \u001b[38;5;28;43mself\u001b[39;49m\u001b[38;5;241;43m.\u001b[39;49m\u001b[43m_delete\u001b[49m\u001b[43m(\u001b[49m\n\u001b[1;32m    226\u001b[0m \u001b[43m    \u001b[49m\u001b[38;5;124;43mf\u001b[39;49m\u001b[38;5;124;43m\"\u001b[39;49m\u001b[38;5;124;43m/files/\u001b[39;49m\u001b[38;5;132;43;01m{\u001b[39;49;00m\u001b[43mfile_id\u001b[49m\u001b[38;5;132;43;01m}\u001b[39;49;00m\u001b[38;5;124;43m\"\u001b[39;49m\u001b[43m,\u001b[49m\n\u001b[1;32m    227\u001b[0m \u001b[43m    \u001b[49m\u001b[43moptions\u001b[49m\u001b[38;5;241;43m=\u001b[39;49m\u001b[43mmake_request_options\u001b[49m\u001b[43m(\u001b[49m\n\u001b[1;32m    228\u001b[0m \u001b[43m        \u001b[49m\u001b[43mextra_headers\u001b[49m\u001b[38;5;241;43m=\u001b[39;49m\u001b[43mextra_headers\u001b[49m\u001b[43m,\u001b[49m\u001b[43m \u001b[49m\u001b[43mextra_query\u001b[49m\u001b[38;5;241;43m=\u001b[39;49m\u001b[43mextra_query\u001b[49m\u001b[43m,\u001b[49m\u001b[43m \u001b[49m\u001b[43mextra_body\u001b[49m\u001b[38;5;241;43m=\u001b[39;49m\u001b[43mextra_body\u001b[49m\u001b[43m,\u001b[49m\u001b[43m \u001b[49m\u001b[43mtimeout\u001b[49m\u001b[38;5;241;43m=\u001b[39;49m\u001b[43mtimeout\u001b[49m\n\u001b[1;32m    229\u001b[0m \u001b[43m    \u001b[49m\u001b[43m)\u001b[49m\u001b[43m,\u001b[49m\n\u001b[1;32m    230\u001b[0m \u001b[43m    \u001b[49m\u001b[43mcast_to\u001b[49m\u001b[38;5;241;43m=\u001b[39;49m\u001b[43mFileDeleted\u001b[49m\u001b[43m,\u001b[49m\n\u001b[1;32m    231\u001b[0m \u001b[43m\u001b[49m\u001b[43m)\u001b[49m\n",
      "File \u001b[0;32m~/miniconda3/envs/langchain_env/lib/python3.11/site-packages/openai/_base_client.py:1286\u001b[0m, in \u001b[0;36mSyncAPIClient.delete\u001b[0;34m(self, path, cast_to, body, options)\u001b[0m\n\u001b[1;32m   1277\u001b[0m \u001b[38;5;28;01mdef\u001b[39;00m \u001b[38;5;21mdelete\u001b[39m(\n\u001b[1;32m   1278\u001b[0m     \u001b[38;5;28mself\u001b[39m,\n\u001b[1;32m   1279\u001b[0m     path: \u001b[38;5;28mstr\u001b[39m,\n\u001b[0;32m   (...)\u001b[0m\n\u001b[1;32m   1283\u001b[0m     options: RequestOptions \u001b[38;5;241m=\u001b[39m {},\n\u001b[1;32m   1284\u001b[0m ) \u001b[38;5;241m-\u001b[39m\u001b[38;5;241m>\u001b[39m ResponseT:\n\u001b[1;32m   1285\u001b[0m     opts \u001b[38;5;241m=\u001b[39m FinalRequestOptions\u001b[38;5;241m.\u001b[39mconstruct(method\u001b[38;5;241m=\u001b[39m\u001b[38;5;124m\"\u001b[39m\u001b[38;5;124mdelete\u001b[39m\u001b[38;5;124m\"\u001b[39m, url\u001b[38;5;241m=\u001b[39mpath, json_data\u001b[38;5;241m=\u001b[39mbody, \u001b[38;5;241m*\u001b[39m\u001b[38;5;241m*\u001b[39moptions)\n\u001b[0;32m-> 1286\u001b[0m     \u001b[38;5;28;01mreturn\u001b[39;00m \u001b[38;5;28;43mself\u001b[39;49m\u001b[38;5;241;43m.\u001b[39;49m\u001b[43mrequest\u001b[49m\u001b[43m(\u001b[49m\u001b[43mcast_to\u001b[49m\u001b[43m,\u001b[49m\u001b[43m \u001b[49m\u001b[43mopts\u001b[49m\u001b[43m)\u001b[49m\n",
      "File \u001b[0;32m~/miniconda3/envs/langchain_env/lib/python3.11/site-packages/openai/_base_client.py:931\u001b[0m, in \u001b[0;36mSyncAPIClient.request\u001b[0;34m(self, cast_to, options, remaining_retries, stream, stream_cls)\u001b[0m\n\u001b[1;32m    922\u001b[0m \u001b[38;5;28;01mdef\u001b[39;00m \u001b[38;5;21mrequest\u001b[39m(\n\u001b[1;32m    923\u001b[0m     \u001b[38;5;28mself\u001b[39m,\n\u001b[1;32m    924\u001b[0m     cast_to: Type[ResponseT],\n\u001b[0;32m   (...)\u001b[0m\n\u001b[1;32m    929\u001b[0m     stream_cls: \u001b[38;5;28mtype\u001b[39m[_StreamT] \u001b[38;5;241m|\u001b[39m \u001b[38;5;28;01mNone\u001b[39;00m \u001b[38;5;241m=\u001b[39m \u001b[38;5;28;01mNone\u001b[39;00m,\n\u001b[1;32m    930\u001b[0m ) \u001b[38;5;241m-\u001b[39m\u001b[38;5;241m>\u001b[39m ResponseT \u001b[38;5;241m|\u001b[39m _StreamT:\n\u001b[0;32m--> 931\u001b[0m     \u001b[38;5;28;01mreturn\u001b[39;00m \u001b[38;5;28;43mself\u001b[39;49m\u001b[38;5;241;43m.\u001b[39;49m\u001b[43m_request\u001b[49m\u001b[43m(\u001b[49m\n\u001b[1;32m    932\u001b[0m \u001b[43m        \u001b[49m\u001b[43mcast_to\u001b[49m\u001b[38;5;241;43m=\u001b[39;49m\u001b[43mcast_to\u001b[49m\u001b[43m,\u001b[49m\n\u001b[1;32m    933\u001b[0m \u001b[43m        \u001b[49m\u001b[43moptions\u001b[49m\u001b[38;5;241;43m=\u001b[39;49m\u001b[43moptions\u001b[49m\u001b[43m,\u001b[49m\n\u001b[1;32m    934\u001b[0m \u001b[43m        \u001b[49m\u001b[43mstream\u001b[49m\u001b[38;5;241;43m=\u001b[39;49m\u001b[43mstream\u001b[49m\u001b[43m,\u001b[49m\n\u001b[1;32m    935\u001b[0m \u001b[43m        \u001b[49m\u001b[43mstream_cls\u001b[49m\u001b[38;5;241;43m=\u001b[39;49m\u001b[43mstream_cls\u001b[49m\u001b[43m,\u001b[49m\n\u001b[1;32m    936\u001b[0m \u001b[43m        \u001b[49m\u001b[43mremaining_retries\u001b[49m\u001b[38;5;241;43m=\u001b[39;49m\u001b[43mremaining_retries\u001b[49m\u001b[43m,\u001b[49m\n\u001b[1;32m    937\u001b[0m \u001b[43m    \u001b[49m\u001b[43m)\u001b[49m\n",
      "File \u001b[0;32m~/miniconda3/envs/langchain_env/lib/python3.11/site-packages/openai/_base_client.py:1030\u001b[0m, in \u001b[0;36mSyncAPIClient._request\u001b[0;34m(self, cast_to, options, remaining_retries, stream, stream_cls)\u001b[0m\n\u001b[1;32m   1027\u001b[0m         err\u001b[38;5;241m.\u001b[39mresponse\u001b[38;5;241m.\u001b[39mread()\n\u001b[1;32m   1029\u001b[0m     log\u001b[38;5;241m.\u001b[39mdebug(\u001b[38;5;124m\"\u001b[39m\u001b[38;5;124mRe-raising status error\u001b[39m\u001b[38;5;124m\"\u001b[39m)\n\u001b[0;32m-> 1030\u001b[0m     \u001b[38;5;28;01mraise\u001b[39;00m \u001b[38;5;28mself\u001b[39m\u001b[38;5;241m.\u001b[39m_make_status_error_from_response(err\u001b[38;5;241m.\u001b[39mresponse) \u001b[38;5;28;01mfrom\u001b[39;00m \u001b[38;5;28;01mNone\u001b[39;00m\n\u001b[1;32m   1032\u001b[0m \u001b[38;5;28;01mreturn\u001b[39;00m \u001b[38;5;28mself\u001b[39m\u001b[38;5;241m.\u001b[39m_process_response(\n\u001b[1;32m   1033\u001b[0m     cast_to\u001b[38;5;241m=\u001b[39mcast_to,\n\u001b[1;32m   1034\u001b[0m     options\u001b[38;5;241m=\u001b[39moptions,\n\u001b[0;32m   (...)\u001b[0m\n\u001b[1;32m   1037\u001b[0m     stream_cls\u001b[38;5;241m=\u001b[39mstream_cls,\n\u001b[1;32m   1038\u001b[0m )\n",
      "\u001b[0;31mNotFoundError\u001b[0m: Error code: 404 - {'error': {'message': \"No such File object: FileObject(id='file-HRuRVNU56PuXGRztQDVw0i5m', bytes=22424788, created_at=1721297692, filename='pr_Amon_GISS-E2-1-G_ssp245_r10i1p1f2_gn_201501-205012.nc', object='file', purpose='assistants', status='processed', status_details=None)\", 'type': 'invalid_request_error', 'param': 'id', 'code': None}}"
     ]
    }
   ],
   "source": [
    "response = client.beta.assistants.delete(assistant.id)\n",
    "print(response)\n",
    "\n",
    "response = client.files.delete(file)\n",
    "print(response)"
   ]
  },
  {
   "cell_type": "code",
   "execution_count": null,
   "metadata": {},
   "outputs": [],
   "source": []
  }
 ],
 "metadata": {
  "kernelspec": {
   "display_name": "langchain_env",
   "language": "python",
   "name": "python3"
  },
  "language_info": {
   "codemirror_mode": {
    "name": "ipython",
    "version": 3
   },
   "file_extension": ".py",
   "mimetype": "text/x-python",
   "name": "python",
   "nbconvert_exporter": "python",
   "pygments_lexer": "ipython3",
   "version": "3.11.7"
  }
 },
 "nbformat": 4,
 "nbformat_minor": 2
}
