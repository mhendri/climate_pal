{
 "cells": [
  {
   "cell_type": "markdown",
   "metadata": {},
   "source": [
    "# Splitting Multi-Queries"
   ]
  },
  {
   "cell_type": "markdown",
   "metadata": {},
   "source": [
    "### Importing Packages"
   ]
  },
  {
   "cell_type": "code",
   "execution_count": 1,
   "metadata": {},
   "outputs": [],
   "source": [
    "from prompts import *\n",
    "import os\n",
    "import key\n",
    "from model import llm_init\n",
    "from langchain_core.output_parsers import StrOutputParser\n",
    "import re\n",
    "from pprint import pprint\n",
    "import utils\n",
    "import pandas as pd\n",
    "from langchain.agents.agent_types import AgentType\n",
    "from langchain_experimental.agents.agent_toolkits import create_pandas_dataframe_agent\n",
    "from langchain_openai import ChatOpenAI, OpenAI\n",
    "from langchain.agents import AgentExecutor"
   ]
  },
  {
   "cell_type": "markdown",
   "metadata": {},
   "source": [
    "### Utility Functions"
   ]
  },
  {
   "cell_type": "code",
   "execution_count": 2,
   "metadata": {},
   "outputs": [],
   "source": [
    "def queries_to_list(result):\n",
    "    '''This function takes the output of the llm and returns a list of individuals queries'''\n",
    "    pattern = re.compile(r'([Qq]uery|[Ss]tart query) (\\d+): \"([^\"]+)\"')\n",
    "\n",
    "    queries = {}\n",
    "\n",
    "    matches = pattern.findall(result)\n",
    "\n",
    "    for match in matches:\n",
    "        query_number = f'Query {match[1]}'\n",
    "        query_text = match[2]\n",
    "        queries[query_number] = query_text\n",
    "\n",
    "    return queries"
   ]
  },
  {
   "cell_type": "markdown",
   "metadata": {},
   "source": [
    "### Setting up LLM"
   ]
  },
  {
   "cell_type": "code",
   "execution_count": 8,
   "metadata": {},
   "outputs": [],
   "source": [
    "if not os.environ.get(\"OPENAI_API_KEY\"):\n",
    "    key.init()\n",
    "    assert os.environ.get('OPENAI_API_KEY')\n",
    "    \n",
    "llm = llm_init()\n",
    "\n",
    "# This is for reference\n",
    "test_input = \"Im interested in air temperature near surface at a monthly resolution and precipitation flux at a resolution of a day\"\n"
   ]
  },
  {
   "cell_type": "markdown",
   "metadata": {},
   "source": [
    "### Greet the user and ask for an input"
   ]
  },
  {
   "cell_type": "code",
   "execution_count": 9,
   "metadata": {},
   "outputs": [],
   "source": [
    "# initial_query = input(\"Hello! please make any inquiries you have about the CMIP dataset. You may make multiple inquiries at once.\")\n",
    "# print('You asked: ', initial_query)"
   ]
  },
  {
   "cell_type": "markdown",
   "metadata": {},
   "source": [
    "### Have LLM split queries"
   ]
  },
  {
   "cell_type": "code",
   "execution_count": 10,
   "metadata": {},
   "outputs": [
    {
     "name": "stdout",
     "output_type": "stream",
     "text": [
      "Split query 1: \"I'm interested in air temperature near surface at a monthly resolution.\"\n",
      "Split query 2: \"I'm interested in precipitation flux at a resolution of a day.\"\n"
     ]
    }
   ],
   "source": [
    "#TODO: The word \"query\" needs to be present in output otherwise the dictionary will be empty\n",
    "prompt = get_split_prompt()\n",
    "chain = prompt | llm | StrOutputParser()\n",
    "result = chain.invoke(test_input)\n",
    "print(result)"
   ]
  },
  {
   "cell_type": "markdown",
   "metadata": {},
   "source": [
    "### Extract queries"
   ]
  },
  {
   "cell_type": "code",
   "execution_count": 11,
   "metadata": {},
   "outputs": [
    {
     "name": "stdout",
     "output_type": "stream",
     "text": [
      "{'Query 1': \"I'm interested in air temperature near surface at a monthly \"\n",
      "            'resolution.',\n",
      " 'Query 2': \"I'm interested in precipitation flux at a resolution of a day.\"}\n"
     ]
    }
   ],
   "source": [
    "queries = queries_to_list(result)\n",
    "\n",
    "pprint(queries)"
   ]
  },
  {
   "cell_type": "markdown",
   "metadata": {},
   "source": [
    "### Confirm split queries with user"
   ]
  },
  {
   "cell_type": "code",
   "execution_count": 12,
   "metadata": {},
   "outputs": [
    {
     "name": "stdout",
     "output_type": "stream",
     "text": [
      "Here are the individual queries that were extracted from your input:\n",
      "\n",
      "Split query 1: \"I'm interested in air temperature near surface at a monthly resolution.\"\n",
      "Split query 2: \"I'm interested in precipitation flux at a resolution of a day.\"\n",
      "Great! Let's proceed.\n",
      "We are now ready to proceed with the queries.\n"
     ]
    }
   ],
   "source": [
    "satisfied = False\n",
    "\n",
    "while not satisfied:\n",
    "    print(\"Here are the individual queries that were extracted from your input:\\n\")\n",
    "    print(result)\n",
    "    yes_no = input(\"Would you like to proceed with these queries? (yes/no)\")\n",
    "\n",
    "    if 'yes' in yes_no.lower():\n",
    "        print(\"Great! Let's proceed.\")\n",
    "        satisfied = True\n",
    "\n",
    "    elif 'no' in yes_no.lower():\n",
    "        adjustments = input(\"What adjustments would you like to make to the queries?\")\n",
    "        adjustments_prompt = get_adjustment_prompt()\n",
    "        chain = adjustments_prompt | llm | StrOutputParser()\n",
    "        result = chain.invoke({'initial_queries':result, 'adjustment':adjustments})\n",
    "        print(result)\n",
    "        \n",
    "print(\"We are now ready to proceed with the queries.\")"
   ]
  },
  {
   "cell_type": "code",
   "execution_count": 13,
   "metadata": {},
   "outputs": [
    {
     "name": "stdout",
     "output_type": "stream",
     "text": [
      "{'Query 1': \"I'm interested in air temperature near surface at a monthly \"\n",
      "            'resolution.',\n",
      " 'Query 2': \"I'm interested in precipitation flux at a resolution of a day.\"}\n"
     ]
    }
   ],
   "source": [
    "extracted_queries = queries_to_list(result)\n",
    "pprint(extracted_queries)"
   ]
  },
  {
   "cell_type": "code",
   "execution_count": 14,
   "metadata": {},
   "outputs": [
    {
     "name": "stdout",
     "output_type": "stream",
     "text": [
      "Length of dictionary:  223\n"
     ]
    }
   ],
   "source": [
    "dicts = utils.get_urls('./paths.txt')\n",
    "df = pd.DataFrame.from_dict(dicts, orient='index')"
   ]
  },
  {
   "cell_type": "code",
   "execution_count": 15,
   "metadata": {},
   "outputs": [],
   "source": [
    "docsVAR = utils.read_dictionary_from_file('./docsVAR.txt')\n",
    "docsTR = utils.read_dictionary_from_file('./docsTR.txt')\n",
    "\n",
    "df['def_variable']            = df['variable'].apply(lambda x: docsVAR.get(x, 'UNK'))\n",
    "df['def_temporal_resolution'] = df['temporal_resolution'].apply(lambda x: docsTR.get(x, 'UNK'))"
   ]
  },
  {
   "cell_type": "code",
   "execution_count": 16,
   "metadata": {},
   "outputs": [
    {
     "name": "stdout",
     "output_type": "stream",
     "text": [
      "Subset dataframe ratio: 8/223\n"
     ]
    },
    {
     "data": {
      "text/html": [
       "<div>\n",
       "<style scoped>\n",
       "    .dataframe tbody tr th:only-of-type {\n",
       "        vertical-align: middle;\n",
       "    }\n",
       "\n",
       "    .dataframe tbody tr th {\n",
       "        vertical-align: top;\n",
       "    }\n",
       "\n",
       "    .dataframe thead th {\n",
       "        text-align: right;\n",
       "    }\n",
       "</style>\n",
       "<table border=\"1\" class=\"dataframe\">\n",
       "  <thead>\n",
       "    <tr style=\"text-align: right;\">\n",
       "      <th></th>\n",
       "      <th>activity_id</th>\n",
       "      <th>experiment_id</th>\n",
       "      <th>temporal_resolution</th>\n",
       "      <th>variable</th>\n",
       "      <th>def_variable</th>\n",
       "      <th>def_temporal_resolution</th>\n",
       "    </tr>\n",
       "  </thead>\n",
       "  <tbody>\n",
       "    <tr>\n",
       "      <th>portal.nccs.nasa.gov/datashare/giss_cmip6/ScenarioMIP/NASA-GISS/GISS-E2-1-G/ssp119/r1i1p1f2/3hr/pr/gn/v20200115</th>\n",
       "      <td>ScenarioMIP</td>\n",
       "      <td>ssp119</td>\n",
       "      <td>3hr</td>\n",
       "      <td>pr</td>\n",
       "      <td>precipitation flux. precipitation flux is the ...</td>\n",
       "      <td>three (3) hour resolution</td>\n",
       "    </tr>\n",
       "    <tr>\n",
       "      <th>portal.nccs.nasa.gov/datashare/giss_cmip6/ScenarioMIP/NASA-GISS/GISS-E2-1-G/ssp119/r1i1p1f2/3hr/tas/gn/v20200115</th>\n",
       "      <td>ScenarioMIP</td>\n",
       "      <td>ssp119</td>\n",
       "      <td>3hr</td>\n",
       "      <td>tas</td>\n",
       "      <td>air temperature near surface. air temperature ...</td>\n",
       "      <td>three (3) hour resolution</td>\n",
       "    </tr>\n",
       "    <tr>\n",
       "      <th>portal.nccs.nasa.gov/datashare/giss_cmip6/ScenarioMIP/NASA-GISS/GISS-E2-1-G/ssp119/r1i1p1f2/Amon/pr/gn/v20200115</th>\n",
       "      <td>ScenarioMIP</td>\n",
       "      <td>ssp119</td>\n",
       "      <td>Amon</td>\n",
       "      <td>pr</td>\n",
       "      <td>precipitation flux. precipitation flux is the ...</td>\n",
       "      <td>monthly resolution, for atmospheric variables</td>\n",
       "    </tr>\n",
       "    <tr>\n",
       "      <th>portal.nccs.nasa.gov/datashare/giss_cmip6/ScenarioMIP/NASA-GISS/GISS-E2-1-G/ssp119/r1i1p1f2/Amon/ta/gn/v20200115</th>\n",
       "      <td>ScenarioMIP</td>\n",
       "      <td>ssp119</td>\n",
       "      <td>Amon</td>\n",
       "      <td>ta</td>\n",
       "      <td>air temperature. air temperature is the temper...</td>\n",
       "      <td>monthly resolution, for atmospheric variables</td>\n",
       "    </tr>\n",
       "    <tr>\n",
       "      <th>portal.nccs.nasa.gov/datashare/giss_cmip6/ScenarioMIP/NASA-GISS/GISS-E2-1-G/ssp119/r1i1p1f2/Amon/tas/gn/v20200115</th>\n",
       "      <td>ScenarioMIP</td>\n",
       "      <td>ssp119</td>\n",
       "      <td>Amon</td>\n",
       "      <td>tas</td>\n",
       "      <td>air temperature near surface. air temperature ...</td>\n",
       "      <td>monthly resolution, for atmospheric variables</td>\n",
       "    </tr>\n",
       "    <tr>\n",
       "      <th>portal.nccs.nasa.gov/datashare/giss_cmip6/ScenarioMIP/NASA-GISS/GISS-E2-1-G/ssp119/r1i1p1f2/day/pr/gn/v20200115</th>\n",
       "      <td>ScenarioMIP</td>\n",
       "      <td>ssp119</td>\n",
       "      <td>day</td>\n",
       "      <td>pr</td>\n",
       "      <td>precipitation flux. precipitation flux is the ...</td>\n",
       "      <td>daily resolution, measured every day</td>\n",
       "    </tr>\n",
       "    <tr>\n",
       "      <th>portal.nccs.nasa.gov/datashare/giss_cmip6/ScenarioMIP/NASA-GISS/GISS-E2-1-G/ssp119/r1i1p1f2/day/ta/gn/v20200115</th>\n",
       "      <td>ScenarioMIP</td>\n",
       "      <td>ssp119</td>\n",
       "      <td>day</td>\n",
       "      <td>ta</td>\n",
       "      <td>air temperature. air temperature is the temper...</td>\n",
       "      <td>daily resolution, measured every day</td>\n",
       "    </tr>\n",
       "    <tr>\n",
       "      <th>portal.nccs.nasa.gov/datashare/giss_cmip6/ScenarioMIP/NASA-GISS/GISS-E2-1-G/ssp119/r1i1p1f2/day/tas/gn/v20200115</th>\n",
       "      <td>ScenarioMIP</td>\n",
       "      <td>ssp119</td>\n",
       "      <td>day</td>\n",
       "      <td>tas</td>\n",
       "      <td>air temperature near surface. air temperature ...</td>\n",
       "      <td>daily resolution, measured every day</td>\n",
       "    </tr>\n",
       "  </tbody>\n",
       "</table>\n",
       "</div>"
      ],
      "text/plain": [
       "                                                    activity_id experiment_id  \\\n",
       "portal.nccs.nasa.gov/datashare/giss_cmip6/Scena...  ScenarioMIP        ssp119   \n",
       "portal.nccs.nasa.gov/datashare/giss_cmip6/Scena...  ScenarioMIP        ssp119   \n",
       "portal.nccs.nasa.gov/datashare/giss_cmip6/Scena...  ScenarioMIP        ssp119   \n",
       "portal.nccs.nasa.gov/datashare/giss_cmip6/Scena...  ScenarioMIP        ssp119   \n",
       "portal.nccs.nasa.gov/datashare/giss_cmip6/Scena...  ScenarioMIP        ssp119   \n",
       "portal.nccs.nasa.gov/datashare/giss_cmip6/Scena...  ScenarioMIP        ssp119   \n",
       "portal.nccs.nasa.gov/datashare/giss_cmip6/Scena...  ScenarioMIP        ssp119   \n",
       "portal.nccs.nasa.gov/datashare/giss_cmip6/Scena...  ScenarioMIP        ssp119   \n",
       "\n",
       "                                                   temporal_resolution  \\\n",
       "portal.nccs.nasa.gov/datashare/giss_cmip6/Scena...                 3hr   \n",
       "portal.nccs.nasa.gov/datashare/giss_cmip6/Scena...                 3hr   \n",
       "portal.nccs.nasa.gov/datashare/giss_cmip6/Scena...                Amon   \n",
       "portal.nccs.nasa.gov/datashare/giss_cmip6/Scena...                Amon   \n",
       "portal.nccs.nasa.gov/datashare/giss_cmip6/Scena...                Amon   \n",
       "portal.nccs.nasa.gov/datashare/giss_cmip6/Scena...                 day   \n",
       "portal.nccs.nasa.gov/datashare/giss_cmip6/Scena...                 day   \n",
       "portal.nccs.nasa.gov/datashare/giss_cmip6/Scena...                 day   \n",
       "\n",
       "                                                   variable  \\\n",
       "portal.nccs.nasa.gov/datashare/giss_cmip6/Scena...       pr   \n",
       "portal.nccs.nasa.gov/datashare/giss_cmip6/Scena...      tas   \n",
       "portal.nccs.nasa.gov/datashare/giss_cmip6/Scena...       pr   \n",
       "portal.nccs.nasa.gov/datashare/giss_cmip6/Scena...       ta   \n",
       "portal.nccs.nasa.gov/datashare/giss_cmip6/Scena...      tas   \n",
       "portal.nccs.nasa.gov/datashare/giss_cmip6/Scena...       pr   \n",
       "portal.nccs.nasa.gov/datashare/giss_cmip6/Scena...       ta   \n",
       "portal.nccs.nasa.gov/datashare/giss_cmip6/Scena...      tas   \n",
       "\n",
       "                                                                                         def_variable  \\\n",
       "portal.nccs.nasa.gov/datashare/giss_cmip6/Scena...  precipitation flux. precipitation flux is the ...   \n",
       "portal.nccs.nasa.gov/datashare/giss_cmip6/Scena...  air temperature near surface. air temperature ...   \n",
       "portal.nccs.nasa.gov/datashare/giss_cmip6/Scena...  precipitation flux. precipitation flux is the ...   \n",
       "portal.nccs.nasa.gov/datashare/giss_cmip6/Scena...  air temperature. air temperature is the temper...   \n",
       "portal.nccs.nasa.gov/datashare/giss_cmip6/Scena...  air temperature near surface. air temperature ...   \n",
       "portal.nccs.nasa.gov/datashare/giss_cmip6/Scena...  precipitation flux. precipitation flux is the ...   \n",
       "portal.nccs.nasa.gov/datashare/giss_cmip6/Scena...  air temperature. air temperature is the temper...   \n",
       "portal.nccs.nasa.gov/datashare/giss_cmip6/Scena...  air temperature near surface. air temperature ...   \n",
       "\n",
       "                                                                          def_temporal_resolution  \n",
       "portal.nccs.nasa.gov/datashare/giss_cmip6/Scena...                      three (3) hour resolution  \n",
       "portal.nccs.nasa.gov/datashare/giss_cmip6/Scena...                      three (3) hour resolution  \n",
       "portal.nccs.nasa.gov/datashare/giss_cmip6/Scena...  monthly resolution, for atmospheric variables  \n",
       "portal.nccs.nasa.gov/datashare/giss_cmip6/Scena...  monthly resolution, for atmospheric variables  \n",
       "portal.nccs.nasa.gov/datashare/giss_cmip6/Scena...  monthly resolution, for atmospheric variables  \n",
       "portal.nccs.nasa.gov/datashare/giss_cmip6/Scena...           daily resolution, measured every day  \n",
       "portal.nccs.nasa.gov/datashare/giss_cmip6/Scena...           daily resolution, measured every day  \n",
       "portal.nccs.nasa.gov/datashare/giss_cmip6/Scena...           daily resolution, measured every day  "
      ]
     },
     "execution_count": 16,
     "metadata": {},
     "output_type": "execute_result"
    }
   ],
   "source": [
    "dfsub = df[(df['def_temporal_resolution']!='UNK') & (df['def_variable']!='UNK')]\n",
    "print(f\"Subset dataframe ratio: {len(dfsub)}/{len(df)}\")\n",
    "dfsub"
   ]
  },
  {
   "cell_type": "code",
   "execution_count": 21,
   "metadata": {},
   "outputs": [
    {
     "name": "stderr",
     "output_type": "stream",
     "text": [
      "/Users/brabiei/miniconda3/envs/langchain_env/lib/python3.11/site-packages/langchain_experimental/agents/agent_toolkits/pandas/base.py:282: UserWarning: Received additional kwargs {'handle_parsing_errors': \"You you believe that the data doesn't contain the information you are looking for, please try rephrasing your question.\"} which are no longer supported.\n",
      "  warnings.warn(\n"
     ]
    },
    {
     "name": "stdout",
     "output_type": "stream",
     "text": [
      "Testing agent...\n",
      "\n",
      "\n",
      "\u001b[1m> Entering new AgentExecutor chain...\u001b[0m\n",
      "\u001b[32;1m\u001b[1;3m\n",
      "Invoking: `python_repl_ast` with `{'query': \"import pandas as pd\\ndata = {'': ['portal.nccs.nasa.gov/datashare/giss_cmip6/ScenarioMIP/NASA-GISS/GISS-E2-1-G/ssp119/r1i1p1f2/3hr/pr/gn/v20200115', 'portal.nccs.nasa.gov/datashare/giss_cmip6/ScenarioMIP/NASA-GISS/GISS-E2-1-G/ssp119/r1i1p1f2/3hr/tas/gn/v20200115', 'portal.nccs.nasa.gov/datashare/giss_cmip6/ScenarioMIP/NASA-GISS/GISS-E2-1-G/ssp119/r1i1p1f2/Amon/pr/gn/v20200115', 'portal.nccs.nasa.gov/datashare/giss_cmip6/ScenarioMIP/NASA-GISS/GISS-E2-1-G/ssp119/r1i1p1f2/Amon/ta/gn/v20200115', 'portal.nccs.nasa.gov/datashare/giss_cmip6/ScenarioMIP/NASA-GISS/GISS-E2-1-G/ssp119/r1i1p1f2/Amon/tas/gn/v20200115'], 'activity_id': ['ScenarioMIP', 'ScenarioMIP', 'ScenarioMIP', 'ScenarioMIP', 'ScenarioMIP'], 'experiment_id': ['ssp119', 'ssp119', 'ssp119', 'ssp119', 'ssp119'], 'temporal_resolution': ['3hr', '3hr', 'Amon', 'Amon', 'Amon'], 'variable': ['pr', 'tas', 'pr', 'ta', 'tas'], 'def_variable': ['precipitation flux. precipitation flux is the flux of water equivalent (rain or snow) reaching the land surface. This includes the liquid and solid phases of water', 'air temperature near surface. air temperature near surface is the temperature of air at 2 meters above the surface of land, sea or inland waters', 'precipitation flux. precipitation flux is the flux of water equivalent (rain or snow) reaching the land surface. This includes the liquid and solid phases of water', 'air temperature. air temperature is the temperature in the atmosphere. It has units of Kelvin (K). Temperature measured in kelvin can be converted to degrees Celsius (°C) by subtracting 273.15. This parameter is available on multiple levels through the atmosphere', 'air temperature near surface. air temperature near surface is the temperature of air at 2 meters above the surface of land, sea or inland waters'], 'def_temporal_resolution': ['three (3) hour resolution', 'three (3) hour resolution', 'monthly resolution, for atmospheric variables', 'monthly resolution, for atmospheric variables', 'monthly resolution, for atmospheric variables']}\\ndf = pd.DataFrame(data)\\nprint(df[(df['temporal_resolution'] == 'Amon') & (df['variable'].str.contains('ta'))])\"}`\n",
      "\n",
      "\n",
      "\u001b[0m\u001b[36;1m\u001b[1;3m                                                      activity_id  \\\n",
      "3  portal.nccs.nasa.gov/datashare/giss_cmip6/Scen...  ScenarioMIP   \n",
      "4  portal.nccs.nasa.gov/datashare/giss_cmip6/Scen...  ScenarioMIP   \n",
      "\n",
      "  experiment_id temporal_resolution variable  \\\n",
      "3        ssp119                Amon       ta   \n",
      "4        ssp119                Amon      tas   \n",
      "\n",
      "                                        def_variable  \\\n",
      "3  air temperature. air temperature is the temper...   \n",
      "4  air temperature near surface. air temperature ...   \n",
      "\n",
      "                         def_temporal_resolution  \n",
      "3  monthly resolution, for atmospheric variables  \n",
      "4  monthly resolution, for atmospheric variables  \n",
      "\u001b[0m\u001b[32;1m\u001b[1;3mThe air temperature data available at monthly resolution (\"Amon\") includes:\n",
      "\n",
      "1. **Air Temperature (ta)**:\n",
      "   - **Definition**: Air temperature is the temperature in the atmosphere. It has units of Kelvin (K). Temperature measured in Kelvin can be converted to degrees Celsius (°C) by subtracting 273.15. This parameter is available on multiple levels through the atmosphere.\n",
      "   - **URL**: [portal.nccs.nasa.gov/datashare/giss_cmip6/ScenarioMIP/NASA-GISS/GISS-E2-1-G/ssp119/r1i1p1f2/Amon/ta/gn/v20200115](portal.nccs.nasa.gov/datashare/giss_cmip6/ScenarioMIP/NASA-GISS/GISS-E2-1-G/ssp119/r1i1p1f2/Amon/ta/gn/v20200115)\n",
      "\n",
      "2. **Air Temperature Near Surface (tas)**:\n",
      "   - **Definition**: Air temperature near surface is the temperature of air at 2 meters above the surface of land, sea, or inland waters.\n",
      "   - **URL**: [portal.nccs.nasa.gov/datashare/giss_cmip6/ScenarioMIP/NASA-GISS/GISS-E2-1-G/ssp119/r1i1p1f2/Amon/tas/gn/v20200115](portal.nccs.nasa.gov/datashare/giss_cmip6/ScenarioMIP/NASA-GISS/GISS-E2-1-G/ssp119/r1i1p1f2/Amon/tas/gn/v20200115)\n",
      "\n",
      "Both datasets are part of the ScenarioMIP experiment with the experiment ID \"ssp119\".\u001b[0m\n",
      "\n",
      "\u001b[1m> Finished chain.\u001b[0m\n",
      "{'input': ' air temperature monthly resolution?',\n",
      " 'intermediate_steps': [(AgentActionMessageLog(tool='python_repl_ast', tool_input={'query': \"import pandas as pd\\ndata = {'': ['portal.nccs.nasa.gov/datashare/giss_cmip6/ScenarioMIP/NASA-GISS/GISS-E2-1-G/ssp119/r1i1p1f2/3hr/pr/gn/v20200115', 'portal.nccs.nasa.gov/datashare/giss_cmip6/ScenarioMIP/NASA-GISS/GISS-E2-1-G/ssp119/r1i1p1f2/3hr/tas/gn/v20200115', 'portal.nccs.nasa.gov/datashare/giss_cmip6/ScenarioMIP/NASA-GISS/GISS-E2-1-G/ssp119/r1i1p1f2/Amon/pr/gn/v20200115', 'portal.nccs.nasa.gov/datashare/giss_cmip6/ScenarioMIP/NASA-GISS/GISS-E2-1-G/ssp119/r1i1p1f2/Amon/ta/gn/v20200115', 'portal.nccs.nasa.gov/datashare/giss_cmip6/ScenarioMIP/NASA-GISS/GISS-E2-1-G/ssp119/r1i1p1f2/Amon/tas/gn/v20200115'], 'activity_id': ['ScenarioMIP', 'ScenarioMIP', 'ScenarioMIP', 'ScenarioMIP', 'ScenarioMIP'], 'experiment_id': ['ssp119', 'ssp119', 'ssp119', 'ssp119', 'ssp119'], 'temporal_resolution': ['3hr', '3hr', 'Amon', 'Amon', 'Amon'], 'variable': ['pr', 'tas', 'pr', 'ta', 'tas'], 'def_variable': ['precipitation flux. precipitation flux is the flux of water equivalent (rain or snow) reaching the land surface. This includes the liquid and solid phases of water', 'air temperature near surface. air temperature near surface is the temperature of air at 2 meters above the surface of land, sea or inland waters', 'precipitation flux. precipitation flux is the flux of water equivalent (rain or snow) reaching the land surface. This includes the liquid and solid phases of water', 'air temperature. air temperature is the temperature in the atmosphere. It has units of Kelvin (K). Temperature measured in kelvin can be converted to degrees Celsius (°C) by subtracting 273.15. This parameter is available on multiple levels through the atmosphere', 'air temperature near surface. air temperature near surface is the temperature of air at 2 meters above the surface of land, sea or inland waters'], 'def_temporal_resolution': ['three (3) hour resolution', 'three (3) hour resolution', 'monthly resolution, for atmospheric variables', 'monthly resolution, for atmospheric variables', 'monthly resolution, for atmospheric variables']}\\ndf = pd.DataFrame(data)\\nprint(df[(df['temporal_resolution'] == 'Amon') & (df['variable'].str.contains('ta'))])\"}, log='\\nInvoking: `python_repl_ast` with `{\\'query\\': \"import pandas as pd\\\\ndata = {\\'\\': [\\'portal.nccs.nasa.gov/datashare/giss_cmip6/ScenarioMIP/NASA-GISS/GISS-E2-1-G/ssp119/r1i1p1f2/3hr/pr/gn/v20200115\\', \\'portal.nccs.nasa.gov/datashare/giss_cmip6/ScenarioMIP/NASA-GISS/GISS-E2-1-G/ssp119/r1i1p1f2/3hr/tas/gn/v20200115\\', \\'portal.nccs.nasa.gov/datashare/giss_cmip6/ScenarioMIP/NASA-GISS/GISS-E2-1-G/ssp119/r1i1p1f2/Amon/pr/gn/v20200115\\', \\'portal.nccs.nasa.gov/datashare/giss_cmip6/ScenarioMIP/NASA-GISS/GISS-E2-1-G/ssp119/r1i1p1f2/Amon/ta/gn/v20200115\\', \\'portal.nccs.nasa.gov/datashare/giss_cmip6/ScenarioMIP/NASA-GISS/GISS-E2-1-G/ssp119/r1i1p1f2/Amon/tas/gn/v20200115\\'], \\'activity_id\\': [\\'ScenarioMIP\\', \\'ScenarioMIP\\', \\'ScenarioMIP\\', \\'ScenarioMIP\\', \\'ScenarioMIP\\'], \\'experiment_id\\': [\\'ssp119\\', \\'ssp119\\', \\'ssp119\\', \\'ssp119\\', \\'ssp119\\'], \\'temporal_resolution\\': [\\'3hr\\', \\'3hr\\', \\'Amon\\', \\'Amon\\', \\'Amon\\'], \\'variable\\': [\\'pr\\', \\'tas\\', \\'pr\\', \\'ta\\', \\'tas\\'], \\'def_variable\\': [\\'precipitation flux. precipitation flux is the flux of water equivalent (rain or snow) reaching the land surface. This includes the liquid and solid phases of water\\', \\'air temperature near surface. air temperature near surface is the temperature of air at 2 meters above the surface of land, sea or inland waters\\', \\'precipitation flux. precipitation flux is the flux of water equivalent (rain or snow) reaching the land surface. This includes the liquid and solid phases of water\\', \\'air temperature. air temperature is the temperature in the atmosphere. It has units of Kelvin (K). Temperature measured in kelvin can be converted to degrees Celsius (°C) by subtracting 273.15. This parameter is available on multiple levels through the atmosphere\\', \\'air temperature near surface. air temperature near surface is the temperature of air at 2 meters above the surface of land, sea or inland waters\\'], \\'def_temporal_resolution\\': [\\'three (3) hour resolution\\', \\'three (3) hour resolution\\', \\'monthly resolution, for atmospheric variables\\', \\'monthly resolution, for atmospheric variables\\', \\'monthly resolution, for atmospheric variables\\']}\\\\ndf = pd.DataFrame(data)\\\\nprint(df[(df[\\'temporal_resolution\\'] == \\'Amon\\') & (df[\\'variable\\'].str.contains(\\'ta\\'))])\"}`\\n\\n\\n', message_log=[AIMessageChunk(content='', additional_kwargs={'function_call': {'arguments': '{\"query\":\"import pandas as pd\\\\ndata = {\\'\\': [\\'portal.nccs.nasa.gov/datashare/giss_cmip6/ScenarioMIP/NASA-GISS/GISS-E2-1-G/ssp119/r1i1p1f2/3hr/pr/gn/v20200115\\', \\'portal.nccs.nasa.gov/datashare/giss_cmip6/ScenarioMIP/NASA-GISS/GISS-E2-1-G/ssp119/r1i1p1f2/3hr/tas/gn/v20200115\\', \\'portal.nccs.nasa.gov/datashare/giss_cmip6/ScenarioMIP/NASA-GISS/GISS-E2-1-G/ssp119/r1i1p1f2/Amon/pr/gn/v20200115\\', \\'portal.nccs.nasa.gov/datashare/giss_cmip6/ScenarioMIP/NASA-GISS/GISS-E2-1-G/ssp119/r1i1p1f2/Amon/ta/gn/v20200115\\', \\'portal.nccs.nasa.gov/datashare/giss_cmip6/ScenarioMIP/NASA-GISS/GISS-E2-1-G/ssp119/r1i1p1f2/Amon/tas/gn/v20200115\\'], \\'activity_id\\': [\\'ScenarioMIP\\', \\'ScenarioMIP\\', \\'ScenarioMIP\\', \\'ScenarioMIP\\', \\'ScenarioMIP\\'], \\'experiment_id\\': [\\'ssp119\\', \\'ssp119\\', \\'ssp119\\', \\'ssp119\\', \\'ssp119\\'], \\'temporal_resolution\\': [\\'3hr\\', \\'3hr\\', \\'Amon\\', \\'Amon\\', \\'Amon\\'], \\'variable\\': [\\'pr\\', \\'tas\\', \\'pr\\', \\'ta\\', \\'tas\\'], \\'def_variable\\': [\\'precipitation flux. precipitation flux is the flux of water equivalent (rain or snow) reaching the land surface. This includes the liquid and solid phases of water\\', \\'air temperature near surface. air temperature near surface is the temperature of air at 2 meters above the surface of land, sea or inland waters\\', \\'precipitation flux. precipitation flux is the flux of water equivalent (rain or snow) reaching the land surface. This includes the liquid and solid phases of water\\', \\'air temperature. air temperature is the temperature in the atmosphere. It has units of Kelvin (K). Temperature measured in kelvin can be converted to degrees Celsius (°C) by subtracting 273.15. This parameter is available on multiple levels through the atmosphere\\', \\'air temperature near surface. air temperature near surface is the temperature of air at 2 meters above the surface of land, sea or inland waters\\'], \\'def_temporal_resolution\\': [\\'three (3) hour resolution\\', \\'three (3) hour resolution\\', \\'monthly resolution, for atmospheric variables\\', \\'monthly resolution, for atmospheric variables\\', \\'monthly resolution, for atmospheric variables\\']}\\\\ndf = pd.DataFrame(data)\\\\nprint(df[(df[\\'temporal_resolution\\'] == \\'Amon\\') & (df[\\'variable\\'].str.contains(\\'ta\\'))])\"}', 'name': 'python_repl_ast'}}, response_metadata={'finish_reason': 'function_call', 'model_name': 'gpt-4-turbo-2024-04-09', 'system_fingerprint': 'fp_7d35882d38'}, id='run-fc46aed9-4c2a-43e7-a70e-24646cc83dc0')]),\n",
      "                         '                                                      '\n",
      "                         'activity_id  \\\\\\n'\n",
      "                         '3  '\n",
      "                         'portal.nccs.nasa.gov/datashare/giss_cmip6/Scen...  '\n",
      "                         'ScenarioMIP   \\n'\n",
      "                         '4  '\n",
      "                         'portal.nccs.nasa.gov/datashare/giss_cmip6/Scen...  '\n",
      "                         'ScenarioMIP   \\n'\n",
      "                         '\\n'\n",
      "                         '  experiment_id temporal_resolution variable  \\\\\\n'\n",
      "                         '3        ssp119                Amon       ta   \\n'\n",
      "                         '4        ssp119                Amon      tas   \\n'\n",
      "                         '\\n'\n",
      "                         '                                        '\n",
      "                         'def_variable  \\\\\\n'\n",
      "                         '3  air temperature. air temperature is the '\n",
      "                         'temper...   \\n'\n",
      "                         '4  air temperature near surface. air temperature '\n",
      "                         '...   \\n'\n",
      "                         '\\n'\n",
      "                         '                         def_temporal_resolution  \\n'\n",
      "                         '3  monthly resolution, for atmospheric variables  \\n'\n",
      "                         '4  monthly resolution, for atmospheric '\n",
      "                         'variables  \\n')],\n",
      " 'output': 'The air temperature data available at monthly resolution (\"Amon\") '\n",
      "           'includes:\\n'\n",
      "           '\\n'\n",
      "           '1. **Air Temperature (ta)**:\\n'\n",
      "           '   - **Definition**: Air temperature is the temperature in the '\n",
      "           'atmosphere. It has units of Kelvin (K). Temperature measured in '\n",
      "           'Kelvin can be converted to degrees Celsius (°C) by subtracting '\n",
      "           '273.15. This parameter is available on multiple levels through the '\n",
      "           'atmosphere.\\n'\n",
      "           '   - **URL**: '\n",
      "           '[portal.nccs.nasa.gov/datashare/giss_cmip6/ScenarioMIP/NASA-GISS/GISS-E2-1-G/ssp119/r1i1p1f2/Amon/ta/gn/v20200115](portal.nccs.nasa.gov/datashare/giss_cmip6/ScenarioMIP/NASA-GISS/GISS-E2-1-G/ssp119/r1i1p1f2/Amon/ta/gn/v20200115)\\n'\n",
      "           '\\n'\n",
      "           '2. **Air Temperature Near Surface (tas)**:\\n'\n",
      "           '   - **Definition**: Air temperature near surface is the '\n",
      "           'temperature of air at 2 meters above the surface of land, sea, or '\n",
      "           'inland waters.\\n'\n",
      "           '   - **URL**: '\n",
      "           '[portal.nccs.nasa.gov/datashare/giss_cmip6/ScenarioMIP/NASA-GISS/GISS-E2-1-G/ssp119/r1i1p1f2/Amon/tas/gn/v20200115](portal.nccs.nasa.gov/datashare/giss_cmip6/ScenarioMIP/NASA-GISS/GISS-E2-1-G/ssp119/r1i1p1f2/Amon/tas/gn/v20200115)\\n'\n",
      "           '\\n'\n",
      "           'Both datasets are part of the ScenarioMIP experiment with the '\n",
      "           'experiment ID \"ssp119\".'}\n"
     ]
    }
   ],
   "source": [
    "agent = create_pandas_dataframe_agent(\n",
    "    ChatOpenAI(temperature=0, model=\"gpt-4-turbo\"),\n",
    "    dfsub,\n",
    "    verbose=True,\n",
    "    agent_type=AgentType.OPENAI_FUNCTIONS,\n",
    "    allow_dangerous_code=True,\n",
    "    handle_parsing_errors=\"You you believe that the data doesn't contain the information you are looking for, please try rephrasing your question.\",\n",
    "    return_intermediate_steps=True,\n",
    "    #handle_parsing_errors= \"If your output has an error, make sure strings are enclosed in double quotes, and line breaks within strings are properly escaped.\"\n",
    ")\n",
    "\n",
    "print(\"Testing agent...\")\n",
    "pprint(agent.invoke(\" air temperature monthly resolution?\"))"
   ]
  },
  {
   "cell_type": "code",
   "execution_count": 22,
   "metadata": {},
   "outputs": [
    {
     "name": "stdout",
     "output_type": "stream",
     "text": [
      "Query Query 1: I'm interested in air temperature near surface at a monthly resolution.\n",
      "\n",
      "\n",
      "\u001b[1m> Entering new AgentExecutor chain...\u001b[0m\n",
      "\u001b[32;1m\u001b[1;3m\n",
      "Invoking: `python_repl_ast` with `{'query': \"df[(df['variable'] == 'tas') & (df['temporal_resolution'] == 'Amon')]\"}`\n",
      "responded: To find the data related to air temperature near the surface at a monthly resolution, we can filter the dataframe `df` based on the `variable` column for \"tas\" (which stands for air temperature near surface) and the `temporal_resolution` column for \"Amon\" (which indicates monthly resolution). Let's perform this filtering to retrieve the relevant rows.\n",
      "\n",
      "\u001b[0m\u001b[36;1m\u001b[1;3m                                                      activity_id  \\\n",
      "4  portal.nccs.nasa.gov/datashare/giss_cmip6/Scen...  ScenarioMIP   \n",
      "\n",
      "  experiment_id temporal_resolution variable  \\\n",
      "4        ssp119                Amon      tas   \n",
      "\n",
      "                                        def_variable  \\\n",
      "4  air temperature near surface. air temperature ...   \n",
      "\n",
      "                         def_temporal_resolution  \n",
      "4  monthly resolution, for atmospheric variables  \u001b[0m\u001b[32;1m\u001b[1;3mThe data related to air temperature near the surface at a monthly resolution is available in the following entry:\n",
      "\n",
      "- **URL**: `portal.nccs.nasa.gov/datashare/giss_cmip6/ScenarioMIP/NASA-GISS/GISS-E2-1-G/ssp119/r1i1p1f2/Amon/tas/gn/v20200115`\n",
      "- **Activity ID**: `ScenarioMIP`\n",
      "- **Experiment ID**: `ssp119`\n",
      "- **Temporal Resolution**: `Amon` (monthly resolution)\n",
      "- **Variable**: `tas` (air temperature near surface)\n",
      "- **Definition of Variable**: Air temperature near surface is the temperature of air at 2 meters above the surface of land, sea or inland waters.\n",
      "- **Definition of Temporal Resolution**: Monthly resolution, for atmospheric variables.\n",
      "\n",
      "You can access this data using the provided URL.\u001b[0m\n",
      "\n",
      "\u001b[1m> Finished chain.\u001b[0m\n",
      "\n",
      "\n",
      "Query Query 2: I'm interested in precipitation flux at a resolution of a day.\n",
      "\n",
      "\n",
      "\u001b[1m> Entering new AgentExecutor chain...\u001b[0m\n",
      "\u001b[32;1m\u001b[1;3m\n",
      "Invoking: `python_repl_ast` with `{'query': \"df[(df['variable'] == 'pr') & (df['temporal_resolution'].str.contains('day'))]\"}`\n",
      "responded: To find entries related to \"precipitation flux\" at a daily resolution in your dataframe, we need to filter the dataframe based on the `variable` column for \"pr\" (which stands for precipitation flux) and the `temporal_resolution` column for daily resolution.\n",
      "\n",
      "Let's check if there are any entries with a daily resolution for precipitation flux in your dataframe.\n",
      "\n",
      "\u001b[0m\u001b[36;1m\u001b[1;3mEmpty DataFrame\n",
      "Columns: [, activity_id, experiment_id, temporal_resolution, variable, def_variable, def_temporal_resolution]\n",
      "Index: []\u001b[0m\u001b[32;1m\u001b[1;3mIt appears that there are no entries for precipitation flux (\"pr\") at a daily resolution in the provided dataframe. The available resolutions for precipitation flux in your data are either \"3hr\" or \"Amon\" (monthly).\n",
      "\n",
      "If you need daily resolution data specifically, you might need to look for additional datasets or consider aggregating the 3-hour resolution data to daily totals if that suits your analysis needs.\u001b[0m\n",
      "\n",
      "\u001b[1m> Finished chain.\u001b[0m\n",
      "\n",
      "\n",
      "Here are the results of your queries:\n",
      "[{'input': \"I'm interested in air temperature near surface at a monthly \"\n",
      "           'resolution.',\n",
      "  'intermediate_steps': [(AgentActionMessageLog(tool='python_repl_ast', tool_input={'query': \"df[(df['variable'] == 'tas') & (df['temporal_resolution'] == 'Amon')]\"}, log='\\nInvoking: `python_repl_ast` with `{\\'query\\': \"df[(df[\\'variable\\'] == \\'tas\\') & (df[\\'temporal_resolution\\'] == \\'Amon\\')]\"}`\\nresponded: To find the data related to air temperature near the surface at a monthly resolution, we can filter the dataframe `df` based on the `variable` column for \"tas\" (which stands for air temperature near surface) and the `temporal_resolution` column for \"Amon\" (which indicates monthly resolution). Let\\'s perform this filtering to retrieve the relevant rows.\\n\\n', message_log=[AIMessageChunk(content='To find the data related to air temperature near the surface at a monthly resolution, we can filter the dataframe `df` based on the `variable` column for \"tas\" (which stands for air temperature near surface) and the `temporal_resolution` column for \"Amon\" (which indicates monthly resolution). Let\\'s perform this filtering to retrieve the relevant rows.', additional_kwargs={'function_call': {'arguments': '{\"query\":\"df[(df[\\'variable\\'] == \\'tas\\') & (df[\\'temporal_resolution\\'] == \\'Amon\\')]\"}', 'name': 'python_repl_ast'}}, response_metadata={'finish_reason': 'function_call', 'model_name': 'gpt-4-turbo-2024-04-09', 'system_fingerprint': 'fp_486730399b'}, id='run-8dcb1a35-0ead-4107-a2f4-2d4178ffcfcb')]),\n",
      "                                                                                activity_id  \\\n",
      "4  portal.nccs.nasa.gov/datashare/giss_cmip6/Scen...  ScenarioMIP   \n",
      "\n",
      "  experiment_id temporal_resolution variable  \\\n",
      "4        ssp119                Amon      tas   \n",
      "\n",
      "                                        def_variable  \\\n",
      "4  air temperature near surface. air temperature ...   \n",
      "\n",
      "                         def_temporal_resolution  \n",
      "4  monthly resolution, for atmospheric variables  )],\n",
      "  'output': 'The data related to air temperature near the surface at a monthly '\n",
      "            'resolution is available in the following entry:\\n'\n",
      "            '\\n'\n",
      "            '- **URL**: '\n",
      "            '`portal.nccs.nasa.gov/datashare/giss_cmip6/ScenarioMIP/NASA-GISS/GISS-E2-1-G/ssp119/r1i1p1f2/Amon/tas/gn/v20200115`\\n'\n",
      "            '- **Activity ID**: `ScenarioMIP`\\n'\n",
      "            '- **Experiment ID**: `ssp119`\\n'\n",
      "            '- **Temporal Resolution**: `Amon` (monthly resolution)\\n'\n",
      "            '- **Variable**: `tas` (air temperature near surface)\\n'\n",
      "            '- **Definition of Variable**: Air temperature near surface is the '\n",
      "            'temperature of air at 2 meters above the surface of land, sea or '\n",
      "            'inland waters.\\n'\n",
      "            '- **Definition of Temporal Resolution**: Monthly resolution, for '\n",
      "            'atmospheric variables.\\n'\n",
      "            '\\n'\n",
      "            'You can access this data using the provided URL.'},\n",
      " {'input': \"I'm interested in precipitation flux at a resolution of a day.\",\n",
      "  'intermediate_steps': [(AgentActionMessageLog(tool='python_repl_ast', tool_input={'query': \"df[(df['variable'] == 'pr') & (df['temporal_resolution'].str.contains('day'))]\"}, log='\\nInvoking: `python_repl_ast` with `{\\'query\\': \"df[(df[\\'variable\\'] == \\'pr\\') & (df[\\'temporal_resolution\\'].str.contains(\\'day\\'))]\"}`\\nresponded: To find entries related to \"precipitation flux\" at a daily resolution in your dataframe, we need to filter the dataframe based on the `variable` column for \"pr\" (which stands for precipitation flux) and the `temporal_resolution` column for daily resolution.\\n\\nLet\\'s check if there are any entries with a daily resolution for precipitation flux in your dataframe.\\n\\n', message_log=[AIMessageChunk(content='To find entries related to \"precipitation flux\" at a daily resolution in your dataframe, we need to filter the dataframe based on the `variable` column for \"pr\" (which stands for precipitation flux) and the `temporal_resolution` column for daily resolution.\\n\\nLet\\'s check if there are any entries with a daily resolution for precipitation flux in your dataframe.', additional_kwargs={'function_call': {'arguments': '{\"query\":\"df[(df[\\'variable\\'] == \\'pr\\') & (df[\\'temporal_resolution\\'].str.contains(\\'day\\'))]\"}', 'name': 'python_repl_ast'}}, response_metadata={'finish_reason': 'function_call', 'model_name': 'gpt-4-turbo-2024-04-09', 'system_fingerprint': 'fp_486730399b'}, id='run-b0f7a39c-62bb-472c-ae45-96da1ae6c345')]),\n",
      "                          Empty DataFrame\n",
      "Columns: [, activity_id, experiment_id, temporal_resolution, variable, def_variable, def_temporal_resolution]\n",
      "Index: [])],\n",
      "  'output': 'It appears that there are no entries for precipitation flux '\n",
      "            '(\"pr\") at a daily resolution in the provided dataframe. The '\n",
      "            'available resolutions for precipitation flux in your data are '\n",
      "            'either \"3hr\" or \"Amon\" (monthly).\\n'\n",
      "            '\\n'\n",
      "            'If you need daily resolution data specifically, you might need to '\n",
      "            'look for additional datasets or consider aggregating the 3-hour '\n",
      "            'resolution data to daily totals if that suits your analysis '\n",
      "            'needs.'}]\n"
     ]
    }
   ],
   "source": [
    "final_output = []\n",
    "for query_number, query_text in extracted_queries.items():\n",
    "    print(f\"Query {query_number}: {query_text}\")\n",
    "    final_output.append(agent.invoke(query_text))\n",
    "    print(\"\\n\")\n",
    "    \n",
    "print(\"Here are the results of your queries:\")\n",
    "pprint(final_output)"
   ]
  },
  {
   "cell_type": "code",
   "execution_count": 23,
   "metadata": {},
   "outputs": [
    {
     "data": {
      "text/html": [
       "<div>\n",
       "<style scoped>\n",
       "    .dataframe tbody tr th:only-of-type {\n",
       "        vertical-align: middle;\n",
       "    }\n",
       "\n",
       "    .dataframe tbody tr th {\n",
       "        vertical-align: top;\n",
       "    }\n",
       "\n",
       "    .dataframe thead th {\n",
       "        text-align: right;\n",
       "    }\n",
       "</style>\n",
       "<table border=\"1\" class=\"dataframe\">\n",
       "  <thead>\n",
       "    <tr style=\"text-align: right;\">\n",
       "      <th></th>\n",
       "      <th>activity_id</th>\n",
       "      <th>experiment_id</th>\n",
       "      <th>temporal_resolution</th>\n",
       "      <th>variable</th>\n",
       "      <th>def_variable</th>\n",
       "      <th>def_temporal_resolution</th>\n",
       "    </tr>\n",
       "  </thead>\n",
       "  <tbody>\n",
       "    <tr>\n",
       "      <th>portal.nccs.nasa.gov/datashare/giss_cmip6/ScenarioMIP/NASA-GISS/GISS-E2-1-G/ssp119/r1i1p1f2/day/pr/gn/v20200115</th>\n",
       "      <td>ScenarioMIP</td>\n",
       "      <td>ssp119</td>\n",
       "      <td>day</td>\n",
       "      <td>pr</td>\n",
       "      <td>precipitation flux. precipitation flux is the ...</td>\n",
       "      <td>daily resolution, measured every day</td>\n",
       "    </tr>\n",
       "  </tbody>\n",
       "</table>\n",
       "</div>"
      ],
      "text/plain": [
       "                                                    activity_id experiment_id  \\\n",
       "portal.nccs.nasa.gov/datashare/giss_cmip6/Scena...  ScenarioMIP        ssp119   \n",
       "\n",
       "                                                   temporal_resolution  \\\n",
       "portal.nccs.nasa.gov/datashare/giss_cmip6/Scena...                 day   \n",
       "\n",
       "                                                   variable  \\\n",
       "portal.nccs.nasa.gov/datashare/giss_cmip6/Scena...       pr   \n",
       "\n",
       "                                                                                         def_variable  \\\n",
       "portal.nccs.nasa.gov/datashare/giss_cmip6/Scena...  precipitation flux. precipitation flux is the ...   \n",
       "\n",
       "                                                                 def_temporal_resolution  \n",
       "portal.nccs.nasa.gov/datashare/giss_cmip6/Scena...  daily resolution, measured every day  "
      ]
     },
     "execution_count": 23,
     "metadata": {},
     "output_type": "execute_result"
    }
   ],
   "source": [
    "import pandas as pd\n",
    "\n",
    "# Filter the dataframe based on the desired variable and temporal resolution\n",
    "filtered_df = df[(df['variable'] == 'pr') & (df['temporal_resolution'] == 'day')]\n",
    "\n",
    "# Display the filtered dataframe\n",
    "\n",
    "filtered_df"
   ]
  },
  {
   "cell_type": "code",
   "execution_count": 25,
   "metadata": {},
   "outputs": [
    {
     "data": {
      "text/html": [
       "<div>\n",
       "<style scoped>\n",
       "    .dataframe tbody tr th:only-of-type {\n",
       "        vertical-align: middle;\n",
       "    }\n",
       "\n",
       "    .dataframe tbody tr th {\n",
       "        vertical-align: top;\n",
       "    }\n",
       "\n",
       "    .dataframe thead th {\n",
       "        text-align: right;\n",
       "    }\n",
       "</style>\n",
       "<table border=\"1\" class=\"dataframe\">\n",
       "  <thead>\n",
       "    <tr style=\"text-align: right;\">\n",
       "      <th></th>\n",
       "      <th>activity_id</th>\n",
       "      <th>experiment_id</th>\n",
       "      <th>temporal_resolution</th>\n",
       "      <th>variable</th>\n",
       "      <th>def_variable</th>\n",
       "      <th>def_temporal_resolution</th>\n",
       "    </tr>\n",
       "  </thead>\n",
       "  <tbody>\n",
       "    <tr>\n",
       "      <th>portal.nccs.nasa.gov/datashare/giss_cmip6/ScenarioMIP/NASA-GISS/GISS-E2-1-G/ssp119/r1i1p1f2/day/pr/gn/v20200115</th>\n",
       "      <td>ScenarioMIP</td>\n",
       "      <td>ssp119</td>\n",
       "      <td>day</td>\n",
       "      <td>pr</td>\n",
       "      <td>precipitation flux. precipitation flux is the ...</td>\n",
       "      <td>daily resolution, measured every day</td>\n",
       "    </tr>\n",
       "  </tbody>\n",
       "</table>\n",
       "</div>"
      ],
      "text/plain": [
       "                                                    activity_id experiment_id  \\\n",
       "portal.nccs.nasa.gov/datashare/giss_cmip6/Scena...  ScenarioMIP        ssp119   \n",
       "\n",
       "                                                   temporal_resolution  \\\n",
       "portal.nccs.nasa.gov/datashare/giss_cmip6/Scena...                 day   \n",
       "\n",
       "                                                   variable  \\\n",
       "portal.nccs.nasa.gov/datashare/giss_cmip6/Scena...       pr   \n",
       "\n",
       "                                                                                         def_variable  \\\n",
       "portal.nccs.nasa.gov/datashare/giss_cmip6/Scena...  precipitation flux. precipitation flux is the ...   \n",
       "\n",
       "                                                                 def_temporal_resolution  \n",
       "portal.nccs.nasa.gov/datashare/giss_cmip6/Scena...  daily resolution, measured every day  "
      ]
     },
     "execution_count": 25,
     "metadata": {},
     "output_type": "execute_result"
    }
   ],
   "source": [
    "dfsub[(dfsub['variable'] == 'pr') & (dfsub['temporal_resolution'].str.contains('day'))]"
   ]
  },
  {
   "cell_type": "code",
   "execution_count": null,
   "metadata": {},
   "outputs": [],
   "source": []
  }
 ],
 "metadata": {
  "kernelspec": {
   "display_name": "langchain_env",
   "language": "python",
   "name": "python3"
  },
  "language_info": {
   "codemirror_mode": {
    "name": "ipython",
    "version": 3
   },
   "file_extension": ".py",
   "mimetype": "text/x-python",
   "name": "python",
   "nbconvert_exporter": "python",
   "pygments_lexer": "ipython3",
   "version": "3.1.-1"
  }
 },
 "nbformat": 4,
 "nbformat_minor": 2
}
