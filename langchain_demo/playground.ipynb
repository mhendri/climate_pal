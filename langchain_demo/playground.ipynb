{
 "cells": [
  {
   "cell_type": "markdown",
   "metadata": {},
   "source": [
    "# Splitting Multi-Queries"
   ]
  },
  {
   "cell_type": "markdown",
   "metadata": {},
   "source": [
    "### Importing Packages"
   ]
  },
  {
   "cell_type": "code",
   "execution_count": 2,
   "metadata": {},
   "outputs": [],
   "source": [
    "from prompts import *\n",
    "import os\n",
    "import key\n",
    "from model import llm_init\n",
    "from langchain_core.output_parsers import StrOutputParser\n",
    "import re\n",
    "from pprint import pprint\n",
    "import utils\n",
    "import pandas as pd\n",
    "from langchain.agents.agent_types import AgentType\n",
    "from langchain_experimental.agents.agent_toolkits import create_pandas_dataframe_agent\n",
    "from langchain_openai import ChatOpenAI, OpenAI\n",
    "from langchain.agents import AgentExecutor"
   ]
  },
  {
   "cell_type": "markdown",
   "metadata": {},
   "source": [
    "### Utility Functions"
   ]
  },
  {
   "cell_type": "code",
   "execution_count": 3,
   "metadata": {},
   "outputs": [],
   "source": [
    "def queries_to_list(result):\n",
    "    '''This function takes the output of the llm and returns a list of individuals queries'''\n",
    "    pattern = re.compile(r'([Qq]uery|[Ss]tart query) (\\d+): \"([^\"]+)\"')\n",
    "\n",
    "    queries = {}\n",
    "\n",
    "    matches = pattern.findall(result)\n",
    "\n",
    "    for match in matches:\n",
    "        query_number = f'Query {match[1]}'\n",
    "        query_text = match[2]\n",
    "        queries[query_number] = query_text\n",
    "\n",
    "    return queries"
   ]
  },
  {
   "cell_type": "markdown",
   "metadata": {},
   "source": [
    "### Setting up LLM"
   ]
  },
  {
   "cell_type": "code",
   "execution_count": 4,
   "metadata": {},
   "outputs": [],
   "source": [
    "if not os.environ.get(\"OPENAI_API_KEY\"):\n",
    "    key.init()\n",
    "    assert os.environ.get('OPENAI_API_KEY')\n",
    "    \n",
    "llm = llm_init()\n",
    "\n",
    "# This is for reference\n",
    "test_input = \"Im interested in air temperature near surface at a monthly resolution and precipitation flux at daily resolution\"\n"
   ]
  },
  {
   "cell_type": "markdown",
   "metadata": {},
   "source": [
    "### Greet the user and ask for an input"
   ]
  },
  {
   "cell_type": "code",
   "execution_count": 5,
   "metadata": {},
   "outputs": [],
   "source": [
    "# initial_query = input(\"Hello! please make any inquiries you have about the CMIP dataset. You may make multiple inquiries at once.\")\n",
    "# print('You asked: ', initial_query)"
   ]
  },
  {
   "cell_type": "markdown",
   "metadata": {},
   "source": [
    "### Have LLM split queries"
   ]
  },
  {
   "cell_type": "code",
   "execution_count": 6,
   "metadata": {},
   "outputs": [
    {
     "name": "stdout",
     "output_type": "stream",
     "text": [
      "Split queries:\n",
      "Query 1: \"I'm interested in air temperature near surface at a monthly resolution.\"\n",
      "Query 2: \"I'm interested in precipitation flux at daily resolution.\"\n"
     ]
    }
   ],
   "source": [
    "#TODO: The word \"query\" needs to be present in output otherwise the dictionary will be empty\n",
    "prompt = get_split_prompt()\n",
    "chain = prompt | llm | StrOutputParser()\n",
    "result = chain.invoke(test_input)\n",
    "print(result)"
   ]
  },
  {
   "cell_type": "markdown",
   "metadata": {},
   "source": [
    "### Extract queries"
   ]
  },
  {
   "cell_type": "code",
   "execution_count": 7,
   "metadata": {},
   "outputs": [
    {
     "name": "stdout",
     "output_type": "stream",
     "text": [
      "{'Query 1': \"I'm interested in air temperature near surface at a monthly \"\n",
      "            'resolution.',\n",
      " 'Query 2': \"I'm interested in precipitation flux at daily resolution.\"}\n"
     ]
    }
   ],
   "source": [
    "queries = queries_to_list(result)\n",
    "\n",
    "pprint(queries)"
   ]
  },
  {
   "cell_type": "markdown",
   "metadata": {},
   "source": [
    "### Confirm split queries with user"
   ]
  },
  {
   "cell_type": "code",
   "execution_count": 8,
   "metadata": {},
   "outputs": [
    {
     "name": "stdout",
     "output_type": "stream",
     "text": [
      "Here are the individual queries that were extracted from your input:\n",
      "\n",
      "Split queries:\n",
      "Query 1: \"I'm interested in air temperature near surface at a monthly resolution.\"\n",
      "Query 2: \"I'm interested in precipitation flux at daily resolution.\"\n",
      "Here are the individual queries that were extracted from your input:\n",
      "\n",
      "Split queries:\n",
      "Query 1: \"I'm interested in air temperature near surface at a monthly resolution.\"\n",
      "Query 2: \"I'm interested in precipitation flux at daily resolution.\"\n",
      "Here are the individual queries that were extracted from your input:\n",
      "\n",
      "Split queries:\n",
      "Query 1: \"I'm interested in air temperature near surface at a monthly resolution.\"\n",
      "Query 2: \"I'm interested in precipitation flux at daily resolution.\"\n",
      "Here are the individual queries that were extracted from your input:\n",
      "\n",
      "Split queries:\n",
      "Query 1: \"I'm interested in air temperature near surface at a monthly resolution.\"\n",
      "Query 2: \"I'm interested in precipitation flux at daily resolution.\"\n",
      "Here are the individual queries that were extracted from your input:\n",
      "\n",
      "Split queries:\n",
      "Query 1: \"I'm interested in air temperature near surface at a monthly resolution.\"\n",
      "Query 2: \"I'm interested in precipitation flux at daily resolution.\"\n",
      "Here are the individual queries that were extracted from your input:\n",
      "\n",
      "Split queries:\n",
      "Query 1: \"I'm interested in air temperature near surface at a monthly resolution.\"\n",
      "Query 2: \"I'm interested in precipitation flux at daily resolution.\"\n",
      "Here are the individual queries that were extracted from your input:\n",
      "\n",
      "Split queries:\n",
      "Query 1: \"I'm interested in air temperature near surface at a monthly resolution.\"\n",
      "Query 2: \"I'm interested in precipitation flux at daily resolution.\"\n",
      "Here are the individual queries that were extracted from your input:\n",
      "\n",
      "Split queries:\n",
      "Query 1: \"I'm interested in air temperature near surface at a monthly resolution.\"\n",
      "Query 2: \"I'm interested in precipitation flux at daily resolution.\"\n",
      "Here are the individual queries that were extracted from your input:\n",
      "\n",
      "Split queries:\n",
      "Query 1: \"I'm interested in air temperature near surface at a monthly resolution.\"\n",
      "Query 2: \"I'm interested in precipitation flux at daily resolution.\"\n",
      "Here are the individual queries that were extracted from your input:\n",
      "\n",
      "Split queries:\n",
      "Query 1: \"I'm interested in air temperature near surface at a monthly resolution.\"\n",
      "Query 2: \"I'm interested in precipitation flux at daily resolution.\"\n",
      "Here are the individual queries that were extracted from your input:\n",
      "\n",
      "Split queries:\n",
      "Query 1: \"I'm interested in air temperature near surface at a monthly resolution.\"\n",
      "Query 2: \"I'm interested in precipitation flux at daily resolution.\"\n",
      "Here are the individual queries that were extracted from your input:\n",
      "\n",
      "Split queries:\n",
      "Query 1: \"I'm interested in air temperature near surface at a monthly resolution.\"\n",
      "Query 2: \"I'm interested in precipitation flux at daily resolution.\"\n",
      "Here are the individual queries that were extracted from your input:\n",
      "\n",
      "Split queries:\n",
      "Query 1: \"I'm interested in air temperature near surface at a monthly resolution.\"\n",
      "Query 2: \"I'm interested in precipitation flux at daily resolution.\"\n",
      "Here are the individual queries that were extracted from your input:\n",
      "\n",
      "Split queries:\n",
      "Query 1: \"I'm interested in air temperature near surface at a monthly resolution.\"\n",
      "Query 2: \"I'm interested in precipitation flux at daily resolution.\"\n"
     ]
    },
    {
     "ename": "KeyboardInterrupt",
     "evalue": "Interrupted by user",
     "output_type": "error",
     "traceback": [
      "\u001b[0;31m---------------------------------------------------------------------------\u001b[0m",
      "\u001b[0;31mKeyboardInterrupt\u001b[0m                         Traceback (most recent call last)",
      "Cell \u001b[0;32mIn[8], line 6\u001b[0m\n\u001b[1;32m      4\u001b[0m \u001b[38;5;28mprint\u001b[39m(\u001b[38;5;124m\"\u001b[39m\u001b[38;5;124mHere are the individual queries that were extracted from your input:\u001b[39m\u001b[38;5;130;01m\\n\u001b[39;00m\u001b[38;5;124m\"\u001b[39m)\n\u001b[1;32m      5\u001b[0m \u001b[38;5;28mprint\u001b[39m(result)\n\u001b[0;32m----> 6\u001b[0m yes_no \u001b[38;5;241m=\u001b[39m \u001b[38;5;28;43minput\u001b[39;49m\u001b[43m(\u001b[49m\u001b[38;5;124;43m\"\u001b[39;49m\u001b[38;5;124;43mWould you like to proceed with these queries? (yes/no)\u001b[39;49m\u001b[38;5;124;43m\"\u001b[39;49m\u001b[43m)\u001b[49m\n\u001b[1;32m      8\u001b[0m \u001b[38;5;28;01mif\u001b[39;00m \u001b[38;5;124m'\u001b[39m\u001b[38;5;124myes\u001b[39m\u001b[38;5;124m'\u001b[39m \u001b[38;5;129;01min\u001b[39;00m yes_no\u001b[38;5;241m.\u001b[39mlower():\n\u001b[1;32m      9\u001b[0m     \u001b[38;5;28mprint\u001b[39m(\u001b[38;5;124m\"\u001b[39m\u001b[38;5;124mGreat! Let\u001b[39m\u001b[38;5;124m'\u001b[39m\u001b[38;5;124ms proceed.\u001b[39m\u001b[38;5;124m\"\u001b[39m)\n",
      "File \u001b[0;32m~/miniconda3/envs/langchain_env/lib/python3.11/site-packages/ipykernel/kernelbase.py:1282\u001b[0m, in \u001b[0;36mKernel.raw_input\u001b[0;34m(self, prompt)\u001b[0m\n\u001b[1;32m   1280\u001b[0m     msg \u001b[38;5;241m=\u001b[39m \u001b[38;5;124m\"\u001b[39m\u001b[38;5;124mraw_input was called, but this frontend does not support input requests.\u001b[39m\u001b[38;5;124m\"\u001b[39m\n\u001b[1;32m   1281\u001b[0m     \u001b[38;5;28;01mraise\u001b[39;00m StdinNotImplementedError(msg)\n\u001b[0;32m-> 1282\u001b[0m \u001b[38;5;28;01mreturn\u001b[39;00m \u001b[38;5;28;43mself\u001b[39;49m\u001b[38;5;241;43m.\u001b[39;49m\u001b[43m_input_request\u001b[49m\u001b[43m(\u001b[49m\n\u001b[1;32m   1283\u001b[0m \u001b[43m    \u001b[49m\u001b[38;5;28;43mstr\u001b[39;49m\u001b[43m(\u001b[49m\u001b[43mprompt\u001b[49m\u001b[43m)\u001b[49m\u001b[43m,\u001b[49m\n\u001b[1;32m   1284\u001b[0m \u001b[43m    \u001b[49m\u001b[38;5;28;43mself\u001b[39;49m\u001b[38;5;241;43m.\u001b[39;49m\u001b[43m_parent_ident\u001b[49m\u001b[43m[\u001b[49m\u001b[38;5;124;43m\"\u001b[39;49m\u001b[38;5;124;43mshell\u001b[39;49m\u001b[38;5;124;43m\"\u001b[39;49m\u001b[43m]\u001b[49m\u001b[43m,\u001b[49m\n\u001b[1;32m   1285\u001b[0m \u001b[43m    \u001b[49m\u001b[38;5;28;43mself\u001b[39;49m\u001b[38;5;241;43m.\u001b[39;49m\u001b[43mget_parent\u001b[49m\u001b[43m(\u001b[49m\u001b[38;5;124;43m\"\u001b[39;49m\u001b[38;5;124;43mshell\u001b[39;49m\u001b[38;5;124;43m\"\u001b[39;49m\u001b[43m)\u001b[49m\u001b[43m,\u001b[49m\n\u001b[1;32m   1286\u001b[0m \u001b[43m    \u001b[49m\u001b[43mpassword\u001b[49m\u001b[38;5;241;43m=\u001b[39;49m\u001b[38;5;28;43;01mFalse\u001b[39;49;00m\u001b[43m,\u001b[49m\n\u001b[1;32m   1287\u001b[0m \u001b[43m\u001b[49m\u001b[43m)\u001b[49m\n",
      "File \u001b[0;32m~/miniconda3/envs/langchain_env/lib/python3.11/site-packages/ipykernel/kernelbase.py:1325\u001b[0m, in \u001b[0;36mKernel._input_request\u001b[0;34m(self, prompt, ident, parent, password)\u001b[0m\n\u001b[1;32m   1322\u001b[0m \u001b[38;5;28;01mexcept\u001b[39;00m \u001b[38;5;167;01mKeyboardInterrupt\u001b[39;00m:\n\u001b[1;32m   1323\u001b[0m     \u001b[38;5;66;03m# re-raise KeyboardInterrupt, to truncate traceback\u001b[39;00m\n\u001b[1;32m   1324\u001b[0m     msg \u001b[38;5;241m=\u001b[39m \u001b[38;5;124m\"\u001b[39m\u001b[38;5;124mInterrupted by user\u001b[39m\u001b[38;5;124m\"\u001b[39m\n\u001b[0;32m-> 1325\u001b[0m     \u001b[38;5;28;01mraise\u001b[39;00m \u001b[38;5;167;01mKeyboardInterrupt\u001b[39;00m(msg) \u001b[38;5;28;01mfrom\u001b[39;00m \u001b[38;5;28;01mNone\u001b[39;00m\n\u001b[1;32m   1326\u001b[0m \u001b[38;5;28;01mexcept\u001b[39;00m \u001b[38;5;167;01mException\u001b[39;00m:\n\u001b[1;32m   1327\u001b[0m     \u001b[38;5;28mself\u001b[39m\u001b[38;5;241m.\u001b[39mlog\u001b[38;5;241m.\u001b[39mwarning(\u001b[38;5;124m\"\u001b[39m\u001b[38;5;124mInvalid Message:\u001b[39m\u001b[38;5;124m\"\u001b[39m, exc_info\u001b[38;5;241m=\u001b[39m\u001b[38;5;28;01mTrue\u001b[39;00m)\n",
      "\u001b[0;31mKeyboardInterrupt\u001b[0m: Interrupted by user"
     ]
    }
   ],
   "source": [
    "satisfied = False\n",
    "\n",
    "while not satisfied:\n",
    "    print(\"Here are the individual queries that were extracted from your input:\\n\")\n",
    "    print(result)\n",
    "    yes_no = input(\"Would you like to proceed with these queries? (yes/no)\")\n",
    "\n",
    "    if 'yes' in yes_no.lower():\n",
    "        print(\"Great! Let's proceed.\")\n",
    "        satisfied = True\n",
    "\n",
    "    elif 'no' in yes_no.lower():\n",
    "        adjustments = input(\"What adjustments would you like to make to the queries?\")\n",
    "        adjustments_prompt = get_adjustment_prompt()\n",
    "        chain = adjustments_prompt | llm | StrOutputParser()\n",
    "        result = chain.invoke({'initial_queries':result, 'adjustment':adjustments})\n",
    "        print(result)\n",
    "        \n",
    "print(\"We are now ready to proceed with the queries.\")"
   ]
  },
  {
   "cell_type": "code",
   "execution_count": 8,
   "metadata": {},
   "outputs": [
    {
     "name": "stdout",
     "output_type": "stream",
     "text": [
      "{'Query 1': \"I'm interested in air temperature near surface at a monthly \"\n",
      "            'resolution.',\n",
      " 'Query 2': \"I'm interested in precipitation flux at daily resolution.\"}\n"
     ]
    }
   ],
   "source": [
    "extracted_queries = queries_to_list(result)\n",
    "pprint(extracted_queries)"
   ]
  },
  {
   "cell_type": "code",
   "execution_count": 9,
   "metadata": {},
   "outputs": [
    {
     "name": "stdout",
     "output_type": "stream",
     "text": [
      "Length of dictionary:  223\n"
     ]
    }
   ],
   "source": [
    "dicts = utils.get_urls('./paths.txt')\n",
    "df = pd.DataFrame.from_dict(dicts, orient='index')"
   ]
  },
  {
   "cell_type": "code",
   "execution_count": 10,
   "metadata": {},
   "outputs": [],
   "source": [
    "docsVAR = utils.read_dictionary_from_file('./docsVAR.txt')\n",
    "docsTR = utils.read_dictionary_from_file('./docsTR.txt')\n",
    "\n",
    "df['def_variable']            = df['variable'].apply(lambda x: docsVAR.get(x, 'UNK'))\n",
    "df['def_temporal_resolution'] = df['temporal_resolution'].apply(lambda x: docsTR.get(x, 'UNK'))"
   ]
  },
  {
   "cell_type": "code",
   "execution_count": 11,
   "metadata": {},
   "outputs": [
    {
     "name": "stdout",
     "output_type": "stream",
     "text": [
      "Subset dataframe ratio: 8/223\n"
     ]
    },
    {
     "data": {
      "text/html": [
       "<div>\n",
       "<style scoped>\n",
       "    .dataframe tbody tr th:only-of-type {\n",
       "        vertical-align: middle;\n",
       "    }\n",
       "\n",
       "    .dataframe tbody tr th {\n",
       "        vertical-align: top;\n",
       "    }\n",
       "\n",
       "    .dataframe thead th {\n",
       "        text-align: right;\n",
       "    }\n",
       "</style>\n",
       "<table border=\"1\" class=\"dataframe\">\n",
       "  <thead>\n",
       "    <tr style=\"text-align: right;\">\n",
       "      <th></th>\n",
       "      <th>activity_id</th>\n",
       "      <th>experiment_id</th>\n",
       "      <th>temporal_resolution</th>\n",
       "      <th>variable</th>\n",
       "      <th>def_variable</th>\n",
       "      <th>def_temporal_resolution</th>\n",
       "    </tr>\n",
       "  </thead>\n",
       "  <tbody>\n",
       "    <tr>\n",
       "      <th>portal.nccs.nasa.gov/datashare/giss_cmip6/ScenarioMIP/NASA-GISS/GISS-E2-1-G/ssp119/r1i1p1f2/3hr/pr/gn/v20200115</th>\n",
       "      <td>ScenarioMIP</td>\n",
       "      <td>ssp119</td>\n",
       "      <td>3hr</td>\n",
       "      <td>pr</td>\n",
       "      <td>precipitation flux. precipitation flux is the ...</td>\n",
       "      <td>three (3) hour resolution</td>\n",
       "    </tr>\n",
       "    <tr>\n",
       "      <th>portal.nccs.nasa.gov/datashare/giss_cmip6/ScenarioMIP/NASA-GISS/GISS-E2-1-G/ssp119/r1i1p1f2/3hr/tas/gn/v20200115</th>\n",
       "      <td>ScenarioMIP</td>\n",
       "      <td>ssp119</td>\n",
       "      <td>3hr</td>\n",
       "      <td>tas</td>\n",
       "      <td>air temperature near surface. air temperature ...</td>\n",
       "      <td>three (3) hour resolution</td>\n",
       "    </tr>\n",
       "    <tr>\n",
       "      <th>portal.nccs.nasa.gov/datashare/giss_cmip6/ScenarioMIP/NASA-GISS/GISS-E2-1-G/ssp119/r1i1p1f2/Amon/pr/gn/v20200115</th>\n",
       "      <td>ScenarioMIP</td>\n",
       "      <td>ssp119</td>\n",
       "      <td>Amon</td>\n",
       "      <td>pr</td>\n",
       "      <td>precipitation flux. precipitation flux is the ...</td>\n",
       "      <td>monthly resolution, for atmospheric variables</td>\n",
       "    </tr>\n",
       "    <tr>\n",
       "      <th>portal.nccs.nasa.gov/datashare/giss_cmip6/ScenarioMIP/NASA-GISS/GISS-E2-1-G/ssp119/r1i1p1f2/Amon/ta/gn/v20200115</th>\n",
       "      <td>ScenarioMIP</td>\n",
       "      <td>ssp119</td>\n",
       "      <td>Amon</td>\n",
       "      <td>ta</td>\n",
       "      <td>air temperature. air temperature is the temper...</td>\n",
       "      <td>monthly resolution, for atmospheric variables</td>\n",
       "    </tr>\n",
       "    <tr>\n",
       "      <th>portal.nccs.nasa.gov/datashare/giss_cmip6/ScenarioMIP/NASA-GISS/GISS-E2-1-G/ssp119/r1i1p1f2/Amon/tas/gn/v20200115</th>\n",
       "      <td>ScenarioMIP</td>\n",
       "      <td>ssp119</td>\n",
       "      <td>Amon</td>\n",
       "      <td>tas</td>\n",
       "      <td>air temperature near surface. air temperature ...</td>\n",
       "      <td>monthly resolution, for atmospheric variables</td>\n",
       "    </tr>\n",
       "    <tr>\n",
       "      <th>portal.nccs.nasa.gov/datashare/giss_cmip6/ScenarioMIP/NASA-GISS/GISS-E2-1-G/ssp119/r1i1p1f2/day/pr/gn/v20200115</th>\n",
       "      <td>ScenarioMIP</td>\n",
       "      <td>ssp119</td>\n",
       "      <td>day</td>\n",
       "      <td>pr</td>\n",
       "      <td>precipitation flux. precipitation flux is the ...</td>\n",
       "      <td>daily resolution, measured every day</td>\n",
       "    </tr>\n",
       "    <tr>\n",
       "      <th>portal.nccs.nasa.gov/datashare/giss_cmip6/ScenarioMIP/NASA-GISS/GISS-E2-1-G/ssp119/r1i1p1f2/day/ta/gn/v20200115</th>\n",
       "      <td>ScenarioMIP</td>\n",
       "      <td>ssp119</td>\n",
       "      <td>day</td>\n",
       "      <td>ta</td>\n",
       "      <td>air temperature. air temperature is the temper...</td>\n",
       "      <td>daily resolution, measured every day</td>\n",
       "    </tr>\n",
       "    <tr>\n",
       "      <th>portal.nccs.nasa.gov/datashare/giss_cmip6/ScenarioMIP/NASA-GISS/GISS-E2-1-G/ssp119/r1i1p1f2/day/tas/gn/v20200115</th>\n",
       "      <td>ScenarioMIP</td>\n",
       "      <td>ssp119</td>\n",
       "      <td>day</td>\n",
       "      <td>tas</td>\n",
       "      <td>air temperature near surface. air temperature ...</td>\n",
       "      <td>daily resolution, measured every day</td>\n",
       "    </tr>\n",
       "  </tbody>\n",
       "</table>\n",
       "</div>"
      ],
      "text/plain": [
       "                                                    activity_id experiment_id  \\\n",
       "portal.nccs.nasa.gov/datashare/giss_cmip6/Scena...  ScenarioMIP        ssp119   \n",
       "portal.nccs.nasa.gov/datashare/giss_cmip6/Scena...  ScenarioMIP        ssp119   \n",
       "portal.nccs.nasa.gov/datashare/giss_cmip6/Scena...  ScenarioMIP        ssp119   \n",
       "portal.nccs.nasa.gov/datashare/giss_cmip6/Scena...  ScenarioMIP        ssp119   \n",
       "portal.nccs.nasa.gov/datashare/giss_cmip6/Scena...  ScenarioMIP        ssp119   \n",
       "portal.nccs.nasa.gov/datashare/giss_cmip6/Scena...  ScenarioMIP        ssp119   \n",
       "portal.nccs.nasa.gov/datashare/giss_cmip6/Scena...  ScenarioMIP        ssp119   \n",
       "portal.nccs.nasa.gov/datashare/giss_cmip6/Scena...  ScenarioMIP        ssp119   \n",
       "\n",
       "                                                   temporal_resolution  \\\n",
       "portal.nccs.nasa.gov/datashare/giss_cmip6/Scena...                 3hr   \n",
       "portal.nccs.nasa.gov/datashare/giss_cmip6/Scena...                 3hr   \n",
       "portal.nccs.nasa.gov/datashare/giss_cmip6/Scena...                Amon   \n",
       "portal.nccs.nasa.gov/datashare/giss_cmip6/Scena...                Amon   \n",
       "portal.nccs.nasa.gov/datashare/giss_cmip6/Scena...                Amon   \n",
       "portal.nccs.nasa.gov/datashare/giss_cmip6/Scena...                 day   \n",
       "portal.nccs.nasa.gov/datashare/giss_cmip6/Scena...                 day   \n",
       "portal.nccs.nasa.gov/datashare/giss_cmip6/Scena...                 day   \n",
       "\n",
       "                                                   variable  \\\n",
       "portal.nccs.nasa.gov/datashare/giss_cmip6/Scena...       pr   \n",
       "portal.nccs.nasa.gov/datashare/giss_cmip6/Scena...      tas   \n",
       "portal.nccs.nasa.gov/datashare/giss_cmip6/Scena...       pr   \n",
       "portal.nccs.nasa.gov/datashare/giss_cmip6/Scena...       ta   \n",
       "portal.nccs.nasa.gov/datashare/giss_cmip6/Scena...      tas   \n",
       "portal.nccs.nasa.gov/datashare/giss_cmip6/Scena...       pr   \n",
       "portal.nccs.nasa.gov/datashare/giss_cmip6/Scena...       ta   \n",
       "portal.nccs.nasa.gov/datashare/giss_cmip6/Scena...      tas   \n",
       "\n",
       "                                                                                         def_variable  \\\n",
       "portal.nccs.nasa.gov/datashare/giss_cmip6/Scena...  precipitation flux. precipitation flux is the ...   \n",
       "portal.nccs.nasa.gov/datashare/giss_cmip6/Scena...  air temperature near surface. air temperature ...   \n",
       "portal.nccs.nasa.gov/datashare/giss_cmip6/Scena...  precipitation flux. precipitation flux is the ...   \n",
       "portal.nccs.nasa.gov/datashare/giss_cmip6/Scena...  air temperature. air temperature is the temper...   \n",
       "portal.nccs.nasa.gov/datashare/giss_cmip6/Scena...  air temperature near surface. air temperature ...   \n",
       "portal.nccs.nasa.gov/datashare/giss_cmip6/Scena...  precipitation flux. precipitation flux is the ...   \n",
       "portal.nccs.nasa.gov/datashare/giss_cmip6/Scena...  air temperature. air temperature is the temper...   \n",
       "portal.nccs.nasa.gov/datashare/giss_cmip6/Scena...  air temperature near surface. air temperature ...   \n",
       "\n",
       "                                                                          def_temporal_resolution  \n",
       "portal.nccs.nasa.gov/datashare/giss_cmip6/Scena...                      three (3) hour resolution  \n",
       "portal.nccs.nasa.gov/datashare/giss_cmip6/Scena...                      three (3) hour resolution  \n",
       "portal.nccs.nasa.gov/datashare/giss_cmip6/Scena...  monthly resolution, for atmospheric variables  \n",
       "portal.nccs.nasa.gov/datashare/giss_cmip6/Scena...  monthly resolution, for atmospheric variables  \n",
       "portal.nccs.nasa.gov/datashare/giss_cmip6/Scena...  monthly resolution, for atmospheric variables  \n",
       "portal.nccs.nasa.gov/datashare/giss_cmip6/Scena...           daily resolution, measured every day  \n",
       "portal.nccs.nasa.gov/datashare/giss_cmip6/Scena...           daily resolution, measured every day  \n",
       "portal.nccs.nasa.gov/datashare/giss_cmip6/Scena...           daily resolution, measured every day  "
      ]
     },
     "execution_count": 11,
     "metadata": {},
     "output_type": "execute_result"
    }
   ],
   "source": [
    "dfsub = df[(df['def_temporal_resolution']!='UNK') & (df['def_variable']!='UNK')]\n",
    "print(f\"Subset dataframe ratio: {len(dfsub)}/{len(df)}\")\n",
    "dfsub"
   ]
  },
  {
   "cell_type": "code",
   "execution_count": 24,
   "metadata": {},
   "outputs": [
    {
     "name": "stderr",
     "output_type": "stream",
     "text": [
      "/Users/brabiei/miniconda3/envs/langchain_env/lib/python3.11/site-packages/langchain_experimental/agents/agent_toolkits/pandas/base.py:282: UserWarning: Received additional kwargs {'handle_parsing_errors': \"You you believe that the data doesn't contain the information you are looking for, please try rephrasing your question.\", 'response_format': {'type': 'json_object'}} which are no longer supported.\n",
      "  warnings.warn(\n"
     ]
    },
    {
     "name": "stdout",
     "output_type": "stream",
     "text": [
      "Testing agent...\n",
      "\n",
      "\n",
      "\u001b[1m> Entering new AgentExecutor chain...\u001b[0m\n",
      "\u001b[32;1m\u001b[1;3m\n",
      "Invoking: `python_repl_ast` with `{'query': \"df[df['variable'].str.contains('ta') & df['temporal_resolution'].str.contains('Amon')].head()\"}`\n",
      "\n",
      "\n",
      "\u001b[0m\u001b[36;1m\u001b[1;3m                                                    activity_id experiment_id  \\\n",
      "portal.nccs.nasa.gov/datashare/giss_cmip6/Scena...  ScenarioMIP        ssp119   \n",
      "portal.nccs.nasa.gov/datashare/giss_cmip6/Scena...  ScenarioMIP        ssp119   \n",
      "\n",
      "                                                   temporal_resolution  \\\n",
      "portal.nccs.nasa.gov/datashare/giss_cmip6/Scena...                Amon   \n",
      "portal.nccs.nasa.gov/datashare/giss_cmip6/Scena...                Amon   \n",
      "\n",
      "                                                   variable  \\\n",
      "portal.nccs.nasa.gov/datashare/giss_cmip6/Scena...       ta   \n",
      "portal.nccs.nasa.gov/datashare/giss_cmip6/Scena...      tas   \n",
      "\n",
      "                                                                                         def_variable  \\\n",
      "portal.nccs.nasa.gov/datashare/giss_cmip6/Scena...  air temperature. air temperature is the temper...   \n",
      "portal.nccs.nasa.gov/datashare/giss_cmip6/Scena...  air temperature near surface. air temperature ...   \n",
      "\n",
      "                                                                          def_temporal_resolution  \n",
      "portal.nccs.nasa.gov/datashare/giss_cmip6/Scena...  monthly resolution, for atmospheric variables  \n",
      "portal.nccs.nasa.gov/datashare/giss_cmip6/Scena...  monthly resolution, for atmospheric variables  \u001b[0m\u001b[32;1m\u001b[1;3mThe dataframe contains information about air temperature at monthly resolution. Here are the details:\n",
      "- Variable: ta (air temperature)\n",
      "- Temporal Resolution: Amon (monthly resolution, for atmospheric variables)\u001b[0m\n",
      "\n",
      "\u001b[1m> Finished chain.\u001b[0m\n",
      "{'input': ' air temperature monthly resolution?',\n",
      " 'intermediate_steps': [(AgentActionMessageLog(tool='python_repl_ast', tool_input={'query': \"df[df['variable'].str.contains('ta') & df['temporal_resolution'].str.contains('Amon')].head()\"}, log='\\nInvoking: `python_repl_ast` with `{\\'query\\': \"df[df[\\'variable\\'].str.contains(\\'ta\\') & df[\\'temporal_resolution\\'].str.contains(\\'Amon\\')].head()\"}`\\n\\n\\n', message_log=[AIMessageChunk(content='', additional_kwargs={'function_call': {'arguments': '{\"query\":\"df[df[\\'variable\\'].str.contains(\\'ta\\') & df[\\'temporal_resolution\\'].str.contains(\\'Amon\\')].head()\"}', 'name': 'python_repl_ast'}}, response_metadata={'finish_reason': 'function_call', 'model_name': 'gpt-3.5-turbo-0125'}, id='run-83b4336b-71a7-4808-a7d5-d6592ea03cd8')]),\n",
      "                                                                             activity_id experiment_id  \\\n",
      "portal.nccs.nasa.gov/datashare/giss_cmip6/Scena...  ScenarioMIP        ssp119   \n",
      "portal.nccs.nasa.gov/datashare/giss_cmip6/Scena...  ScenarioMIP        ssp119   \n",
      "\n",
      "                                                   temporal_resolution  \\\n",
      "portal.nccs.nasa.gov/datashare/giss_cmip6/Scena...                Amon   \n",
      "portal.nccs.nasa.gov/datashare/giss_cmip6/Scena...                Amon   \n",
      "\n",
      "                                                   variable  \\\n",
      "portal.nccs.nasa.gov/datashare/giss_cmip6/Scena...       ta   \n",
      "portal.nccs.nasa.gov/datashare/giss_cmip6/Scena...      tas   \n",
      "\n",
      "                                                                                         def_variable  \\\n",
      "portal.nccs.nasa.gov/datashare/giss_cmip6/Scena...  air temperature. air temperature is the temper...   \n",
      "portal.nccs.nasa.gov/datashare/giss_cmip6/Scena...  air temperature near surface. air temperature ...   \n",
      "\n",
      "                                                                          def_temporal_resolution  \n",
      "portal.nccs.nasa.gov/datashare/giss_cmip6/Scena...  monthly resolution, for atmospheric variables  \n",
      "portal.nccs.nasa.gov/datashare/giss_cmip6/Scena...  monthly resolution, for atmospheric variables  )],\n",
      " 'output': 'The dataframe contains information about air temperature at '\n",
      "           'monthly resolution. Here are the details:\\n'\n",
      "           '- Variable: ta (air temperature)\\n'\n",
      "           '- Temporal Resolution: Amon (monthly resolution, for atmospheric '\n",
      "           'variables)'}\n"
     ]
    }
   ],
   "source": [
    "agent = create_pandas_dataframe_agent(\n",
    "    ChatOpenAI(temperature=0, model=\"gpt-3.5-turbo\"),\n",
    "    dfsub,\n",
    "    verbose=True,\n",
    "    agent_type=AgentType.OPENAI_FUNCTIONS,\n",
    "    allow_dangerous_code=True,\n",
    "    handle_parsing_errors=\"You you believe that the data doesn't contain the information you are looking for, please try rephrasing your question.\",\n",
    "    return_intermediate_steps=True,\n",
    "    response_format={ \"type\": \"json_object\" }\n",
    "    #handle_parsing_errors= \"If your output has an error, make sure strings are enclosed in double quotes, and line breaks within strings are properly escaped.\"\n",
    ")\n",
    "\n",
    "print(\"Testing agent...\")\n",
    "pprint(agent.invoke(\" air temperature monthly resolution?\"))"
   ]
  },
  {
   "cell_type": "code",
   "execution_count": 25,
   "metadata": {},
   "outputs": [
    {
     "name": "stdout",
     "output_type": "stream",
     "text": [
      "Query Query 2: I'm interested in precipitation flux at daily resolution.\n",
      "\n",
      "\n",
      "\u001b[1m> Entering new AgentExecutor chain...\u001b[0m\n",
      "\u001b[32;1m\u001b[1;3m\n",
      "Invoking: `python_repl_ast` with `{'query': \"df[df['temporal_resolution']=='day'][df['variable']=='pr']\"}`\n",
      "\n",
      "\n",
      "\u001b[0m\u001b[36;1m\u001b[1;3m                                                    activity_id experiment_id  \\\n",
      "portal.nccs.nasa.gov/datashare/giss_cmip6/Scena...  ScenarioMIP        ssp119   \n",
      "\n",
      "                                                   temporal_resolution  \\\n",
      "portal.nccs.nasa.gov/datashare/giss_cmip6/Scena...                 day   \n",
      "\n",
      "                                                   variable  \\\n",
      "portal.nccs.nasa.gov/datashare/giss_cmip6/Scena...       pr   \n",
      "\n",
      "                                                                                         def_variable  \\\n",
      "portal.nccs.nasa.gov/datashare/giss_cmip6/Scena...  precipitation flux. precipitation flux is the ...   \n",
      "\n",
      "                                                                 def_temporal_resolution  \n",
      "portal.nccs.nasa.gov/datashare/giss_cmip6/Scena...  daily resolution, measured every day  \u001b[0m"
     ]
    },
    {
     "name": "stderr",
     "output_type": "stream",
     "text": [
      "<string>:1: UserWarning: Boolean Series key will be reindexed to match DataFrame index.\n"
     ]
    },
    {
     "name": "stdout",
     "output_type": "stream",
     "text": [
      "\u001b[32;1m\u001b[1;3mThe precipitation flux data at daily resolution is available with the following details:\n",
      "- **Activity ID:** ScenarioMIP\n",
      "- **Experiment ID:** ssp119\n",
      "- **Temporal Resolution:** Daily\n",
      "- **Variable:** precipitation flux\n",
      "- **Definition of Variable:** Precipitation flux is the flux of water equivalent (rain or snow) reaching the land surface. This includes the liquid and solid phases of water\n",
      "- **Definition of Temporal Resolution:** Daily resolution, measured every day\u001b[0m\n",
      "\n",
      "\u001b[1m> Finished chain.\u001b[0m\n",
      "\n",
      "\n",
      "Here are the results of your queries:\n",
      "[{'input': \"I'm interested in precipitation flux at daily resolution.\",\n",
      "  'intermediate_steps': [(AgentActionMessageLog(tool='python_repl_ast', tool_input={'query': \"df[df['temporal_resolution']=='day'][df['variable']=='pr']\"}, log='\\nInvoking: `python_repl_ast` with `{\\'query\\': \"df[df[\\'temporal_resolution\\']==\\'day\\'][df[\\'variable\\']==\\'pr\\']\"}`\\n\\n\\n', message_log=[AIMessageChunk(content='', additional_kwargs={'function_call': {'arguments': '{\"query\":\"df[df[\\'temporal_resolution\\']==\\'day\\'][df[\\'variable\\']==\\'pr\\']\"}', 'name': 'python_repl_ast'}}, response_metadata={'finish_reason': 'function_call', 'model_name': 'gpt-3.5-turbo-0125'}, id='run-add074e8-f45a-4fb1-8eaf-de0bebd70300')]),\n",
      "                                                                              activity_id experiment_id  \\\n",
      "portal.nccs.nasa.gov/datashare/giss_cmip6/Scena...  ScenarioMIP        ssp119   \n",
      "\n",
      "                                                   temporal_resolution  \\\n",
      "portal.nccs.nasa.gov/datashare/giss_cmip6/Scena...                 day   \n",
      "\n",
      "                                                   variable  \\\n",
      "portal.nccs.nasa.gov/datashare/giss_cmip6/Scena...       pr   \n",
      "\n",
      "                                                                                         def_variable  \\\n",
      "portal.nccs.nasa.gov/datashare/giss_cmip6/Scena...  precipitation flux. precipitation flux is the ...   \n",
      "\n",
      "                                                                 def_temporal_resolution  \n",
      "portal.nccs.nasa.gov/datashare/giss_cmip6/Scena...  daily resolution, measured every day  )],\n",
      "  'output': 'The precipitation flux data at daily resolution is available with '\n",
      "            'the following details:\\n'\n",
      "            '- **Activity ID:** ScenarioMIP\\n'\n",
      "            '- **Experiment ID:** ssp119\\n'\n",
      "            '- **Temporal Resolution:** Daily\\n'\n",
      "            '- **Variable:** precipitation flux\\n'\n",
      "            '- **Definition of Variable:** Precipitation flux is the flux of '\n",
      "            'water equivalent (rain or snow) reaching the land surface. This '\n",
      "            'includes the liquid and solid phases of water\\n'\n",
      "            '- **Definition of Temporal Resolution:** Daily resolution, '\n",
      "            'measured every day'}]\n"
     ]
    }
   ],
   "source": [
    "final_output = []\n",
    "i = 0\n",
    "for query_number, query_text in extracted_queries.items():\n",
    "    if i == 0:\n",
    "        i += 1\n",
    "        # Skip the first query because it is the initial query\n",
    "        continue\n",
    "    \n",
    "    print(f\"Query {query_number}: {query_text}\")\n",
    "    final_output.append(agent.invoke(query_text))\n",
    "    print(\"\\n\")\n",
    "    \n",
    "print(\"Here are the results of your queries:\")\n",
    "pprint(final_output)"
   ]
  },
  {
   "cell_type": "code",
   "execution_count": 22,
   "metadata": {},
   "outputs": [
    {
     "data": {
      "text/html": [
       "<div>\n",
       "<style scoped>\n",
       "    .dataframe tbody tr th:only-of-type {\n",
       "        vertical-align: middle;\n",
       "    }\n",
       "\n",
       "    .dataframe tbody tr th {\n",
       "        vertical-align: top;\n",
       "    }\n",
       "\n",
       "    .dataframe thead th {\n",
       "        text-align: right;\n",
       "    }\n",
       "</style>\n",
       "<table border=\"1\" class=\"dataframe\">\n",
       "  <thead>\n",
       "    <tr style=\"text-align: right;\">\n",
       "      <th></th>\n",
       "      <th>activity_id</th>\n",
       "      <th>experiment_id</th>\n",
       "      <th>temporal_resolution</th>\n",
       "      <th>variable</th>\n",
       "      <th>def_variable</th>\n",
       "      <th>def_temporal_resolution</th>\n",
       "    </tr>\n",
       "  </thead>\n",
       "  <tbody>\n",
       "    <tr>\n",
       "      <th>portal.nccs.nasa.gov/datashare/giss_cmip6/ScenarioMIP/NASA-GISS/GISS-E2-1-G/ssp119/r1i1p1f2/3hr/pr/gn/v20200115</th>\n",
       "      <td>ScenarioMIP</td>\n",
       "      <td>ssp119</td>\n",
       "      <td>3hr</td>\n",
       "      <td>pr</td>\n",
       "      <td>precipitation flux. precipitation flux is the ...</td>\n",
       "      <td>three (3) hour resolution</td>\n",
       "    </tr>\n",
       "  </tbody>\n",
       "</table>\n",
       "</div>"
      ],
      "text/plain": [
       "                                                    activity_id experiment_id  \\\n",
       "portal.nccs.nasa.gov/datashare/giss_cmip6/Scena...  ScenarioMIP        ssp119   \n",
       "\n",
       "                                                   temporal_resolution  \\\n",
       "portal.nccs.nasa.gov/datashare/giss_cmip6/Scena...                 3hr   \n",
       "\n",
       "                                                   variable  \\\n",
       "portal.nccs.nasa.gov/datashare/giss_cmip6/Scena...       pr   \n",
       "\n",
       "                                                                                         def_variable  \\\n",
       "portal.nccs.nasa.gov/datashare/giss_cmip6/Scena...  precipitation flux. precipitation flux is the ...   \n",
       "\n",
       "                                                      def_temporal_resolution  \n",
       "portal.nccs.nasa.gov/datashare/giss_cmip6/Scena...  three (3) hour resolution  "
      ]
     },
     "execution_count": 22,
     "metadata": {},
     "output_type": "execute_result"
    }
   ],
   "source": [
    "import pandas as pd\n",
    "\n",
    "# Filter the dataframe based on the desired variable and temporal resolution\n",
    "filtered_df = df[(df['variable'] == 'pr') & (df['temporal_resolution'] == '3hr')]\n",
    "\n",
    "# Display the filtered dataframe\n",
    "\n",
    "filtered_df"
   ]
  },
  {
   "cell_type": "code",
   "execution_count": 23,
   "metadata": {},
   "outputs": [
    {
     "data": {
      "text/html": [
       "<div>\n",
       "<style scoped>\n",
       "    .dataframe tbody tr th:only-of-type {\n",
       "        vertical-align: middle;\n",
       "    }\n",
       "\n",
       "    .dataframe tbody tr th {\n",
       "        vertical-align: top;\n",
       "    }\n",
       "\n",
       "    .dataframe thead th {\n",
       "        text-align: right;\n",
       "    }\n",
       "</style>\n",
       "<table border=\"1\" class=\"dataframe\">\n",
       "  <thead>\n",
       "    <tr style=\"text-align: right;\">\n",
       "      <th></th>\n",
       "      <th>activity_id</th>\n",
       "      <th>experiment_id</th>\n",
       "      <th>temporal_resolution</th>\n",
       "      <th>variable</th>\n",
       "      <th>def_variable</th>\n",
       "      <th>def_temporal_resolution</th>\n",
       "    </tr>\n",
       "  </thead>\n",
       "  <tbody>\n",
       "    <tr>\n",
       "      <th>portal.nccs.nasa.gov/datashare/giss_cmip6/ScenarioMIP/NASA-GISS/GISS-E2-1-G/ssp119/r1i1p1f2/day/pr/gn/v20200115</th>\n",
       "      <td>ScenarioMIP</td>\n",
       "      <td>ssp119</td>\n",
       "      <td>day</td>\n",
       "      <td>pr</td>\n",
       "      <td>precipitation flux. precipitation flux is the ...</td>\n",
       "      <td>daily resolution, measured every day</td>\n",
       "    </tr>\n",
       "  </tbody>\n",
       "</table>\n",
       "</div>"
      ],
      "text/plain": [
       "                                                    activity_id experiment_id  \\\n",
       "portal.nccs.nasa.gov/datashare/giss_cmip6/Scena...  ScenarioMIP        ssp119   \n",
       "\n",
       "                                                   temporal_resolution  \\\n",
       "portal.nccs.nasa.gov/datashare/giss_cmip6/Scena...                 day   \n",
       "\n",
       "                                                   variable  \\\n",
       "portal.nccs.nasa.gov/datashare/giss_cmip6/Scena...       pr   \n",
       "\n",
       "                                                                                         def_variable  \\\n",
       "portal.nccs.nasa.gov/datashare/giss_cmip6/Scena...  precipitation flux. precipitation flux is the ...   \n",
       "\n",
       "                                                                 def_temporal_resolution  \n",
       "portal.nccs.nasa.gov/datashare/giss_cmip6/Scena...  daily resolution, measured every day  "
      ]
     },
     "execution_count": 23,
     "metadata": {},
     "output_type": "execute_result"
    }
   ],
   "source": [
    "dfsub[(dfsub['variable'] == 'pr') & (dfsub['temporal_resolution'].str.contains('day'))]"
   ]
  },
  {
   "cell_type": "code",
   "execution_count": null,
   "metadata": {},
   "outputs": [],
   "source": []
  },
  {
   "cell_type": "code",
   "execution_count": null,
   "metadata": {},
   "outputs": [],
   "source": []
  },
  {
   "cell_type": "code",
   "execution_count": null,
   "metadata": {},
   "outputs": [],
   "source": []
  }
 ],
 "metadata": {
  "kernelspec": {
   "display_name": "langchain_env",
   "language": "python",
   "name": "python3"
  },
  "language_info": {
   "codemirror_mode": {
    "name": "ipython",
    "version": 3
   },
   "file_extension": ".py",
   "mimetype": "text/x-python",
   "name": "python",
   "nbconvert_exporter": "python",
   "pygments_lexer": "ipython3",
   "version": "3.11.7"
  }
 },
 "nbformat": 4,
 "nbformat_minor": 2
}
