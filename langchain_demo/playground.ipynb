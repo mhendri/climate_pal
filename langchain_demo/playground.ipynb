{
 "cells": [
  {
   "cell_type": "markdown",
   "metadata": {},
   "source": [
    "# Splitting Multi-Queries"
   ]
  },
  {
   "cell_type": "markdown",
   "metadata": {},
   "source": [
    "### Importing Packages"
   ]
  },
  {
   "cell_type": "code",
   "execution_count": 1,
   "metadata": {},
   "outputs": [],
   "source": [
    "from prompts import *\n",
    "import os\n",
    "import key\n",
    "from model import llm_init\n",
    "from langchain_core.output_parsers import StrOutputParser\n",
    "import re\n",
    "from pprint import pprint\n"
   ]
  },
  {
   "cell_type": "markdown",
   "metadata": {},
   "source": [
    "### Utility Functions"
   ]
  },
  {
   "cell_type": "code",
   "execution_count": 12,
   "metadata": {},
   "outputs": [],
   "source": [
    "def queries_to_list(result):\n",
    "    pattern = re.compile(r'([Qq]uery|[Ss]tart query) (\\d+): \"([^\"]+)\"')\n",
    "\n",
    "    queries = {}\n",
    "\n",
    "    matches = pattern.findall(result)\n",
    "\n",
    "    for match in matches:\n",
    "        query_number = f'Query {match[1]}'\n",
    "        query_text = match[2]\n",
    "        queries[query_number] = query_text\n",
    "\n",
    "    pprint(queries)\n",
    "    return queries"
   ]
  },
  {
   "cell_type": "markdown",
   "metadata": {},
   "source": [
    "### Setting up LLM"
   ]
  },
  {
   "cell_type": "code",
   "execution_count": 2,
   "metadata": {},
   "outputs": [],
   "source": [
    "if not os.environ.get(\"OPENAI_API_KEY\"):\n",
    "    key.init()\n",
    "    assert os.environ.get('OPENAI_API_KEY')\n",
    "    \n",
    "llm = llm_init()\n",
    "\n",
    "# This is for reference\n",
    "test_input = \"Im interested in air temperature near surface at a monthly resolution and precipitation flux at a daily resolution\"\n"
   ]
  },
  {
   "cell_type": "markdown",
   "metadata": {},
   "source": [
    "### Greet the user and ask for an input"
   ]
  },
  {
   "cell_type": "code",
   "execution_count": 3,
   "metadata": {},
   "outputs": [],
   "source": [
    "# initial_query = input(\"Hello! please make any inquiries you have about the CMIP dataset. You may make multiple inquiries at once.\")\n",
    "# print('You asked: ', initial_query)"
   ]
  },
  {
   "cell_type": "markdown",
   "metadata": {},
   "source": [
    "### Have LLM split queries"
   ]
  },
  {
   "cell_type": "code",
   "execution_count": 4,
   "metadata": {},
   "outputs": [
    {
     "name": "stdout",
     "output_type": "stream",
     "text": [
      "Split query 1: \"I'm interested in air temperature near surface at a monthly resolution.\"\n",
      "Split query 2: \"I'm interested in precipitation flux at a daily resolution.\"\n"
     ]
    }
   ],
   "source": [
    "#TODO: The word \"query\" needs to be present in output otherwise the dictionary will be empty\n",
    "prompt = get_split_prompt()\n",
    "chain = prompt | llm | StrOutputParser()\n",
    "result = chain.invoke(test_input)\n",
    "print(result)"
   ]
  },
  {
   "cell_type": "markdown",
   "metadata": {},
   "source": [
    "### Extract queries"
   ]
  },
  {
   "cell_type": "code",
   "execution_count": 5,
   "metadata": {},
   "outputs": [
    {
     "name": "stdout",
     "output_type": "stream",
     "text": [
      "{'Query 1': \"I'm interested in air temperature near surface at a monthly \"\n",
      "            'resolution.',\n",
      " 'Query 2': \"I'm interested in precipitation flux at a daily resolution.\"}\n"
     ]
    }
   ],
   "source": [
    "pattern = re.compile(r'([Qq]uery|[Ss]tart query) (\\d+): \"([^\"]+)\"')\n",
    "\n",
    "queries = {}\n",
    "\n",
    "matches = pattern.findall(result)\n",
    "\n",
    "for match in matches:\n",
    "    query_number = f'Query {match[1]}'\n",
    "    query_text = match[2]\n",
    "    queries[query_number] = query_text\n",
    "\n",
    "pprint(queries)"
   ]
  },
  {
   "cell_type": "markdown",
   "metadata": {},
   "source": [
    "### Confirm split queries with user"
   ]
  },
  {
   "cell_type": "code",
   "execution_count": 10,
   "metadata": {},
   "outputs": [
    {
     "name": "stdout",
     "output_type": "stream",
     "text": [
      "Here are the individual queries that were extracted from your input:\n",
      "\n",
      "Adjusted queries:\n",
      "Query 1: \"I'm interested in surface air temperature at a monthly resolution.\"\n",
      "Query 2: \"I'm interested in precipitation at a daily resolution.\"\n",
      "Adjusted queries:\n",
      "Query 1: \"I'm interested in surface air temperature at a monthly resolution.\"\n",
      "Query 2: \"I'm interested in precipitation at a daily resolution.\"\n",
      "Query 3: \"I'm also interested in surface air temperature at a daily resolution.\"\n",
      "Here are the individual queries that were extracted from your input:\n",
      "\n",
      "Adjusted queries:\n",
      "Query 1: \"I'm interested in surface air temperature at a monthly resolution.\"\n",
      "Query 2: \"I'm interested in precipitation at a daily resolution.\"\n",
      "Query 3: \"I'm also interested in surface air temperature at a daily resolution.\"\n",
      "Great! Let's proceed.\n",
      "We are now ready to proceed with the queries.\n"
     ]
    }
   ],
   "source": [
    "satisfied = False\n",
    "\n",
    "while not satisfied:\n",
    "    print(\"Here are the individual queries that were extracted from your input:\\n\")\n",
    "    print(result)\n",
    "    yes_no = input(\"Would you like to proceed with these queries? (yes/no)\")\n",
    "\n",
    "    if 'yes' in yes_no.lower():\n",
    "        print(\"Great! Let's proceed.\")\n",
    "        satisfied = True\n",
    "\n",
    "    elif 'no' in yes_no.lower():\n",
    "        adjustments = input(\"What adjustments would you like to make to the queries?\")\n",
    "        adjustments_prompt = get_adjustment_prompt()\n",
    "        chain = adjustments_prompt | llm | StrOutputParser()\n",
    "        result = chain.invoke({'initial_queries':result, 'adjustment':adjustments})\n",
    "        print(result)\n",
    "        \n",
    "print(\"We are now ready to proceed with the queries.\")"
   ]
  },
  {
   "cell_type": "code",
   "execution_count": 13,
   "metadata": {},
   "outputs": [
    {
     "name": "stdout",
     "output_type": "stream",
     "text": [
      "{'Query 1': \"I'm interested in surface air temperature at a monthly \"\n",
      "            'resolution.',\n",
      " 'Query 2': \"I'm interested in precipitation at a daily resolution.\",\n",
      " 'Query 3': \"I'm also interested in surface air temperature at a daily \"\n",
      "            'resolution.'}\n"
     ]
    }
   ],
   "source": [
    "extracted_queries = queries_to_list(result)"
   ]
  },
  {
   "cell_type": "code",
   "execution_count": 14,
   "metadata": {},
   "outputs": [],
   "source": [
    "#TODO: integrate with Sonia's retrieval code to get data for each query\n",
    "#TODO: Integrate this into a UI\n",
    "#TODO: See how to resolve the issue of the word \"query\" not being present in the output\n",
    "#TODO: clean up code and choose better variable names"
   ]
  },
  {
   "cell_type": "code",
   "execution_count": null,
   "metadata": {},
   "outputs": [],
   "source": []
  }
 ],
 "metadata": {
  "kernelspec": {
   "display_name": "langchain_env",
   "language": "python",
   "name": "python3"
  },
  "language_info": {
   "codemirror_mode": {
    "name": "ipython",
    "version": 3
   },
   "file_extension": ".py",
   "mimetype": "text/x-python",
   "name": "python",
   "nbconvert_exporter": "python",
   "pygments_lexer": "ipython3",
   "version": "3.11.7"
  }
 },
 "nbformat": 4,
 "nbformat_minor": 2
}
