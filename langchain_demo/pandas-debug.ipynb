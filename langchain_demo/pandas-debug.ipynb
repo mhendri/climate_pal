{
 "cells": [
  {
   "cell_type": "markdown",
   "metadata": {},
   "source": [
    "# Setup"
   ]
  },
  {
   "cell_type": "code",
   "execution_count": 1,
   "metadata": {},
   "outputs": [],
   "source": [
    "import pandas as pd\n",
    "import os\n",
    "\n",
    "path = './paths.txt'"
   ]
  },
  {
   "cell_type": "code",
   "execution_count": 2,
   "metadata": {},
   "outputs": [
    {
     "data": {
      "text/plain": [
       "223"
      ]
     },
     "execution_count": 2,
     "metadata": {},
     "output_type": "execute_result"
    }
   ],
   "source": [
    "dicts = {}\n",
    "with open(path, 'r') as file:\n",
    "    for l in file.readlines():\n",
    "        if '/v20' in l and '.html' in l:\n",
    "            url = l[:-1] #remove newline char\n",
    "            lsplit = url.split('/')\n",
    "            url_clean = '/'.join(lsplit[:-1]) # so they go up to and including the version directory\n",
    "            dicts[url_clean] = {'activity_id':lsplit[3],\n",
    "                            'experiment_id':lsplit[6],\n",
    "                            'temporal_resolution':lsplit[8],\n",
    "                            'variable':lsplit[9]}\n",
    "\n",
    "len(dicts)"
   ]
  },
  {
   "cell_type": "code",
   "execution_count": 3,
   "metadata": {},
   "outputs": [
    {
     "data": {
      "text/html": [
       "<div>\n",
       "<style scoped>\n",
       "    .dataframe tbody tr th:only-of-type {\n",
       "        vertical-align: middle;\n",
       "    }\n",
       "\n",
       "    .dataframe tbody tr th {\n",
       "        vertical-align: top;\n",
       "    }\n",
       "\n",
       "    .dataframe thead th {\n",
       "        text-align: right;\n",
       "    }\n",
       "</style>\n",
       "<table border=\"1\" class=\"dataframe\">\n",
       "  <thead>\n",
       "    <tr style=\"text-align: right;\">\n",
       "      <th></th>\n",
       "      <th>activity_id</th>\n",
       "      <th>experiment_id</th>\n",
       "      <th>temporal_resolution</th>\n",
       "      <th>variable</th>\n",
       "    </tr>\n",
       "  </thead>\n",
       "  <tbody>\n",
       "    <tr>\n",
       "      <th>portal.nccs.nasa.gov/datashare/giss_cmip6/ScenarioMIP/NASA-GISS/GISS-E2-1-G/ssp119/r1i1p1f2/Omon/htovovrt/gn/v20200115</th>\n",
       "      <td>ScenarioMIP</td>\n",
       "      <td>ssp119</td>\n",
       "      <td>Omon</td>\n",
       "      <td>htovovrt</td>\n",
       "    </tr>\n",
       "    <tr>\n",
       "      <th>portal.nccs.nasa.gov/datashare/giss_cmip6/ScenarioMIP/NASA-GISS/GISS-E2-1-G/ssp119/r1i1p1f2/Omon/msftbarot/gn/v20200115</th>\n",
       "      <td>ScenarioMIP</td>\n",
       "      <td>ssp119</td>\n",
       "      <td>Omon</td>\n",
       "      <td>msftbarot</td>\n",
       "    </tr>\n",
       "    <tr>\n",
       "      <th>portal.nccs.nasa.gov/datashare/giss_cmip6/ScenarioMIP/NASA-GISS/GISS-E2-1-G/ssp119/r1i1p1f2/Omon/vo/gn/v20200115</th>\n",
       "      <td>ScenarioMIP</td>\n",
       "      <td>ssp119</td>\n",
       "      <td>Omon</td>\n",
       "      <td>vo</td>\n",
       "    </tr>\n",
       "    <tr>\n",
       "      <th>portal.nccs.nasa.gov/datashare/giss_cmip6/ScenarioMIP/NASA-GISS/GISS-E2-1-G/ssp119/r1i1p1f2/Omon/sfdsi/gn/v20220812</th>\n",
       "      <td>ScenarioMIP</td>\n",
       "      <td>ssp119</td>\n",
       "      <td>Omon</td>\n",
       "      <td>sfdsi</td>\n",
       "    </tr>\n",
       "    <tr>\n",
       "      <th>portal.nccs.nasa.gov/datashare/giss_cmip6/ScenarioMIP/NASA-GISS/GISS-E2-1-G/ssp119/r1i1p1f2/Omon/sltovovrt/gn/v20200115</th>\n",
       "      <td>ScenarioMIP</td>\n",
       "      <td>ssp119</td>\n",
       "      <td>Omon</td>\n",
       "      <td>sltovovrt</td>\n",
       "    </tr>\n",
       "  </tbody>\n",
       "</table>\n",
       "</div>"
      ],
      "text/plain": [
       "                                                    activity_id experiment_id  \\\n",
       "portal.nccs.nasa.gov/datashare/giss_cmip6/Scena...  ScenarioMIP        ssp119   \n",
       "portal.nccs.nasa.gov/datashare/giss_cmip6/Scena...  ScenarioMIP        ssp119   \n",
       "portal.nccs.nasa.gov/datashare/giss_cmip6/Scena...  ScenarioMIP        ssp119   \n",
       "portal.nccs.nasa.gov/datashare/giss_cmip6/Scena...  ScenarioMIP        ssp119   \n",
       "portal.nccs.nasa.gov/datashare/giss_cmip6/Scena...  ScenarioMIP        ssp119   \n",
       "\n",
       "                                                   temporal_resolution  \\\n",
       "portal.nccs.nasa.gov/datashare/giss_cmip6/Scena...                Omon   \n",
       "portal.nccs.nasa.gov/datashare/giss_cmip6/Scena...                Omon   \n",
       "portal.nccs.nasa.gov/datashare/giss_cmip6/Scena...                Omon   \n",
       "portal.nccs.nasa.gov/datashare/giss_cmip6/Scena...                Omon   \n",
       "portal.nccs.nasa.gov/datashare/giss_cmip6/Scena...                Omon   \n",
       "\n",
       "                                                     variable  \n",
       "portal.nccs.nasa.gov/datashare/giss_cmip6/Scena...   htovovrt  \n",
       "portal.nccs.nasa.gov/datashare/giss_cmip6/Scena...  msftbarot  \n",
       "portal.nccs.nasa.gov/datashare/giss_cmip6/Scena...         vo  \n",
       "portal.nccs.nasa.gov/datashare/giss_cmip6/Scena...      sfdsi  \n",
       "portal.nccs.nasa.gov/datashare/giss_cmip6/Scena...  sltovovrt  "
      ]
     },
     "execution_count": 3,
     "metadata": {},
     "output_type": "execute_result"
    }
   ],
   "source": [
    "df = pd.DataFrame.from_dict(dicts, orient='index')\n",
    "df.head()"
   ]
  },
  {
   "cell_type": "code",
   "execution_count": 4,
   "metadata": {},
   "outputs": [
    {
     "data": {
      "text/html": [
       "<div>\n",
       "<style scoped>\n",
       "    .dataframe tbody tr th:only-of-type {\n",
       "        vertical-align: middle;\n",
       "    }\n",
       "\n",
       "    .dataframe tbody tr th {\n",
       "        vertical-align: top;\n",
       "    }\n",
       "\n",
       "    .dataframe thead th {\n",
       "        text-align: right;\n",
       "    }\n",
       "</style>\n",
       "<table border=\"1\" class=\"dataframe\">\n",
       "  <thead>\n",
       "    <tr style=\"text-align: right;\">\n",
       "      <th></th>\n",
       "      <th>activity_id</th>\n",
       "      <th>experiment_id</th>\n",
       "      <th>temporal_resolution</th>\n",
       "      <th>variable</th>\n",
       "    </tr>\n",
       "  </thead>\n",
       "  <tbody>\n",
       "    <tr>\n",
       "      <th>portal.nccs.nasa.gov/datashare/giss_cmip6/ScenarioMIP/NASA-GISS/GISS-E2-1-G/ssp119/r1i1p1f2/6hrPlevPt/ta/gn/v20200115</th>\n",
       "      <td>ScenarioMIP</td>\n",
       "      <td>ssp119</td>\n",
       "      <td>6hrPlevPt</td>\n",
       "      <td>ta</td>\n",
       "    </tr>\n",
       "    <tr>\n",
       "      <th>portal.nccs.nasa.gov/datashare/giss_cmip6/ScenarioMIP/NASA-GISS/GISS-E2-1-G/ssp119/r1i1p1f2/Amon/ta/gn/v20200115</th>\n",
       "      <td>ScenarioMIP</td>\n",
       "      <td>ssp119</td>\n",
       "      <td>Amon</td>\n",
       "      <td>ta</td>\n",
       "    </tr>\n",
       "    <tr>\n",
       "      <th>portal.nccs.nasa.gov/datashare/giss_cmip6/ScenarioMIP/NASA-GISS/GISS-E2-1-G/ssp119/r1i1p1f2/6hrLev/ta/gn/v20200115</th>\n",
       "      <td>ScenarioMIP</td>\n",
       "      <td>ssp119</td>\n",
       "      <td>6hrLev</td>\n",
       "      <td>ta</td>\n",
       "    </tr>\n",
       "    <tr>\n",
       "      <th>portal.nccs.nasa.gov/datashare/giss_cmip6/ScenarioMIP/NASA-GISS/GISS-E2-1-G/ssp119/r1i1p1f2/day/ta/gn/v20200115</th>\n",
       "      <td>ScenarioMIP</td>\n",
       "      <td>ssp119</td>\n",
       "      <td>day</td>\n",
       "      <td>ta</td>\n",
       "    </tr>\n",
       "  </tbody>\n",
       "</table>\n",
       "</div>"
      ],
      "text/plain": [
       "                                                    activity_id experiment_id  \\\n",
       "portal.nccs.nasa.gov/datashare/giss_cmip6/Scena...  ScenarioMIP        ssp119   \n",
       "portal.nccs.nasa.gov/datashare/giss_cmip6/Scena...  ScenarioMIP        ssp119   \n",
       "portal.nccs.nasa.gov/datashare/giss_cmip6/Scena...  ScenarioMIP        ssp119   \n",
       "portal.nccs.nasa.gov/datashare/giss_cmip6/Scena...  ScenarioMIP        ssp119   \n",
       "\n",
       "                                                   temporal_resolution  \\\n",
       "portal.nccs.nasa.gov/datashare/giss_cmip6/Scena...           6hrPlevPt   \n",
       "portal.nccs.nasa.gov/datashare/giss_cmip6/Scena...                Amon   \n",
       "portal.nccs.nasa.gov/datashare/giss_cmip6/Scena...              6hrLev   \n",
       "portal.nccs.nasa.gov/datashare/giss_cmip6/Scena...                 day   \n",
       "\n",
       "                                                   variable  \n",
       "portal.nccs.nasa.gov/datashare/giss_cmip6/Scena...       ta  \n",
       "portal.nccs.nasa.gov/datashare/giss_cmip6/Scena...       ta  \n",
       "portal.nccs.nasa.gov/datashare/giss_cmip6/Scena...       ta  \n",
       "portal.nccs.nasa.gov/datashare/giss_cmip6/Scena...       ta  "
      ]
     },
     "execution_count": 4,
     "metadata": {},
     "output_type": "execute_result"
    }
   ],
   "source": [
    "df[(df['variable']=='ta')]"
   ]
  },
  {
   "cell_type": "code",
   "execution_count": 5,
   "metadata": {},
   "outputs": [],
   "source": [
    "docsVAR= {\n",
    "    'ta': 'air temperature. air temperature is the temperature in the atmosphere. It has units of Kelvin (K). Temperature measured in kelvin can be converted to degrees Celsius (°C) by subtracting 273.15. This parameter is available on multiple levels through the atmosphere',\n",
    "    'tas': 'air temperature near surface. air temperature near surface is the temperature of air at 2 meters above the surface of land, sea or inland waters',\n",
    "    'pr': 'precipitation flux. precipitation flux is the flux of water equivalent (rain or snow) reaching the land surface. This includes the liquid and solid phases of water'\n",
    "}\n",
    "docsTR = {\n",
    "    'Amon': 'monthly resolution, for atmospheric variables',\n",
    "    '3hr': 'three (3) hour resolution',\n",
    "    'day': 'daily resolution, measured every day',\n",
    "    'AERmon': 'monthly resolution, for aerosol variables',\n",
    "}\n",
    "df['def_variable']             = df['variable'].apply(lambda x: docsVAR.get(x, 'UNK'))\n",
    "df['def_temporal_resolution'] = df['temporal_resolution'].apply(lambda x: docsTR.get(x, 'UNK'))"
   ]
  },
  {
   "cell_type": "code",
   "execution_count": 6,
   "metadata": {},
   "outputs": [
    {
     "data": {
      "text/html": [
       "<div>\n",
       "<style scoped>\n",
       "    .dataframe tbody tr th:only-of-type {\n",
       "        vertical-align: middle;\n",
       "    }\n",
       "\n",
       "    .dataframe tbody tr th {\n",
       "        vertical-align: top;\n",
       "    }\n",
       "\n",
       "    .dataframe thead th {\n",
       "        text-align: right;\n",
       "    }\n",
       "</style>\n",
       "<table border=\"1\" class=\"dataframe\">\n",
       "  <thead>\n",
       "    <tr style=\"text-align: right;\">\n",
       "      <th></th>\n",
       "      <th>activity_id</th>\n",
       "      <th>experiment_id</th>\n",
       "      <th>temporal_resolution</th>\n",
       "      <th>variable</th>\n",
       "      <th>def_variable</th>\n",
       "      <th>def_temporal_resolution</th>\n",
       "    </tr>\n",
       "  </thead>\n",
       "  <tbody>\n",
       "    <tr>\n",
       "      <th>portal.nccs.nasa.gov/datashare/giss_cmip6/ScenarioMIP/NASA-GISS/GISS-E2-1-G/ssp119/r1i1p1f2/3hr/pr/gn/v20200115</th>\n",
       "      <td>ScenarioMIP</td>\n",
       "      <td>ssp119</td>\n",
       "      <td>3hr</td>\n",
       "      <td>pr</td>\n",
       "      <td>precipitation flux. precipitation flux is the ...</td>\n",
       "      <td>three (3) hour resolution</td>\n",
       "    </tr>\n",
       "    <tr>\n",
       "      <th>portal.nccs.nasa.gov/datashare/giss_cmip6/ScenarioMIP/NASA-GISS/GISS-E2-1-G/ssp119/r1i1p1f2/3hr/tas/gn/v20200115</th>\n",
       "      <td>ScenarioMIP</td>\n",
       "      <td>ssp119</td>\n",
       "      <td>3hr</td>\n",
       "      <td>tas</td>\n",
       "      <td>air temperature near surface. air temperature ...</td>\n",
       "      <td>three (3) hour resolution</td>\n",
       "    </tr>\n",
       "    <tr>\n",
       "      <th>portal.nccs.nasa.gov/datashare/giss_cmip6/ScenarioMIP/NASA-GISS/GISS-E2-1-G/ssp119/r1i1p1f2/Amon/pr/gn/v20200115</th>\n",
       "      <td>ScenarioMIP</td>\n",
       "      <td>ssp119</td>\n",
       "      <td>Amon</td>\n",
       "      <td>pr</td>\n",
       "      <td>precipitation flux. precipitation flux is the ...</td>\n",
       "      <td>monthly resolution, for atmospheric variables</td>\n",
       "    </tr>\n",
       "    <tr>\n",
       "      <th>portal.nccs.nasa.gov/datashare/giss_cmip6/ScenarioMIP/NASA-GISS/GISS-E2-1-G/ssp119/r1i1p1f2/Amon/ta/gn/v20200115</th>\n",
       "      <td>ScenarioMIP</td>\n",
       "      <td>ssp119</td>\n",
       "      <td>Amon</td>\n",
       "      <td>ta</td>\n",
       "      <td>air temperature. air temperature is the temper...</td>\n",
       "      <td>monthly resolution, for atmospheric variables</td>\n",
       "    </tr>\n",
       "    <tr>\n",
       "      <th>portal.nccs.nasa.gov/datashare/giss_cmip6/ScenarioMIP/NASA-GISS/GISS-E2-1-G/ssp119/r1i1p1f2/Amon/tas/gn/v20200115</th>\n",
       "      <td>ScenarioMIP</td>\n",
       "      <td>ssp119</td>\n",
       "      <td>Amon</td>\n",
       "      <td>tas</td>\n",
       "      <td>air temperature near surface. air temperature ...</td>\n",
       "      <td>monthly resolution, for atmospheric variables</td>\n",
       "    </tr>\n",
       "    <tr>\n",
       "      <th>portal.nccs.nasa.gov/datashare/giss_cmip6/ScenarioMIP/NASA-GISS/GISS-E2-1-G/ssp119/r1i1p1f2/day/pr/gn/v20200115</th>\n",
       "      <td>ScenarioMIP</td>\n",
       "      <td>ssp119</td>\n",
       "      <td>day</td>\n",
       "      <td>pr</td>\n",
       "      <td>precipitation flux. precipitation flux is the ...</td>\n",
       "      <td>daily resolution, measured every day</td>\n",
       "    </tr>\n",
       "    <tr>\n",
       "      <th>portal.nccs.nasa.gov/datashare/giss_cmip6/ScenarioMIP/NASA-GISS/GISS-E2-1-G/ssp119/r1i1p1f2/day/ta/gn/v20200115</th>\n",
       "      <td>ScenarioMIP</td>\n",
       "      <td>ssp119</td>\n",
       "      <td>day</td>\n",
       "      <td>ta</td>\n",
       "      <td>air temperature. air temperature is the temper...</td>\n",
       "      <td>daily resolution, measured every day</td>\n",
       "    </tr>\n",
       "    <tr>\n",
       "      <th>portal.nccs.nasa.gov/datashare/giss_cmip6/ScenarioMIP/NASA-GISS/GISS-E2-1-G/ssp119/r1i1p1f2/day/tas/gn/v20200115</th>\n",
       "      <td>ScenarioMIP</td>\n",
       "      <td>ssp119</td>\n",
       "      <td>day</td>\n",
       "      <td>tas</td>\n",
       "      <td>air temperature near surface. air temperature ...</td>\n",
       "      <td>daily resolution, measured every day</td>\n",
       "    </tr>\n",
       "  </tbody>\n",
       "</table>\n",
       "</div>"
      ],
      "text/plain": [
       "                                                    activity_id experiment_id  \\\n",
       "portal.nccs.nasa.gov/datashare/giss_cmip6/Scena...  ScenarioMIP        ssp119   \n",
       "portal.nccs.nasa.gov/datashare/giss_cmip6/Scena...  ScenarioMIP        ssp119   \n",
       "portal.nccs.nasa.gov/datashare/giss_cmip6/Scena...  ScenarioMIP        ssp119   \n",
       "portal.nccs.nasa.gov/datashare/giss_cmip6/Scena...  ScenarioMIP        ssp119   \n",
       "portal.nccs.nasa.gov/datashare/giss_cmip6/Scena...  ScenarioMIP        ssp119   \n",
       "portal.nccs.nasa.gov/datashare/giss_cmip6/Scena...  ScenarioMIP        ssp119   \n",
       "portal.nccs.nasa.gov/datashare/giss_cmip6/Scena...  ScenarioMIP        ssp119   \n",
       "portal.nccs.nasa.gov/datashare/giss_cmip6/Scena...  ScenarioMIP        ssp119   \n",
       "\n",
       "                                                   temporal_resolution  \\\n",
       "portal.nccs.nasa.gov/datashare/giss_cmip6/Scena...                 3hr   \n",
       "portal.nccs.nasa.gov/datashare/giss_cmip6/Scena...                 3hr   \n",
       "portal.nccs.nasa.gov/datashare/giss_cmip6/Scena...                Amon   \n",
       "portal.nccs.nasa.gov/datashare/giss_cmip6/Scena...                Amon   \n",
       "portal.nccs.nasa.gov/datashare/giss_cmip6/Scena...                Amon   \n",
       "portal.nccs.nasa.gov/datashare/giss_cmip6/Scena...                 day   \n",
       "portal.nccs.nasa.gov/datashare/giss_cmip6/Scena...                 day   \n",
       "portal.nccs.nasa.gov/datashare/giss_cmip6/Scena...                 day   \n",
       "\n",
       "                                                   variable  \\\n",
       "portal.nccs.nasa.gov/datashare/giss_cmip6/Scena...       pr   \n",
       "portal.nccs.nasa.gov/datashare/giss_cmip6/Scena...      tas   \n",
       "portal.nccs.nasa.gov/datashare/giss_cmip6/Scena...       pr   \n",
       "portal.nccs.nasa.gov/datashare/giss_cmip6/Scena...       ta   \n",
       "portal.nccs.nasa.gov/datashare/giss_cmip6/Scena...      tas   \n",
       "portal.nccs.nasa.gov/datashare/giss_cmip6/Scena...       pr   \n",
       "portal.nccs.nasa.gov/datashare/giss_cmip6/Scena...       ta   \n",
       "portal.nccs.nasa.gov/datashare/giss_cmip6/Scena...      tas   \n",
       "\n",
       "                                                                                         def_variable  \\\n",
       "portal.nccs.nasa.gov/datashare/giss_cmip6/Scena...  precipitation flux. precipitation flux is the ...   \n",
       "portal.nccs.nasa.gov/datashare/giss_cmip6/Scena...  air temperature near surface. air temperature ...   \n",
       "portal.nccs.nasa.gov/datashare/giss_cmip6/Scena...  precipitation flux. precipitation flux is the ...   \n",
       "portal.nccs.nasa.gov/datashare/giss_cmip6/Scena...  air temperature. air temperature is the temper...   \n",
       "portal.nccs.nasa.gov/datashare/giss_cmip6/Scena...  air temperature near surface. air temperature ...   \n",
       "portal.nccs.nasa.gov/datashare/giss_cmip6/Scena...  precipitation flux. precipitation flux is the ...   \n",
       "portal.nccs.nasa.gov/datashare/giss_cmip6/Scena...  air temperature. air temperature is the temper...   \n",
       "portal.nccs.nasa.gov/datashare/giss_cmip6/Scena...  air temperature near surface. air temperature ...   \n",
       "\n",
       "                                                                          def_temporal_resolution  \n",
       "portal.nccs.nasa.gov/datashare/giss_cmip6/Scena...                      three (3) hour resolution  \n",
       "portal.nccs.nasa.gov/datashare/giss_cmip6/Scena...                      three (3) hour resolution  \n",
       "portal.nccs.nasa.gov/datashare/giss_cmip6/Scena...  monthly resolution, for atmospheric variables  \n",
       "portal.nccs.nasa.gov/datashare/giss_cmip6/Scena...  monthly resolution, for atmospheric variables  \n",
       "portal.nccs.nasa.gov/datashare/giss_cmip6/Scena...  monthly resolution, for atmospheric variables  \n",
       "portal.nccs.nasa.gov/datashare/giss_cmip6/Scena...           daily resolution, measured every day  \n",
       "portal.nccs.nasa.gov/datashare/giss_cmip6/Scena...           daily resolution, measured every day  \n",
       "portal.nccs.nasa.gov/datashare/giss_cmip6/Scena...           daily resolution, measured every day  "
      ]
     },
     "execution_count": 6,
     "metadata": {},
     "output_type": "execute_result"
    }
   ],
   "source": [
    "dfsub = df[(df['def_temporal_resolution']!='UNK') & (df['def_variable']!='UNK')]\n",
    "dfsub"
   ]
  },
  {
   "cell_type": "markdown",
   "metadata": {},
   "source": [
    "# LangChain one-off"
   ]
  },
  {
   "cell_type": "code",
   "execution_count": 7,
   "metadata": {},
   "outputs": [],
   "source": [
    "if not os.environ.get(\"OPENAI_API_KEY\"):\n",
    "    import key\n",
    "    key.init()\n",
    "    assert os.environ.get('OPENAI_API_KEY')"
   ]
  },
  {
   "cell_type": "code",
   "execution_count": 8,
   "metadata": {},
   "outputs": [],
   "source": [
    "from langchain.agents.agent_types import AgentType\n",
    "from langchain_experimental.agents.agent_toolkits import create_pandas_dataframe_agent\n",
    "from langchain_openai import ChatOpenAI, OpenAI\n",
    "\n",
    "agent = create_pandas_dataframe_agent(\n",
    "    ChatOpenAI(temperature=0, model=\"gpt-3.5-turbo-0613\"),\n",
    "    dfsub,\n",
    "    verbose=True,\n",
    "    agent_type=AgentType.OPENAI_FUNCTIONS,\n",
    "    allow_dangerous_code=True\n",
    ")"
   ]
  },
  {
   "cell_type": "code",
   "execution_count": 9,
   "metadata": {},
   "outputs": [
    {
     "name": "stdout",
     "output_type": "stream",
     "text": [
      "\n",
      "\n",
      "\u001b[1m> Entering new AgentExecutor chain...\u001b[0m\n",
      "\u001b[32;1m\u001b[1;3m\n",
      "Invoking: `python_repl_ast` with `{'query': \"df[df['def_variable'].str.contains('air temperature') & df['def_temporal_resolution'].str.contains('monthly')]\"}`\n",
      "\n",
      "\n",
      "\u001b[0m\u001b[36;1m\u001b[1;3m                                                    activity_id experiment_id  \\\n",
      "portal.nccs.nasa.gov/datashare/giss_cmip6/Scena...  ScenarioMIP        ssp119   \n",
      "portal.nccs.nasa.gov/datashare/giss_cmip6/Scena...  ScenarioMIP        ssp119   \n",
      "\n",
      "                                                   temporal_resolution  \\\n",
      "portal.nccs.nasa.gov/datashare/giss_cmip6/Scena...                Amon   \n",
      "portal.nccs.nasa.gov/datashare/giss_cmip6/Scena...                Amon   \n",
      "\n",
      "                                                   variable  \\\n",
      "portal.nccs.nasa.gov/datashare/giss_cmip6/Scena...       ta   \n",
      "portal.nccs.nasa.gov/datashare/giss_cmip6/Scena...      tas   \n",
      "\n",
      "                                                                                         def_variable  \\\n",
      "portal.nccs.nasa.gov/datashare/giss_cmip6/Scena...  air temperature. air temperature is the temper...   \n",
      "portal.nccs.nasa.gov/datashare/giss_cmip6/Scena...  air temperature near surface. air temperature ...   \n",
      "\n",
      "                                                                          def_temporal_resolution  \n",
      "portal.nccs.nasa.gov/datashare/giss_cmip6/Scena...  monthly resolution, for atmospheric variables  \n",
      "portal.nccs.nasa.gov/datashare/giss_cmip6/Scena...  monthly resolution, for atmospheric variables  \u001b[0m\u001b[32;1m\u001b[1;3mThe dataframe `df` contains the following information about air temperature at monthly resolution:\n",
      "\n",
      "|                                                                                                                   | activity_id   | experiment_id   | temporal_resolution   | variable   | def_variable                                                                                                                                                                                                                                                            | def_temporal_resolution                       |\n",
      "|:------------------------------------------------------------------------------------------------------------------|:--------------|:----------------|:----------------------|:-----------|:------------------------------------------------------------------------------------------------------------------------------------------------------------------------------------------------------------------------------------------------------------------------|:----------------------------------------------|\n",
      "| portal.nccs.nasa.gov/datashare/giss_cmip6/ScenarioMIP/NASA-GISS/GISS-E2-1-G/ssp119/r1i1p1f2/Amon/ta/gn/v20200115  | ScenarioMIP   | ssp119          | Amon                  | ta         | air temperature. air temperature is the temperature in the atmosphere. It has units of Kelvin (K). Temperature measured in kelvin can be converted to degrees Celsius (°C) by subtracting 273.15. This parameter is available on multiple levels through the atmosphere | monthly resolution, for atmospheric variables |\n",
      "| portal.nccs.nasa.gov/datashare/giss_cmip6/ScenarioMIP/NASA-GISS/GISS-E2-1-G/ssp119/r1i1p1f2/Amon/tas/gn/v20200115 | ScenarioMIP   | ssp119          | Amon                  | tas        | air temperature near surface. air temperature near surface is the temperature of air at 2 meters above the surface of land, sea or inland waters                                                                                                                        | monthly resolution, for atmospheric variables |\u001b[0m\n",
      "\n",
      "\u001b[1m> Finished chain.\u001b[0m\n"
     ]
    },
    {
     "data": {
      "text/plain": [
       "{'input': ' air temperature monthly resolution?',\n",
       " 'output': 'The dataframe `df` contains the following information about air temperature at monthly resolution:\\n\\n|                                                                                                                   | activity_id   | experiment_id   | temporal_resolution   | variable   | def_variable                                                                                                                                                                                                                                                            | def_temporal_resolution                       |\\n|:------------------------------------------------------------------------------------------------------------------|:--------------|:----------------|:----------------------|:-----------|:------------------------------------------------------------------------------------------------------------------------------------------------------------------------------------------------------------------------------------------------------------------------|:----------------------------------------------|\\n| portal.nccs.nasa.gov/datashare/giss_cmip6/ScenarioMIP/NASA-GISS/GISS-E2-1-G/ssp119/r1i1p1f2/Amon/ta/gn/v20200115  | ScenarioMIP   | ssp119          | Amon                  | ta         | air temperature. air temperature is the temperature in the atmosphere. It has units of Kelvin (K). Temperature measured in kelvin can be converted to degrees Celsius (°C) by subtracting 273.15. This parameter is available on multiple levels through the atmosphere | monthly resolution, for atmospheric variables |\\n| portal.nccs.nasa.gov/datashare/giss_cmip6/ScenarioMIP/NASA-GISS/GISS-E2-1-G/ssp119/r1i1p1f2/Amon/tas/gn/v20200115 | ScenarioMIP   | ssp119          | Amon                  | tas        | air temperature near surface. air temperature near surface is the temperature of air at 2 meters above the surface of land, sea or inland waters                                                                                                                        | monthly resolution, for atmospheric variables |'}"
      ]
     },
     "execution_count": 9,
     "metadata": {},
     "output_type": "execute_result"
    }
   ],
   "source": [
    "agent.invoke(\" air temperature monthly resolution?\")"
   ]
  },
  {
   "cell_type": "markdown",
   "metadata": {},
   "source": [
    "# LangChain conversational"
   ]
  },
  {
   "cell_type": "code",
   "execution_count": 7,
   "metadata": {},
   "outputs": [
    {
     "name": "stderr",
     "output_type": "stream",
     "text": [
      "/Users/snc/opt/anaconda3/envs/giss/lib/python3.11/site-packages/tqdm/auto.py:21: TqdmWarning: IProgress not found. Please update jupyter and ipywidgets. See https://ipywidgets.readthedocs.io/en/stable/user_install.html\n",
      "  from .autonotebook import tqdm as notebook_tqdm\n"
     ]
    }
   ],
   "source": [
    "import openai\n",
    "import chromadb\n",
    "import gradio as gr\n",
    "import os\n",
    "import json\n",
    "\n",
    "from langchain.chains.query_constructor.base import AttributeInfo\n",
    "# from langchain.retrievers.self_query.base import SelfQueryRetriever\n",
    "# from langchain.chains import RetrievalQA\n",
    "from langchain_openai import OpenAIEmbeddings\n",
    "from langchain_community.vectorstores import Chroma\n",
    "from langchain_core.documents import Document\n",
    "from langchain_core.messages import AIMessage, HumanMessage\n",
    "from langchain_openai import ChatOpenAI\n",
    "from langchain_core.prompts import ChatPromptTemplate, MessagesPlaceholder\n",
    "from langchain.chains import create_retrieval_chain, create_history_aware_retriever\n",
    "from langchain.chains.combine_documents import create_stuff_documents_chain\n",
    "\n",
    "if not os.environ.get(\"OPENAI_API_KEY\"):\n",
    "    import key\n",
    "    key.init()\n",
    "    assert os.environ.get('OPENAI_API_KEY')"
   ]
  },
  {
   "cell_type": "code",
   "execution_count": 8,
   "metadata": {},
   "outputs": [],
   "source": [
    "conversation = {'input': 'show me URLs for that at monthly resolution', \n",
    "                'chat_history': [HumanMessage(content='what is temperature'),\n",
    "                AIMessage(content='Temperature is a measure of the average kinetic energy of the particles in a substance. In the context of climate science, temperature refers to the degree of hotness or coldness of the atmosphere, land, or water. It is typically measured in Kelvin (K) and can be converted to degrees Celsius (°C) by subtracting 273.15.')\n",
    "]}"
   ]
  },
  {
   "cell_type": "markdown",
   "metadata": {},
   "source": [
    "## 1. Distill chat history into one standalone query\n",
    "https://python.langchain.com/v0.2/docs/how_to/sequence/"
   ]
  },
  {
   "cell_type": "code",
   "execution_count": 9,
   "metadata": {},
   "outputs": [
    {
     "data": {
      "text/plain": [
       "'show URLs monthly resolution'"
      ]
     },
     "execution_count": 9,
     "metadata": {},
     "output_type": "execute_result"
    }
   ],
   "source": [
    "from langchain_core.prompts import ChatPromptTemplate\n",
    "from langchain_core.output_parsers import StrOutputParser\n",
    "\n",
    "contextualize_q_system_prompt = (\n",
    "    \"Given a chat history and the latest user question \"\n",
    "    \"which might reference context in the chat history, \"\n",
    "    \"summarize the user's request in a few key words without punctuation. \"\n",
    "    \"Do NOT attempt to answer the user's request. \"\n",
    ")\n",
    "contextualize_q_prompt = ChatPromptTemplate.from_messages(\n",
    "    [\n",
    "        (\"system\", contextualize_q_system_prompt),\n",
    "        MessagesPlaceholder(\"chat_history\"),\n",
    "        (\"human\", \"{input}\"),\n",
    "    ]\n",
    ")\n",
    "model = ChatOpenAI(model=\"gpt-3.5-turbo-0125\", temperature=0)\n",
    "chain_standalone = contextualize_q_prompt | model | StrOutputParser()\n",
    "standalone = chain_standalone.invoke(conversation)\n",
    "standalone"
   ]
  },
  {
   "cell_type": "markdown",
   "metadata": {},
   "source": [
    "## 2. Give standalone query to Pandas DataFrame agent"
   ]
  },
  {
   "cell_type": "code",
   "execution_count": 10,
   "metadata": {},
   "outputs": [
    {
     "name": "stdout",
     "output_type": "stream",
     "text": [
      "\n",
      "\n",
      "\u001b[1m> Entering new AgentExecutor chain...\u001b[0m\n",
      "\u001b[32;1m\u001b[1;3m\n",
      "Invoking: `python_repl_ast` with `{'query': \"df[df['def_temporal_resolution'].str.contains('monthly')]['activity_id']\"}`\n",
      "\n",
      "\n",
      "\u001b[0m\u001b[36;1m\u001b[1;3mportal.nccs.nasa.gov/datashare/giss_cmip6/ScenarioMIP/NASA-GISS/GISS-E2-1-G/ssp119/r1i1p1f2/Amon/pr/gn/v20200115     ScenarioMIP\n",
      "portal.nccs.nasa.gov/datashare/giss_cmip6/ScenarioMIP/NASA-GISS/GISS-E2-1-G/ssp119/r1i1p1f2/Amon/ta/gn/v20200115     ScenarioMIP\n",
      "portal.nccs.nasa.gov/datashare/giss_cmip6/ScenarioMIP/NASA-GISS/GISS-E2-1-G/ssp119/r1i1p1f2/Amon/tas/gn/v20200115    ScenarioMIP\n",
      "Name: activity_id, dtype: object\u001b[0m\u001b[32;1m\u001b[1;3mThe URLs with monthly resolution are:\n",
      "\n",
      "1. portal.nccs.nasa.gov/datashare/giss_cmip6/ScenarioMIP/NASA-GISS/GISS-E2-1-G/ssp119/r1i1p1f2/Amon/pr/gn/v20200115\n",
      "2. portal.nccs.nasa.gov/datashare/giss_cmip6/ScenarioMIP/NASA-GISS/GISS-E2-1-G/ssp119/r1i1p1f2/Amon/ta/gn/v20200115\n",
      "3. portal.nccs.nasa.gov/datashare/giss_cmip6/ScenarioMIP/NASA-GISS/GISS-E2-1-G/ssp119/r1i1p1f2/Amon/tas/gn/v20200115\u001b[0m\n",
      "\n",
      "\u001b[1m> Finished chain.\u001b[0m\n"
     ]
    }
   ],
   "source": [
    "from langchain.agents.agent_types import AgentType\n",
    "from langchain_experimental.agents.agent_toolkits import create_pandas_dataframe_agent\n",
    "\n",
    "agent = create_pandas_dataframe_agent(\n",
    "    ChatOpenAI(temperature=0, model=\"gpt-3.5-turbo-0613\"),\n",
    "    dfsub,\n",
    "    verbose=True,\n",
    "    agent_type=AgentType.OPENAI_FUNCTIONS,\n",
    "    allow_dangerous_code=True,\n",
    "    return_intermediate_steps=True\n",
    ")\n",
    "out = agent.invoke(standalone)"
   ]
  },
  {
   "cell_type": "markdown",
   "metadata": {},
   "source": [
    "## 3. Pass message history and DataFrame result to conversational response LLM"
   ]
  },
  {
   "cell_type": "code",
   "execution_count": 11,
   "metadata": {},
   "outputs": [],
   "source": [
    "def get_rag_system_prompt(df_ans=None):\n",
    "    if df_ans is None:\n",
    "        rag_system_prompt = \"\"\"\n",
    "            Given a chat history and the latest user query, which may reference context\n",
    "            in the chat history, answer the user.\n",
    "            \"\"\"\n",
    "    else:\n",
    "        rag_system_prompt = f\"\"\"\n",
    "            You have access to a dataframe `df`. Here is the output of `df.to_markdown()`: \n",
    "            {df_ans.to_markdown()}\n",
    "\n",
    "            Given a chat history and the latest user query, which may reference context\n",
    "            in the chat history, use information in DataFrame `df` to best answer the user.\n",
    "        \"\"\"\n",
    "    return rag_system_prompt\n",
    "\n",
    "\n",
    "rag_prompt = ChatPromptTemplate.from_messages(\n",
    "    [\n",
    "        (\"system\", \"{prompt}\"),\n",
    "        MessagesPlaceholder(\"chat_history\"),\n",
    "        (\"human\", \"{input}\"),\n",
    "    ]\n",
    ")\n",
    "chain = rag_prompt | model | StrOutputParser()"
   ]
  },
  {
   "cell_type": "code",
   "execution_count": 12,
   "metadata": {},
   "outputs": [
    {
     "data": {
      "text/plain": [
       "'Based on the information in the DataFrame `df`, here are URLs for temperature data at monthly resolution:\\n\\n1. [portal.nccs.nasa.gov/datashare/giss_cmip6/ScenarioMIP/NASA-GISS/GISS-E2-1-G/ssp119/r1i1p1f2/Amon/ta/gn/v20200115](portal.nccs.nasa.gov/datashare/giss_cmip6/ScenarioMIP/NASA-GISS/GISS-E2-1-G/ssp119/r1i1p1f2/Amon/ta/gn/v20200115) - This URL provides data for temperature (ta) at monthly resolution.\\n\\n2. [portal.nccs.nasa.gov/datashare/giss_cmip6/ScenarioMIP/NASA-GISS/GISS-E2-1-G/ssp119/r1i1p1f2/Amon/tas/gn/v20200115](portal.nccs.nasa.gov/datashare/giss_cmip6/ScenarioMIP/NASA-GISS/GISS-E2-1-G/ssp119/r1i1p1f2/Amon/tas/gn/v20200115) - This URL provides data for surface air temperature (tas) at monthly resolution.\\n\\nThese URLs lead to data sources where you can access temperature data at monthly resolution.'"
      ]
     },
     "execution_count": 12,
     "metadata": {},
     "output_type": "execute_result"
    }
   ],
   "source": [
    "df_ans = out['intermediate_steps'][0][1]\n",
    "\n",
    "rag_system_prompt = get_rag_system_prompt(df_ans)\n",
    "chain.invoke(dict(conversation, **{'prompt': rag_system_prompt}))\n"
   ]
  },
  {
   "cell_type": "code",
   "execution_count": null,
   "metadata": {},
   "outputs": [],
   "source": []
  }
 ],
 "metadata": {
  "kernelspec": {
   "display_name": "giss",
   "language": "python",
   "name": "python3"
  },
  "language_info": {
   "codemirror_mode": {
    "name": "ipython",
    "version": 3
   },
   "file_extension": ".py",
   "mimetype": "text/x-python",
   "name": "python",
   "nbconvert_exporter": "python",
   "pygments_lexer": "ipython3",
   "version": "3.11.7"
  }
 },
 "nbformat": 4,
 "nbformat_minor": 2
}
